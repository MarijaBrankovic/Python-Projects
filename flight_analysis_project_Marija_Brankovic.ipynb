{
 "cells": [
  {
   "cell_type": "code",
   "execution_count": 1,
   "metadata": {},
   "outputs": [],
   "source": [
    "import os\n",
    "import numpy as np\n",
    "import pandas as pd\n",
    "import seaborn as sns\n",
    "from matplotlib import pyplot as plt\n",
    "from scipy import interpolate"
   ]
  },
  {
   "cell_type": "code",
   "execution_count": 2,
   "metadata": {},
   "outputs": [],
   "source": [
    "os.chdir(\"C:\\\\Users\\\\User\\\\Desktop\")"
   ]
  },
  {
   "cell_type": "code",
   "execution_count": 34,
   "metadata": {},
   "outputs": [],
   "source": [
    "data = pd.read_csv('flights.csv',low_memory=False)"
   ]
  },
  {
   "cell_type": "code",
   "execution_count": 35,
   "metadata": {},
   "outputs": [],
   "source": [
    "data_airlines = pd.read_csv('airlines.csv',low_memory=False)"
   ]
  },
  {
   "cell_type": "code",
   "execution_count": 36,
   "metadata": {},
   "outputs": [],
   "source": [
    "data_airports = pd.read_csv('airports.csv',low_memory=False)"
   ]
  },
  {
   "cell_type": "code",
   "execution_count": 6,
   "metadata": {},
   "outputs": [
    {
     "data": {
      "text/html": [
       "<div>\n",
       "<style scoped>\n",
       "    .dataframe tbody tr th:only-of-type {\n",
       "        vertical-align: middle;\n",
       "    }\n",
       "\n",
       "    .dataframe tbody tr th {\n",
       "        vertical-align: top;\n",
       "    }\n",
       "\n",
       "    .dataframe thead th {\n",
       "        text-align: right;\n",
       "    }\n",
       "</style>\n",
       "<table border=\"1\" class=\"dataframe\">\n",
       "  <thead>\n",
       "    <tr style=\"text-align: right;\">\n",
       "      <th></th>\n",
       "      <th>YEAR</th>\n",
       "      <th>MONTH</th>\n",
       "      <th>DAY</th>\n",
       "      <th>DAY_OF_WEEK</th>\n",
       "      <th>AIRLINE</th>\n",
       "      <th>FLIGHT_NUMBER</th>\n",
       "      <th>TAIL_NUMBER</th>\n",
       "      <th>ORIGIN_AIRPORT</th>\n",
       "      <th>DESTINATION_AIRPORT</th>\n",
       "      <th>SCHEDULED_DEPARTURE</th>\n",
       "      <th>...</th>\n",
       "      <th>ARRIVAL_TIME</th>\n",
       "      <th>ARRIVAL_DELAY</th>\n",
       "      <th>DIVERTED</th>\n",
       "      <th>CANCELLED</th>\n",
       "      <th>CANCELLATION_REASON</th>\n",
       "      <th>AIR_SYSTEM_DELAY</th>\n",
       "      <th>SECURITY_DELAY</th>\n",
       "      <th>AIRLINE_DELAY</th>\n",
       "      <th>LATE_AIRCRAFT_DELAY</th>\n",
       "      <th>WEATHER_DELAY</th>\n",
       "    </tr>\n",
       "  </thead>\n",
       "  <tbody>\n",
       "    <tr>\n",
       "      <th>0</th>\n",
       "      <td>2015</td>\n",
       "      <td>1</td>\n",
       "      <td>1</td>\n",
       "      <td>4</td>\n",
       "      <td>AS</td>\n",
       "      <td>98</td>\n",
       "      <td>N407AS</td>\n",
       "      <td>ANC</td>\n",
       "      <td>SEA</td>\n",
       "      <td>5</td>\n",
       "      <td>...</td>\n",
       "      <td>408.0</td>\n",
       "      <td>-22.0</td>\n",
       "      <td>0</td>\n",
       "      <td>0</td>\n",
       "      <td>NaN</td>\n",
       "      <td>NaN</td>\n",
       "      <td>NaN</td>\n",
       "      <td>NaN</td>\n",
       "      <td>NaN</td>\n",
       "      <td>NaN</td>\n",
       "    </tr>\n",
       "    <tr>\n",
       "      <th>1</th>\n",
       "      <td>2015</td>\n",
       "      <td>1</td>\n",
       "      <td>1</td>\n",
       "      <td>4</td>\n",
       "      <td>AA</td>\n",
       "      <td>2336</td>\n",
       "      <td>N3KUAA</td>\n",
       "      <td>LAX</td>\n",
       "      <td>PBI</td>\n",
       "      <td>10</td>\n",
       "      <td>...</td>\n",
       "      <td>741.0</td>\n",
       "      <td>-9.0</td>\n",
       "      <td>0</td>\n",
       "      <td>0</td>\n",
       "      <td>NaN</td>\n",
       "      <td>NaN</td>\n",
       "      <td>NaN</td>\n",
       "      <td>NaN</td>\n",
       "      <td>NaN</td>\n",
       "      <td>NaN</td>\n",
       "    </tr>\n",
       "    <tr>\n",
       "      <th>2</th>\n",
       "      <td>2015</td>\n",
       "      <td>1</td>\n",
       "      <td>1</td>\n",
       "      <td>4</td>\n",
       "      <td>US</td>\n",
       "      <td>840</td>\n",
       "      <td>N171US</td>\n",
       "      <td>SFO</td>\n",
       "      <td>CLT</td>\n",
       "      <td>20</td>\n",
       "      <td>...</td>\n",
       "      <td>811.0</td>\n",
       "      <td>5.0</td>\n",
       "      <td>0</td>\n",
       "      <td>0</td>\n",
       "      <td>NaN</td>\n",
       "      <td>NaN</td>\n",
       "      <td>NaN</td>\n",
       "      <td>NaN</td>\n",
       "      <td>NaN</td>\n",
       "      <td>NaN</td>\n",
       "    </tr>\n",
       "    <tr>\n",
       "      <th>3</th>\n",
       "      <td>2015</td>\n",
       "      <td>1</td>\n",
       "      <td>1</td>\n",
       "      <td>4</td>\n",
       "      <td>AA</td>\n",
       "      <td>258</td>\n",
       "      <td>N3HYAA</td>\n",
       "      <td>LAX</td>\n",
       "      <td>MIA</td>\n",
       "      <td>20</td>\n",
       "      <td>...</td>\n",
       "      <td>756.0</td>\n",
       "      <td>-9.0</td>\n",
       "      <td>0</td>\n",
       "      <td>0</td>\n",
       "      <td>NaN</td>\n",
       "      <td>NaN</td>\n",
       "      <td>NaN</td>\n",
       "      <td>NaN</td>\n",
       "      <td>NaN</td>\n",
       "      <td>NaN</td>\n",
       "    </tr>\n",
       "    <tr>\n",
       "      <th>4</th>\n",
       "      <td>2015</td>\n",
       "      <td>1</td>\n",
       "      <td>1</td>\n",
       "      <td>4</td>\n",
       "      <td>AS</td>\n",
       "      <td>135</td>\n",
       "      <td>N527AS</td>\n",
       "      <td>SEA</td>\n",
       "      <td>ANC</td>\n",
       "      <td>25</td>\n",
       "      <td>...</td>\n",
       "      <td>259.0</td>\n",
       "      <td>-21.0</td>\n",
       "      <td>0</td>\n",
       "      <td>0</td>\n",
       "      <td>NaN</td>\n",
       "      <td>NaN</td>\n",
       "      <td>NaN</td>\n",
       "      <td>NaN</td>\n",
       "      <td>NaN</td>\n",
       "      <td>NaN</td>\n",
       "    </tr>\n",
       "  </tbody>\n",
       "</table>\n",
       "<p>5 rows × 31 columns</p>\n",
       "</div>"
      ],
      "text/plain": [
       "   YEAR  MONTH  DAY  DAY_OF_WEEK AIRLINE  FLIGHT_NUMBER TAIL_NUMBER  \\\n",
       "0  2015      1    1            4      AS             98      N407AS   \n",
       "1  2015      1    1            4      AA           2336      N3KUAA   \n",
       "2  2015      1    1            4      US            840      N171US   \n",
       "3  2015      1    1            4      AA            258      N3HYAA   \n",
       "4  2015      1    1            4      AS            135      N527AS   \n",
       "\n",
       "  ORIGIN_AIRPORT DESTINATION_AIRPORT  SCHEDULED_DEPARTURE  ...  ARRIVAL_TIME  \\\n",
       "0            ANC                 SEA                    5  ...         408.0   \n",
       "1            LAX                 PBI                   10  ...         741.0   \n",
       "2            SFO                 CLT                   20  ...         811.0   \n",
       "3            LAX                 MIA                   20  ...         756.0   \n",
       "4            SEA                 ANC                   25  ...         259.0   \n",
       "\n",
       "   ARRIVAL_DELAY  DIVERTED  CANCELLED  CANCELLATION_REASON  AIR_SYSTEM_DELAY  \\\n",
       "0          -22.0         0          0                  NaN               NaN   \n",
       "1           -9.0         0          0                  NaN               NaN   \n",
       "2            5.0         0          0                  NaN               NaN   \n",
       "3           -9.0         0          0                  NaN               NaN   \n",
       "4          -21.0         0          0                  NaN               NaN   \n",
       "\n",
       "   SECURITY_DELAY  AIRLINE_DELAY  LATE_AIRCRAFT_DELAY  WEATHER_DELAY  \n",
       "0             NaN            NaN                  NaN            NaN  \n",
       "1             NaN            NaN                  NaN            NaN  \n",
       "2             NaN            NaN                  NaN            NaN  \n",
       "3             NaN            NaN                  NaN            NaN  \n",
       "4             NaN            NaN                  NaN            NaN  \n",
       "\n",
       "[5 rows x 31 columns]"
      ]
     },
     "execution_count": 6,
     "metadata": {},
     "output_type": "execute_result"
    }
   ],
   "source": [
    "data.head()"
   ]
  },
  {
   "cell_type": "code",
   "execution_count": 37,
   "metadata": {},
   "outputs": [],
   "source": [
    "cleanup_names= {\"CANCELLED\": {0: \"No\", 1: \"Yes\"},\"DIVERTED\": {0: \"No\", 1: \"Yes\"},\"CANCELLATION_REASON\":  {\"B\": \"Weather\",\"A\": \"Airline/Carrier\",\"C\":\"National Air System\",\"D\":\"Security\"},\n",
    "\"MONTH\": {1: \"January\",2:\"February\",3:\"March\",4:\"April\",5:\"May\",6:\"June\",7:\"July\",8:\"August\",9:\"September\",10:\"October\",11:\"November\",12:\"December\"}, \n",
    " \"DAY_OF_WEEK\":{1:\"Monday\",2:\"Tuesday\",3:\"Wednesday\",4:\"Thursday\",5:\"Friday\",6:\"Saturday\",7:\"Sunday\"}}"
   ]
  },
  {
   "cell_type": "code",
   "execution_count": 38,
   "metadata": {},
   "outputs": [],
   "source": [
    "data = data.replace(cleanup_names)"
   ]
  },
  {
   "cell_type": "code",
   "execution_count": 8,
   "metadata": {},
   "outputs": [
    {
     "data": {
      "text/html": [
       "<div>\n",
       "<style scoped>\n",
       "    .dataframe tbody tr th:only-of-type {\n",
       "        vertical-align: middle;\n",
       "    }\n",
       "\n",
       "    .dataframe tbody tr th {\n",
       "        vertical-align: top;\n",
       "    }\n",
       "\n",
       "    .dataframe thead th {\n",
       "        text-align: right;\n",
       "    }\n",
       "</style>\n",
       "<table border=\"1\" class=\"dataframe\">\n",
       "  <thead>\n",
       "    <tr style=\"text-align: right;\">\n",
       "      <th></th>\n",
       "      <th>IATA_CODE</th>\n",
       "      <th>AIRLINE</th>\n",
       "    </tr>\n",
       "  </thead>\n",
       "  <tbody>\n",
       "    <tr>\n",
       "      <th>0</th>\n",
       "      <td>UA</td>\n",
       "      <td>United Air Lines Inc.</td>\n",
       "    </tr>\n",
       "    <tr>\n",
       "      <th>1</th>\n",
       "      <td>AA</td>\n",
       "      <td>American Airlines Inc.</td>\n",
       "    </tr>\n",
       "    <tr>\n",
       "      <th>2</th>\n",
       "      <td>US</td>\n",
       "      <td>US Airways Inc.</td>\n",
       "    </tr>\n",
       "    <tr>\n",
       "      <th>3</th>\n",
       "      <td>F9</td>\n",
       "      <td>Frontier Airlines Inc.</td>\n",
       "    </tr>\n",
       "    <tr>\n",
       "      <th>4</th>\n",
       "      <td>B6</td>\n",
       "      <td>JetBlue Airways</td>\n",
       "    </tr>\n",
       "    <tr>\n",
       "      <th>5</th>\n",
       "      <td>OO</td>\n",
       "      <td>Skywest Airlines Inc.</td>\n",
       "    </tr>\n",
       "    <tr>\n",
       "      <th>6</th>\n",
       "      <td>AS</td>\n",
       "      <td>Alaska Airlines Inc.</td>\n",
       "    </tr>\n",
       "    <tr>\n",
       "      <th>7</th>\n",
       "      <td>NK</td>\n",
       "      <td>Spirit Air Lines</td>\n",
       "    </tr>\n",
       "    <tr>\n",
       "      <th>8</th>\n",
       "      <td>WN</td>\n",
       "      <td>Southwest Airlines Co.</td>\n",
       "    </tr>\n",
       "    <tr>\n",
       "      <th>9</th>\n",
       "      <td>DL</td>\n",
       "      <td>Delta Air Lines Inc.</td>\n",
       "    </tr>\n",
       "    <tr>\n",
       "      <th>10</th>\n",
       "      <td>EV</td>\n",
       "      <td>Atlantic Southeast Airlines</td>\n",
       "    </tr>\n",
       "    <tr>\n",
       "      <th>11</th>\n",
       "      <td>HA</td>\n",
       "      <td>Hawaiian Airlines Inc.</td>\n",
       "    </tr>\n",
       "    <tr>\n",
       "      <th>12</th>\n",
       "      <td>MQ</td>\n",
       "      <td>American Eagle Airlines Inc.</td>\n",
       "    </tr>\n",
       "    <tr>\n",
       "      <th>13</th>\n",
       "      <td>VX</td>\n",
       "      <td>Virgin America</td>\n",
       "    </tr>\n",
       "  </tbody>\n",
       "</table>\n",
       "</div>"
      ],
      "text/plain": [
       "   IATA_CODE                       AIRLINE\n",
       "0         UA         United Air Lines Inc.\n",
       "1         AA        American Airlines Inc.\n",
       "2         US               US Airways Inc.\n",
       "3         F9        Frontier Airlines Inc.\n",
       "4         B6               JetBlue Airways\n",
       "5         OO         Skywest Airlines Inc.\n",
       "6         AS          Alaska Airlines Inc.\n",
       "7         NK              Spirit Air Lines\n",
       "8         WN        Southwest Airlines Co.\n",
       "9         DL          Delta Air Lines Inc.\n",
       "10        EV   Atlantic Southeast Airlines\n",
       "11        HA        Hawaiian Airlines Inc.\n",
       "12        MQ  American Eagle Airlines Inc.\n",
       "13        VX                Virgin America"
      ]
     },
     "execution_count": 8,
     "metadata": {},
     "output_type": "execute_result"
    }
   ],
   "source": [
    "data_airlines"
   ]
  },
  {
   "cell_type": "code",
   "execution_count": 9,
   "metadata": {},
   "outputs": [],
   "source": [
    "airlines_dict = data_airlines.set_index('IATA_CODE')['AIRLINE'].to_dict()\n",
    "data['AIRLINE'] = data['AIRLINE'].replace(airlines_dict)"
   ]
  },
  {
   "cell_type": "code",
   "execution_count": 10,
   "metadata": {},
   "outputs": [
    {
     "data": {
      "text/plain": [
       "Southwest Airlines Co.          1261855\n",
       "Delta Air Lines Inc.             875881\n",
       "American Airlines Inc.           725984\n",
       "Skywest Airlines Inc.            588353\n",
       "Atlantic Southeast Airlines      571977\n",
       "United Air Lines Inc.            515723\n",
       "American Eagle Airlines Inc.     294632\n",
       "JetBlue Airways                  267048\n",
       "US Airways Inc.                  198715\n",
       "Alaska Airlines Inc.             172521\n",
       "Spirit Air Lines                 117379\n",
       "Frontier Airlines Inc.            90836\n",
       "Hawaiian Airlines Inc.            76272\n",
       "Virgin America                    61903\n",
       "Name: AIRLINE, dtype: int64"
      ]
     },
     "execution_count": 10,
     "metadata": {},
     "output_type": "execute_result"
    }
   ],
   "source": [
    "data['AIRLINE'].value_counts()"
   ]
  },
  {
   "cell_type": "code",
   "execution_count": 11,
   "metadata": {},
   "outputs": [
    {
     "data": {
      "text/html": [
       "<div>\n",
       "<style scoped>\n",
       "    .dataframe tbody tr th:only-of-type {\n",
       "        vertical-align: middle;\n",
       "    }\n",
       "\n",
       "    .dataframe tbody tr th {\n",
       "        vertical-align: top;\n",
       "    }\n",
       "\n",
       "    .dataframe thead th {\n",
       "        text-align: right;\n",
       "    }\n",
       "</style>\n",
       "<table border=\"1\" class=\"dataframe\">\n",
       "  <thead>\n",
       "    <tr style=\"text-align: right;\">\n",
       "      <th></th>\n",
       "      <th>IATA_CODE</th>\n",
       "      <th>AIRPORT</th>\n",
       "      <th>CITY</th>\n",
       "      <th>STATE</th>\n",
       "      <th>COUNTRY</th>\n",
       "      <th>LATITUDE</th>\n",
       "      <th>LONGITUDE</th>\n",
       "    </tr>\n",
       "  </thead>\n",
       "  <tbody>\n",
       "    <tr>\n",
       "      <th>0</th>\n",
       "      <td>ABE</td>\n",
       "      <td>Lehigh Valley International Airport</td>\n",
       "      <td>Allentown</td>\n",
       "      <td>PA</td>\n",
       "      <td>USA</td>\n",
       "      <td>40.65236</td>\n",
       "      <td>-75.44040</td>\n",
       "    </tr>\n",
       "    <tr>\n",
       "      <th>1</th>\n",
       "      <td>ABI</td>\n",
       "      <td>Abilene Regional Airport</td>\n",
       "      <td>Abilene</td>\n",
       "      <td>TX</td>\n",
       "      <td>USA</td>\n",
       "      <td>32.41132</td>\n",
       "      <td>-99.68190</td>\n",
       "    </tr>\n",
       "    <tr>\n",
       "      <th>2</th>\n",
       "      <td>ABQ</td>\n",
       "      <td>Albuquerque International Sunport</td>\n",
       "      <td>Albuquerque</td>\n",
       "      <td>NM</td>\n",
       "      <td>USA</td>\n",
       "      <td>35.04022</td>\n",
       "      <td>-106.60919</td>\n",
       "    </tr>\n",
       "    <tr>\n",
       "      <th>3</th>\n",
       "      <td>ABR</td>\n",
       "      <td>Aberdeen Regional Airport</td>\n",
       "      <td>Aberdeen</td>\n",
       "      <td>SD</td>\n",
       "      <td>USA</td>\n",
       "      <td>45.44906</td>\n",
       "      <td>-98.42183</td>\n",
       "    </tr>\n",
       "    <tr>\n",
       "      <th>4</th>\n",
       "      <td>ABY</td>\n",
       "      <td>Southwest Georgia Regional Airport</td>\n",
       "      <td>Albany</td>\n",
       "      <td>GA</td>\n",
       "      <td>USA</td>\n",
       "      <td>31.53552</td>\n",
       "      <td>-84.19447</td>\n",
       "    </tr>\n",
       "  </tbody>\n",
       "</table>\n",
       "</div>"
      ],
      "text/plain": [
       "  IATA_CODE                              AIRPORT         CITY STATE COUNTRY  \\\n",
       "0       ABE  Lehigh Valley International Airport    Allentown    PA     USA   \n",
       "1       ABI             Abilene Regional Airport      Abilene    TX     USA   \n",
       "2       ABQ    Albuquerque International Sunport  Albuquerque    NM     USA   \n",
       "3       ABR            Aberdeen Regional Airport     Aberdeen    SD     USA   \n",
       "4       ABY   Southwest Georgia Regional Airport       Albany    GA     USA   \n",
       "\n",
       "   LATITUDE  LONGITUDE  \n",
       "0  40.65236  -75.44040  \n",
       "1  32.41132  -99.68190  \n",
       "2  35.04022 -106.60919  \n",
       "3  45.44906  -98.42183  \n",
       "4  31.53552  -84.19447  "
      ]
     },
     "execution_count": 11,
     "metadata": {},
     "output_type": "execute_result"
    }
   ],
   "source": [
    "data_airports.head()"
   ]
  },
  {
   "cell_type": "code",
   "execution_count": 53,
   "metadata": {},
   "outputs": [],
   "source": [
    "airports_dict = data_airports.set_index('IATA_CODE')['AIRPORT'].to_dict()\n",
    "data['ORIGIN_AIRPORT'] = data['ORIGIN_AIRPORT'].replace(airports_dict)\n",
    "data['DESTINATION_AIRPORT'] = data['DESTINATION_AIRPORT'].replace(airports_dict)"
   ]
  },
  {
   "cell_type": "code",
   "execution_count": 58,
   "metadata": {},
   "outputs": [
    {
     "data": {
      "text/plain": [
       "Hartsfield-Jackson Atlanta International Airport    346836\n",
       "Chicago O'Hare International Airport                285884\n",
       "Dallas/Fort Worth International Airport             239551\n",
       "Denver International Airport                        196055\n",
       "Los Angeles International Airport                   194673\n",
       "Name: ORIGIN_AIRPORT, dtype: int64"
      ]
     },
     "execution_count": 58,
     "metadata": {},
     "output_type": "execute_result"
    }
   ],
   "source": [
    "data['ORIGIN_AIRPORT'].value_counts().head()"
   ]
  },
  {
   "cell_type": "code",
   "execution_count": 14,
   "metadata": {},
   "outputs": [
    {
     "data": {
      "text/plain": [
       "Hartsfield-Jackson Atlanta International Airport    346904\n",
       "Chicago O'Hare International Airport                285906\n",
       "Dallas/Fort Worth International Airport             239582\n",
       "Denver International Airport                        196010\n",
       "Los Angeles International Airport                   194696\n",
       "Name: DESTINATION_AIRPORT, dtype: int64"
      ]
     },
     "execution_count": 14,
     "metadata": {},
     "output_type": "execute_result"
    }
   ],
   "source": [
    "data['DESTINATION_AIRPORT'].value_counts().head()"
   ]
  },
  {
   "cell_type": "code",
   "execution_count": 16,
   "metadata": {},
   "outputs": [
    {
     "data": {
      "text/html": [
       "<div>\n",
       "<style scoped>\n",
       "    .dataframe tbody tr th:only-of-type {\n",
       "        vertical-align: middle;\n",
       "    }\n",
       "\n",
       "    .dataframe tbody tr th {\n",
       "        vertical-align: top;\n",
       "    }\n",
       "\n",
       "    .dataframe thead th {\n",
       "        text-align: right;\n",
       "    }\n",
       "</style>\n",
       "<table border=\"1\" class=\"dataframe\">\n",
       "  <thead>\n",
       "    <tr style=\"text-align: right;\">\n",
       "      <th></th>\n",
       "      <th>YEAR</th>\n",
       "      <th>DAY</th>\n",
       "      <th>FLIGHT_NUMBER</th>\n",
       "      <th>SCHEDULED_DEPARTURE</th>\n",
       "      <th>DEPARTURE_TIME</th>\n",
       "      <th>DEPARTURE_DELAY</th>\n",
       "      <th>TAXI_OUT</th>\n",
       "      <th>WHEELS_OFF</th>\n",
       "      <th>SCHEDULED_TIME</th>\n",
       "      <th>ELAPSED_TIME</th>\n",
       "      <th>...</th>\n",
       "      <th>WHEELS_ON</th>\n",
       "      <th>TAXI_IN</th>\n",
       "      <th>SCHEDULED_ARRIVAL</th>\n",
       "      <th>ARRIVAL_TIME</th>\n",
       "      <th>ARRIVAL_DELAY</th>\n",
       "      <th>AIR_SYSTEM_DELAY</th>\n",
       "      <th>SECURITY_DELAY</th>\n",
       "      <th>AIRLINE_DELAY</th>\n",
       "      <th>LATE_AIRCRAFT_DELAY</th>\n",
       "      <th>WEATHER_DELAY</th>\n",
       "    </tr>\n",
       "  </thead>\n",
       "  <tbody>\n",
       "    <tr>\n",
       "      <th>count</th>\n",
       "      <td>5819079.0</td>\n",
       "      <td>5.819079e+06</td>\n",
       "      <td>5.819079e+06</td>\n",
       "      <td>5.819079e+06</td>\n",
       "      <td>5.732926e+06</td>\n",
       "      <td>5.732926e+06</td>\n",
       "      <td>5.730032e+06</td>\n",
       "      <td>5.730032e+06</td>\n",
       "      <td>5.819073e+06</td>\n",
       "      <td>5.714008e+06</td>\n",
       "      <td>...</td>\n",
       "      <td>5.726566e+06</td>\n",
       "      <td>5.726566e+06</td>\n",
       "      <td>5.819079e+06</td>\n",
       "      <td>5.726566e+06</td>\n",
       "      <td>5.714008e+06</td>\n",
       "      <td>1.063439e+06</td>\n",
       "      <td>1.063439e+06</td>\n",
       "      <td>1.063439e+06</td>\n",
       "      <td>1.063439e+06</td>\n",
       "      <td>1.063439e+06</td>\n",
       "    </tr>\n",
       "    <tr>\n",
       "      <th>mean</th>\n",
       "      <td>2015.0</td>\n",
       "      <td>1.570459e+01</td>\n",
       "      <td>2.173093e+03</td>\n",
       "      <td>1.329602e+03</td>\n",
       "      <td>1.335204e+03</td>\n",
       "      <td>9.370158e+00</td>\n",
       "      <td>1.607166e+01</td>\n",
       "      <td>1.357171e+03</td>\n",
       "      <td>1.416859e+02</td>\n",
       "      <td>1.370062e+02</td>\n",
       "      <td>...</td>\n",
       "      <td>1.471469e+03</td>\n",
       "      <td>7.434971e+00</td>\n",
       "      <td>1.493808e+03</td>\n",
       "      <td>1.476491e+03</td>\n",
       "      <td>4.407057e+00</td>\n",
       "      <td>1.348057e+01</td>\n",
       "      <td>7.615387e-02</td>\n",
       "      <td>1.896955e+01</td>\n",
       "      <td>2.347284e+01</td>\n",
       "      <td>2.915290e+00</td>\n",
       "    </tr>\n",
       "    <tr>\n",
       "      <th>std</th>\n",
       "      <td>0.0</td>\n",
       "      <td>8.783425e+00</td>\n",
       "      <td>1.757064e+03</td>\n",
       "      <td>4.837518e+02</td>\n",
       "      <td>4.964233e+02</td>\n",
       "      <td>3.708094e+01</td>\n",
       "      <td>8.895574e+00</td>\n",
       "      <td>4.980094e+02</td>\n",
       "      <td>7.521058e+01</td>\n",
       "      <td>7.421107e+01</td>\n",
       "      <td>...</td>\n",
       "      <td>5.221879e+02</td>\n",
       "      <td>5.638548e+00</td>\n",
       "      <td>5.071647e+02</td>\n",
       "      <td>5.263197e+02</td>\n",
       "      <td>3.927130e+01</td>\n",
       "      <td>2.800368e+01</td>\n",
       "      <td>2.143460e+00</td>\n",
       "      <td>4.816164e+01</td>\n",
       "      <td>4.319702e+01</td>\n",
       "      <td>2.043334e+01</td>\n",
       "    </tr>\n",
       "    <tr>\n",
       "      <th>min</th>\n",
       "      <td>2015.0</td>\n",
       "      <td>1.000000e+00</td>\n",
       "      <td>1.000000e+00</td>\n",
       "      <td>1.000000e+00</td>\n",
       "      <td>1.000000e+00</td>\n",
       "      <td>-8.200000e+01</td>\n",
       "      <td>1.000000e+00</td>\n",
       "      <td>1.000000e+00</td>\n",
       "      <td>1.800000e+01</td>\n",
       "      <td>1.400000e+01</td>\n",
       "      <td>...</td>\n",
       "      <td>1.000000e+00</td>\n",
       "      <td>1.000000e+00</td>\n",
       "      <td>1.000000e+00</td>\n",
       "      <td>1.000000e+00</td>\n",
       "      <td>-8.700000e+01</td>\n",
       "      <td>0.000000e+00</td>\n",
       "      <td>0.000000e+00</td>\n",
       "      <td>0.000000e+00</td>\n",
       "      <td>0.000000e+00</td>\n",
       "      <td>0.000000e+00</td>\n",
       "    </tr>\n",
       "    <tr>\n",
       "      <th>25%</th>\n",
       "      <td>2015.0</td>\n",
       "      <td>8.000000e+00</td>\n",
       "      <td>7.300000e+02</td>\n",
       "      <td>9.170000e+02</td>\n",
       "      <td>9.210000e+02</td>\n",
       "      <td>-5.000000e+00</td>\n",
       "      <td>1.100000e+01</td>\n",
       "      <td>9.350000e+02</td>\n",
       "      <td>8.500000e+01</td>\n",
       "      <td>8.200000e+01</td>\n",
       "      <td>...</td>\n",
       "      <td>1.054000e+03</td>\n",
       "      <td>4.000000e+00</td>\n",
       "      <td>1.110000e+03</td>\n",
       "      <td>1.059000e+03</td>\n",
       "      <td>-1.300000e+01</td>\n",
       "      <td>0.000000e+00</td>\n",
       "      <td>0.000000e+00</td>\n",
       "      <td>0.000000e+00</td>\n",
       "      <td>0.000000e+00</td>\n",
       "      <td>0.000000e+00</td>\n",
       "    </tr>\n",
       "    <tr>\n",
       "      <th>50%</th>\n",
       "      <td>2015.0</td>\n",
       "      <td>1.600000e+01</td>\n",
       "      <td>1.690000e+03</td>\n",
       "      <td>1.325000e+03</td>\n",
       "      <td>1.330000e+03</td>\n",
       "      <td>-2.000000e+00</td>\n",
       "      <td>1.400000e+01</td>\n",
       "      <td>1.343000e+03</td>\n",
       "      <td>1.230000e+02</td>\n",
       "      <td>1.180000e+02</td>\n",
       "      <td>...</td>\n",
       "      <td>1.509000e+03</td>\n",
       "      <td>6.000000e+00</td>\n",
       "      <td>1.520000e+03</td>\n",
       "      <td>1.512000e+03</td>\n",
       "      <td>-5.000000e+00</td>\n",
       "      <td>2.000000e+00</td>\n",
       "      <td>0.000000e+00</td>\n",
       "      <td>2.000000e+00</td>\n",
       "      <td>3.000000e+00</td>\n",
       "      <td>0.000000e+00</td>\n",
       "    </tr>\n",
       "    <tr>\n",
       "      <th>75%</th>\n",
       "      <td>2015.0</td>\n",
       "      <td>2.300000e+01</td>\n",
       "      <td>3.230000e+03</td>\n",
       "      <td>1.730000e+03</td>\n",
       "      <td>1.740000e+03</td>\n",
       "      <td>7.000000e+00</td>\n",
       "      <td>1.900000e+01</td>\n",
       "      <td>1.754000e+03</td>\n",
       "      <td>1.730000e+02</td>\n",
       "      <td>1.680000e+02</td>\n",
       "      <td>...</td>\n",
       "      <td>1.911000e+03</td>\n",
       "      <td>9.000000e+00</td>\n",
       "      <td>1.918000e+03</td>\n",
       "      <td>1.917000e+03</td>\n",
       "      <td>8.000000e+00</td>\n",
       "      <td>1.800000e+01</td>\n",
       "      <td>0.000000e+00</td>\n",
       "      <td>1.900000e+01</td>\n",
       "      <td>2.900000e+01</td>\n",
       "      <td>0.000000e+00</td>\n",
       "    </tr>\n",
       "    <tr>\n",
       "      <th>max</th>\n",
       "      <td>2015.0</td>\n",
       "      <td>3.100000e+01</td>\n",
       "      <td>9.855000e+03</td>\n",
       "      <td>2.359000e+03</td>\n",
       "      <td>2.400000e+03</td>\n",
       "      <td>1.988000e+03</td>\n",
       "      <td>2.250000e+02</td>\n",
       "      <td>2.400000e+03</td>\n",
       "      <td>7.180000e+02</td>\n",
       "      <td>7.660000e+02</td>\n",
       "      <td>...</td>\n",
       "      <td>2.400000e+03</td>\n",
       "      <td>2.480000e+02</td>\n",
       "      <td>2.400000e+03</td>\n",
       "      <td>2.400000e+03</td>\n",
       "      <td>1.971000e+03</td>\n",
       "      <td>1.134000e+03</td>\n",
       "      <td>5.730000e+02</td>\n",
       "      <td>1.971000e+03</td>\n",
       "      <td>1.331000e+03</td>\n",
       "      <td>1.211000e+03</td>\n",
       "    </tr>\n",
       "  </tbody>\n",
       "</table>\n",
       "<p>8 rows × 22 columns</p>\n",
       "</div>"
      ],
      "text/plain": [
       "            YEAR           DAY  FLIGHT_NUMBER  SCHEDULED_DEPARTURE  \\\n",
       "count  5819079.0  5.819079e+06   5.819079e+06         5.819079e+06   \n",
       "mean      2015.0  1.570459e+01   2.173093e+03         1.329602e+03   \n",
       "std          0.0  8.783425e+00   1.757064e+03         4.837518e+02   \n",
       "min       2015.0  1.000000e+00   1.000000e+00         1.000000e+00   \n",
       "25%       2015.0  8.000000e+00   7.300000e+02         9.170000e+02   \n",
       "50%       2015.0  1.600000e+01   1.690000e+03         1.325000e+03   \n",
       "75%       2015.0  2.300000e+01   3.230000e+03         1.730000e+03   \n",
       "max       2015.0  3.100000e+01   9.855000e+03         2.359000e+03   \n",
       "\n",
       "       DEPARTURE_TIME  DEPARTURE_DELAY      TAXI_OUT    WHEELS_OFF  \\\n",
       "count    5.732926e+06     5.732926e+06  5.730032e+06  5.730032e+06   \n",
       "mean     1.335204e+03     9.370158e+00  1.607166e+01  1.357171e+03   \n",
       "std      4.964233e+02     3.708094e+01  8.895574e+00  4.980094e+02   \n",
       "min      1.000000e+00    -8.200000e+01  1.000000e+00  1.000000e+00   \n",
       "25%      9.210000e+02    -5.000000e+00  1.100000e+01  9.350000e+02   \n",
       "50%      1.330000e+03    -2.000000e+00  1.400000e+01  1.343000e+03   \n",
       "75%      1.740000e+03     7.000000e+00  1.900000e+01  1.754000e+03   \n",
       "max      2.400000e+03     1.988000e+03  2.250000e+02  2.400000e+03   \n",
       "\n",
       "       SCHEDULED_TIME  ELAPSED_TIME  ...     WHEELS_ON       TAXI_IN  \\\n",
       "count    5.819073e+06  5.714008e+06  ...  5.726566e+06  5.726566e+06   \n",
       "mean     1.416859e+02  1.370062e+02  ...  1.471469e+03  7.434971e+00   \n",
       "std      7.521058e+01  7.421107e+01  ...  5.221879e+02  5.638548e+00   \n",
       "min      1.800000e+01  1.400000e+01  ...  1.000000e+00  1.000000e+00   \n",
       "25%      8.500000e+01  8.200000e+01  ...  1.054000e+03  4.000000e+00   \n",
       "50%      1.230000e+02  1.180000e+02  ...  1.509000e+03  6.000000e+00   \n",
       "75%      1.730000e+02  1.680000e+02  ...  1.911000e+03  9.000000e+00   \n",
       "max      7.180000e+02  7.660000e+02  ...  2.400000e+03  2.480000e+02   \n",
       "\n",
       "       SCHEDULED_ARRIVAL  ARRIVAL_TIME  ARRIVAL_DELAY  AIR_SYSTEM_DELAY  \\\n",
       "count       5.819079e+06  5.726566e+06   5.714008e+06      1.063439e+06   \n",
       "mean        1.493808e+03  1.476491e+03   4.407057e+00      1.348057e+01   \n",
       "std         5.071647e+02  5.263197e+02   3.927130e+01      2.800368e+01   \n",
       "min         1.000000e+00  1.000000e+00  -8.700000e+01      0.000000e+00   \n",
       "25%         1.110000e+03  1.059000e+03  -1.300000e+01      0.000000e+00   \n",
       "50%         1.520000e+03  1.512000e+03  -5.000000e+00      2.000000e+00   \n",
       "75%         1.918000e+03  1.917000e+03   8.000000e+00      1.800000e+01   \n",
       "max         2.400000e+03  2.400000e+03   1.971000e+03      1.134000e+03   \n",
       "\n",
       "       SECURITY_DELAY  AIRLINE_DELAY  LATE_AIRCRAFT_DELAY  WEATHER_DELAY  \n",
       "count    1.063439e+06   1.063439e+06         1.063439e+06   1.063439e+06  \n",
       "mean     7.615387e-02   1.896955e+01         2.347284e+01   2.915290e+00  \n",
       "std      2.143460e+00   4.816164e+01         4.319702e+01   2.043334e+01  \n",
       "min      0.000000e+00   0.000000e+00         0.000000e+00   0.000000e+00  \n",
       "25%      0.000000e+00   0.000000e+00         0.000000e+00   0.000000e+00  \n",
       "50%      0.000000e+00   2.000000e+00         3.000000e+00   0.000000e+00  \n",
       "75%      0.000000e+00   1.900000e+01         2.900000e+01   0.000000e+00  \n",
       "max      5.730000e+02   1.971000e+03         1.331000e+03   1.211000e+03  \n",
       "\n",
       "[8 rows x 22 columns]"
      ]
     },
     "execution_count": 16,
     "metadata": {},
     "output_type": "execute_result"
    }
   ],
   "source": [
    "data.describe()"
   ]
  },
  {
   "cell_type": "code",
   "execution_count": 17,
   "metadata": {},
   "outputs": [
    {
     "data": {
      "text/plain": [
       "YEAR                     int64\n",
       "MONTH                   object\n",
       "DAY                      int64\n",
       "DAY_OF_WEEK             object\n",
       "AIRLINE                 object\n",
       "FLIGHT_NUMBER            int64\n",
       "TAIL_NUMBER             object\n",
       "ORIGIN_AIRPORT          object\n",
       "DESTINATION_AIRPORT     object\n",
       "SCHEDULED_DEPARTURE      int64\n",
       "DEPARTURE_TIME         float64\n",
       "DEPARTURE_DELAY        float64\n",
       "TAXI_OUT               float64\n",
       "WHEELS_OFF             float64\n",
       "SCHEDULED_TIME         float64\n",
       "ELAPSED_TIME           float64\n",
       "AIR_TIME               float64\n",
       "DISTANCE                 int64\n",
       "WHEELS_ON              float64\n",
       "TAXI_IN                float64\n",
       "SCHEDULED_ARRIVAL        int64\n",
       "ARRIVAL_TIME           float64\n",
       "ARRIVAL_DELAY          float64\n",
       "DIVERTED                object\n",
       "CANCELLED               object\n",
       "CANCELLATION_REASON     object\n",
       "AIR_SYSTEM_DELAY       float64\n",
       "SECURITY_DELAY         float64\n",
       "AIRLINE_DELAY          float64\n",
       "LATE_AIRCRAFT_DELAY    float64\n",
       "WEATHER_DELAY          float64\n",
       "dtype: object"
      ]
     },
     "execution_count": 17,
     "metadata": {},
     "output_type": "execute_result"
    }
   ],
   "source": [
    "data.dtypes"
   ]
  },
  {
   "cell_type": "code",
   "execution_count": 18,
   "metadata": {},
   "outputs": [
    {
     "data": {
      "text/plain": [
       "July         520718\n",
       "August       510536\n",
       "March        504312\n",
       "June         503897\n",
       "May          496993\n",
       "October      486165\n",
       "April        485151\n",
       "December     479230\n",
       "January      469968\n",
       "November     467972\n",
       "September    464946\n",
       "February     429191\n",
       "Name: MONTH, dtype: int64"
      ]
     },
     "execution_count": 18,
     "metadata": {},
     "output_type": "execute_result"
    }
   ],
   "source": [
    "data['MONTH'].value_counts()"
   ]
  },
  {
   "cell_type": "code",
   "execution_count": 19,
   "metadata": {},
   "outputs": [
    {
     "data": {
      "text/plain": [
       "Thursday     872521\n",
       "Monday       865543\n",
       "Friday       862209\n",
       "Wednesday    855897\n",
       "Tuesday      844600\n",
       "Sunday       817764\n",
       "Saturday     700545\n",
       "Name: DAY_OF_WEEK, dtype: int64"
      ]
     },
     "execution_count": 19,
     "metadata": {},
     "output_type": "execute_result"
    }
   ],
   "source": [
    "data['DAY_OF_WEEK'].value_counts()"
   ]
  },
  {
   "cell_type": "code",
   "execution_count": 20,
   "metadata": {},
   "outputs": [
    {
     "data": {
      "text/plain": [
       "137.00618917579393"
      ]
     },
     "execution_count": 20,
     "metadata": {},
     "output_type": "execute_result"
    }
   ],
   "source": [
    "data['ELAPSED_TIME'].mean()"
   ]
  },
  {
   "cell_type": "code",
   "execution_count": 21,
   "metadata": {},
   "outputs": [
    {
     "data": {
      "text/plain": [
       "822.3564947305235"
      ]
     },
     "execution_count": 21,
     "metadata": {},
     "output_type": "execute_result"
    }
   ],
   "source": [
    "data['DISTANCE'].mean()"
   ]
  },
  {
   "cell_type": "code",
   "execution_count": 22,
   "metadata": {},
   "outputs": [
    {
     "data": {
      "text/plain": [
       "YEAR                         0\n",
       "MONTH                        0\n",
       "DAY                          0\n",
       "DAY_OF_WEEK                  0\n",
       "AIRLINE                      0\n",
       "FLIGHT_NUMBER                0\n",
       "TAIL_NUMBER              14721\n",
       "ORIGIN_AIRPORT               0\n",
       "DESTINATION_AIRPORT          0\n",
       "SCHEDULED_DEPARTURE          0\n",
       "DEPARTURE_TIME           86153\n",
       "DEPARTURE_DELAY          86153\n",
       "TAXI_OUT                 89047\n",
       "WHEELS_OFF               89047\n",
       "SCHEDULED_TIME               6\n",
       "ELAPSED_TIME            105071\n",
       "AIR_TIME                105071\n",
       "DISTANCE                     0\n",
       "WHEELS_ON                92513\n",
       "TAXI_IN                  92513\n",
       "SCHEDULED_ARRIVAL            0\n",
       "ARRIVAL_TIME             92513\n",
       "ARRIVAL_DELAY           105071\n",
       "DIVERTED                     0\n",
       "CANCELLED                    0\n",
       "CANCELLATION_REASON    5729195\n",
       "AIR_SYSTEM_DELAY       4755640\n",
       "SECURITY_DELAY         4755640\n",
       "AIRLINE_DELAY          4755640\n",
       "LATE_AIRCRAFT_DELAY    4755640\n",
       "WEATHER_DELAY          4755640\n",
       "dtype: int64"
      ]
     },
     "execution_count": 22,
     "metadata": {},
     "output_type": "execute_result"
    }
   ],
   "source": [
    "data.isnull().sum()"
   ]
  },
  {
   "cell_type": "code",
   "execution_count": 39,
   "metadata": {},
   "outputs": [
    {
     "data": {
      "text/plain": [
       "<AxesSubplot:>"
      ]
     },
     "execution_count": 39,
     "metadata": {},
     "output_type": "execute_result"
    },
    {
     "data": {
      "image/png": "[encoded data removed]",
      "text/plain": [
       "<Figure size 576x288 with 2 Axes>"
      ]
     },
     "metadata": {
      "needs_background": "light"
     },
     "output_type": "display_data"
    }
   ],
   "source": [
    "#cancelled_num = cancelled_data[['YEAR', 'MONTH', 'DAY', 'DAY_OF_WEEK', 'FLIGHT_NUMBER','SCHEDULED_DEPARTURE', 'DEPARTURE_TIME', 'DEPARTURE_DELAY', 'TAXI_OUT',\n",
    "#       'WHEELS_OFF', 'SCHEDULED_TIME', 'ELAPSED_TIME', 'AIR_TIME', 'DISTANCE','WHEELS_ON', 'TAXI_IN', 'SCHEDULED_ARRIVAL', 'ARRIVAL_TIME',\n",
    "#       'ARRIVAL_DELAY', 'DIVERTED', 'CANCELLED','AIR_SYSTEM_DELAY', 'SECURITY_DELAY', 'AIRLINE_DELAY','LATE_AIRCRAFT_DELAY', 'WEATHER_DELAY']]\n",
    "#with all these numerical columns our correlation matrix has some white columns and rows\n",
    "\n",
    "#now we will use only columns that could give the result of correlation\n",
    "cancelled_num = data[['MONTH', 'DAY', 'DAY_OF_WEEK', 'FLIGHT_NUMBER','SCHEDULED_DEPARTURE', 'DEPARTURE_TIME', 'DEPARTURE_DELAY', 'TAXI_OUT', 'WHEELS_OFF', 'SCHEDULED_TIME',\n",
    "                               'DISTANCE','SCHEDULED_ARRIVAL','ARRIVAL_DELAY']]\n",
    "correlation_mat = cancelled_num.corr()\n",
    "plt.figure(figsize=(8,4))\n",
    "sns.heatmap(correlation_mat, annot=True, fmt='.2f')"
   ]
  },
  {
   "cell_type": "code",
   "execution_count": 41,
   "metadata": {},
   "outputs": [
    {
     "name": "stderr",
     "output_type": "stream",
     "text": [
      "C:\\ProgramData\\Anaconda3\\lib\\site-packages\\seaborn\\_decorators.py:36: FutureWarning: Pass the following variables as keyword args: x, y. From version 0.12, the only valid positional argument will be `data`, and passing other arguments without an explicit keyword will result in an error or misinterpretation.\n",
      "  warnings.warn(\n"
     ]
    },
    {
     "data": {
      "image/png": "[encoded data removed]",
      "text/plain": [
       "<Figure size 432x288 with 1 Axes>"
      ]
     },
     "metadata": {
      "needs_background": "light"
     },
     "output_type": "display_data"
    }
   ],
   "source": [
    "sns.regplot('DEPARTURE_DELAY','ARRIVAL_DELAY', data=data) #  performs linear regression directly in the plot\n",
    "plt.show()"
   ]
  },
  {
   "cell_type": "code",
   "execution_count": 21,
   "metadata": {},
   "outputs": [
    {
     "name": "stdout",
     "output_type": "stream",
     "text": [
      "count    5.732926e+06\n",
      "mean     9.370158e+00\n",
      "std      3.708094e+01\n",
      "min     -8.200000e+01\n",
      "25%     -5.000000e+00\n",
      "50%     -2.000000e+00\n",
      "75%      7.000000e+00\n",
      "85%      2.000000e+01\n",
      "90%      3.500000e+01\n",
      "100%     1.988000e+03\n",
      "max      1.988000e+03\n",
      "Name: DEPARTURE_DELAY, dtype: float64\n"
     ]
    }
   ],
   "source": [
    "print(data.DEPARTURE_DELAY.describe(percentiles = [0.25,0.50,0.75,0.85,0.90,1]))"
   ]
  },
  {
   "cell_type": "code",
   "execution_count": 22,
   "metadata": {},
   "outputs": [
    {
     "name": "stdout",
     "output_type": "stream",
     "text": [
      "count    5.714008e+06\n",
      "mean     4.407057e+00\n",
      "std      3.927130e+01\n",
      "min     -8.700000e+01\n",
      "25%     -1.300000e+01\n",
      "50%     -5.000000e+00\n",
      "75%      8.000000e+00\n",
      "85%      2.000000e+01\n",
      "90%      3.400000e+01\n",
      "100%     1.971000e+03\n",
      "max      1.971000e+03\n",
      "Name: ARRIVAL_DELAY, dtype: float64\n"
     ]
    }
   ],
   "source": [
    "print(data.ARRIVAL_DELAY.describe(percentiles = [0.25,0.50,0.75,0.85,0.90,1]))"
   ]
  },
  {
   "cell_type": "code",
   "execution_count": 23,
   "metadata": {},
   "outputs": [
    {
     "data": {
      "text/plain": [
       "No     5803892\n",
       "Yes      15187\n",
       "Name: DIVERTED, dtype: int64"
      ]
     },
     "execution_count": 23,
     "metadata": {},
     "output_type": "execute_result"
    }
   ],
   "source": [
    "data['DIVERTED'].value_counts()"
   ]
  },
  {
   "cell_type": "code",
   "execution_count": 24,
   "metadata": {},
   "outputs": [
    {
     "data": {
      "text/plain": [
       "No     0.984554\n",
       "Yes    0.015446\n",
       "Name: CANCELLED, dtype: float64"
      ]
     },
     "execution_count": 24,
     "metadata": {},
     "output_type": "execute_result"
    }
   ],
   "source": [
    "data['CANCELLED'].value_counts(normalize = True)"
   ]
  },
  {
   "cell_type": "code",
   "execution_count": 25,
   "metadata": {},
   "outputs": [
    {
     "data": {
      "text/html": [
       "<div>\n",
       "<style scoped>\n",
       "    .dataframe tbody tr th:only-of-type {\n",
       "        vertical-align: middle;\n",
       "    }\n",
       "\n",
       "    .dataframe tbody tr th {\n",
       "        vertical-align: top;\n",
       "    }\n",
       "\n",
       "    .dataframe thead th {\n",
       "        text-align: right;\n",
       "    }\n",
       "</style>\n",
       "<table border=\"1\" class=\"dataframe\">\n",
       "  <thead>\n",
       "    <tr style=\"text-align: right;\">\n",
       "      <th></th>\n",
       "      <th></th>\n",
       "      <th>min</th>\n",
       "      <th>mean</th>\n",
       "      <th>max</th>\n",
       "    </tr>\n",
       "    <tr>\n",
       "      <th>DAY_OF_WEEK</th>\n",
       "      <th>CANCELLED</th>\n",
       "      <th></th>\n",
       "      <th></th>\n",
       "      <th></th>\n",
       "    </tr>\n",
       "  </thead>\n",
       "  <tbody>\n",
       "    <tr>\n",
       "      <th rowspan=\"2\" valign=\"top\">Friday</th>\n",
       "      <th>No</th>\n",
       "      <td>-55.0</td>\n",
       "      <td>9.404951</td>\n",
       "      <td>1988.0</td>\n",
       "    </tr>\n",
       "    <tr>\n",
       "      <th>Yes</th>\n",
       "      <td>-24.0</td>\n",
       "      <td>53.552083</td>\n",
       "      <td>910.0</td>\n",
       "    </tr>\n",
       "    <tr>\n",
       "      <th rowspan=\"2\" valign=\"top\">Monday</th>\n",
       "      <th>No</th>\n",
       "      <td>-61.0</td>\n",
       "      <td>10.821282</td>\n",
       "      <td>1625.0</td>\n",
       "    </tr>\n",
       "    <tr>\n",
       "      <th>Yes</th>\n",
       "      <td>-25.0</td>\n",
       "      <td>62.998778</td>\n",
       "      <td>645.0</td>\n",
       "    </tr>\n",
       "    <tr>\n",
       "      <th rowspan=\"2\" valign=\"top\">Saturday</th>\n",
       "      <th>No</th>\n",
       "      <td>-68.0</td>\n",
       "      <td>7.788214</td>\n",
       "      <td>1878.0</td>\n",
       "    </tr>\n",
       "    <tr>\n",
       "      <th>Yes</th>\n",
       "      <td>-16.0</td>\n",
       "      <td>67.170678</td>\n",
       "      <td>1274.0</td>\n",
       "    </tr>\n",
       "    <tr>\n",
       "      <th rowspan=\"2\" valign=\"top\">Sunday</th>\n",
       "      <th>No</th>\n",
       "      <td>-82.0</td>\n",
       "      <td>9.367854</td>\n",
       "      <td>1670.0</td>\n",
       "    </tr>\n",
       "    <tr>\n",
       "      <th>Yes</th>\n",
       "      <td>-13.0</td>\n",
       "      <td>60.793796</td>\n",
       "      <td>994.0</td>\n",
       "    </tr>\n",
       "    <tr>\n",
       "      <th rowspan=\"2\" valign=\"top\">Thursday</th>\n",
       "      <th>No</th>\n",
       "      <td>-45.0</td>\n",
       "      <td>9.925353</td>\n",
       "      <td>1649.0</td>\n",
       "    </tr>\n",
       "    <tr>\n",
       "      <th>Yes</th>\n",
       "      <td>-21.0</td>\n",
       "      <td>59.320000</td>\n",
       "      <td>645.0</td>\n",
       "    </tr>\n",
       "    <tr>\n",
       "      <th rowspan=\"2\" valign=\"top\">Tuesday</th>\n",
       "      <th>No</th>\n",
       "      <td>-48.0</td>\n",
       "      <td>9.142979</td>\n",
       "      <td>1609.0</td>\n",
       "    </tr>\n",
       "    <tr>\n",
       "      <th>Yes</th>\n",
       "      <td>-23.0</td>\n",
       "      <td>47.762419</td>\n",
       "      <td>1157.0</td>\n",
       "    </tr>\n",
       "    <tr>\n",
       "      <th rowspan=\"2\" valign=\"top\">Wednesday</th>\n",
       "      <th>No</th>\n",
       "      <td>-56.0</td>\n",
       "      <td>8.627734</td>\n",
       "      <td>1589.0</td>\n",
       "    </tr>\n",
       "    <tr>\n",
       "      <th>Yes</th>\n",
       "      <td>-16.0</td>\n",
       "      <td>44.371084</td>\n",
       "      <td>830.0</td>\n",
       "    </tr>\n",
       "  </tbody>\n",
       "</table>\n",
       "</div>"
      ],
      "text/plain": [
       "                        min       mean     max\n",
       "DAY_OF_WEEK CANCELLED                         \n",
       "Friday      No        -55.0   9.404951  1988.0\n",
       "            Yes       -24.0  53.552083   910.0\n",
       "Monday      No        -61.0  10.821282  1625.0\n",
       "            Yes       -25.0  62.998778   645.0\n",
       "Saturday    No        -68.0   7.788214  1878.0\n",
       "            Yes       -16.0  67.170678  1274.0\n",
       "Sunday      No        -82.0   9.367854  1670.0\n",
       "            Yes       -13.0  60.793796   994.0\n",
       "Thursday    No        -45.0   9.925353  1649.0\n",
       "            Yes       -21.0  59.320000   645.0\n",
       "Tuesday     No        -48.0   9.142979  1609.0\n",
       "            Yes       -23.0  47.762419  1157.0\n",
       "Wednesday   No        -56.0   8.627734  1589.0\n",
       "            Yes       -16.0  44.371084   830.0"
      ]
     },
     "execution_count": 25,
     "metadata": {},
     "output_type": "execute_result"
    }
   ],
   "source": [
    "grouped = data['DEPARTURE_DELAY'].groupby([data['DAY_OF_WEEK'], data['CANCELLED']]).agg(['min','mean','max'])\n",
    "grouped"
   ]
  },
  {
   "cell_type": "markdown",
   "metadata": {},
   "source": [
    "## CANCELLED"
   ]
  },
  {
   "cell_type": "code",
   "execution_count": 42,
   "metadata": {},
   "outputs": [
    {
     "data": {
      "text/html": [
       "<div>\n",
       "<style scoped>\n",
       "    .dataframe tbody tr th:only-of-type {\n",
       "        vertical-align: middle;\n",
       "    }\n",
       "\n",
       "    .dataframe tbody tr th {\n",
       "        vertical-align: top;\n",
       "    }\n",
       "\n",
       "    .dataframe thead th {\n",
       "        text-align: right;\n",
       "    }\n",
       "</style>\n",
       "<table border=\"1\" class=\"dataframe\">\n",
       "  <thead>\n",
       "    <tr style=\"text-align: right;\">\n",
       "      <th>CANCELLATION_REASON</th>\n",
       "      <th>Airline/Carrier</th>\n",
       "      <th>National Air System</th>\n",
       "      <th>Security</th>\n",
       "      <th>Weather</th>\n",
       "      <th>All</th>\n",
       "    </tr>\n",
       "    <tr>\n",
       "      <th>CANCELLED</th>\n",
       "      <th></th>\n",
       "      <th></th>\n",
       "      <th></th>\n",
       "      <th></th>\n",
       "      <th></th>\n",
       "    </tr>\n",
       "  </thead>\n",
       "  <tbody>\n",
       "    <tr>\n",
       "      <th>Yes</th>\n",
       "      <td>25262</td>\n",
       "      <td>15749</td>\n",
       "      <td>22</td>\n",
       "      <td>48851</td>\n",
       "      <td>89884</td>\n",
       "    </tr>\n",
       "    <tr>\n",
       "      <th>All</th>\n",
       "      <td>25262</td>\n",
       "      <td>15749</td>\n",
       "      <td>22</td>\n",
       "      <td>48851</td>\n",
       "      <td>89884</td>\n",
       "    </tr>\n",
       "  </tbody>\n",
       "</table>\n",
       "</div>"
      ],
      "text/plain": [
       "CANCELLATION_REASON  Airline/Carrier  National Air System  Security  Weather  \\\n",
       "CANCELLED                                                                      \n",
       "Yes                            25262                15749        22    48851   \n",
       "All                            25262                15749        22    48851   \n",
       "\n",
       "CANCELLATION_REASON    All  \n",
       "CANCELLED                   \n",
       "Yes                  89884  \n",
       "All                  89884  "
      ]
     },
     "execution_count": 42,
     "metadata": {},
     "output_type": "execute_result"
    }
   ],
   "source": [
    "pd.crosstab(data['CANCELLED'],data['CANCELLATION_REASON'],margins=True)"
   ]
  },
  {
   "cell_type": "code",
   "execution_count": 60,
   "metadata": {},
   "outputs": [],
   "source": [
    "cancelled_data = data[data['CANCELLED']==\"Yes\"]"
   ]
  },
  {
   "cell_type": "code",
   "execution_count": 28,
   "metadata": {},
   "outputs": [
    {
     "data": {
      "text/html": [
       "<div>\n",
       "<style scoped>\n",
       "    .dataframe tbody tr th:only-of-type {\n",
       "        vertical-align: middle;\n",
       "    }\n",
       "\n",
       "    .dataframe tbody tr th {\n",
       "        vertical-align: top;\n",
       "    }\n",
       "\n",
       "    .dataframe thead th {\n",
       "        text-align: right;\n",
       "    }\n",
       "</style>\n",
       "<table border=\"1\" class=\"dataframe\">\n",
       "  <thead>\n",
       "    <tr style=\"text-align: right;\">\n",
       "      <th></th>\n",
       "      <th>YEAR</th>\n",
       "      <th>DAY</th>\n",
       "      <th>FLIGHT_NUMBER</th>\n",
       "      <th>SCHEDULED_DEPARTURE</th>\n",
       "      <th>DEPARTURE_TIME</th>\n",
       "      <th>DEPARTURE_DELAY</th>\n",
       "      <th>TAXI_OUT</th>\n",
       "      <th>WHEELS_OFF</th>\n",
       "      <th>SCHEDULED_TIME</th>\n",
       "      <th>ELAPSED_TIME</th>\n",
       "      <th>...</th>\n",
       "      <th>WHEELS_ON</th>\n",
       "      <th>TAXI_IN</th>\n",
       "      <th>SCHEDULED_ARRIVAL</th>\n",
       "      <th>ARRIVAL_TIME</th>\n",
       "      <th>ARRIVAL_DELAY</th>\n",
       "      <th>AIR_SYSTEM_DELAY</th>\n",
       "      <th>SECURITY_DELAY</th>\n",
       "      <th>AIRLINE_DELAY</th>\n",
       "      <th>LATE_AIRCRAFT_DELAY</th>\n",
       "      <th>WEATHER_DELAY</th>\n",
       "    </tr>\n",
       "  </thead>\n",
       "  <tbody>\n",
       "    <tr>\n",
       "      <th>count</th>\n",
       "      <td>89884.0</td>\n",
       "      <td>89884.000000</td>\n",
       "      <td>89884.000000</td>\n",
       "      <td>89884.000000</td>\n",
       "      <td>3731.000000</td>\n",
       "      <td>3731.000000</td>\n",
       "      <td>837.000000</td>\n",
       "      <td>837.000000</td>\n",
       "      <td>89879.000000</td>\n",
       "      <td>0.0</td>\n",
       "      <td>...</td>\n",
       "      <td>0.0</td>\n",
       "      <td>0.0</td>\n",
       "      <td>89884.000000</td>\n",
       "      <td>0.0</td>\n",
       "      <td>0.0</td>\n",
       "      <td>0.0</td>\n",
       "      <td>0.0</td>\n",
       "      <td>0.0</td>\n",
       "      <td>0.0</td>\n",
       "      <td>0.0</td>\n",
       "    </tr>\n",
       "    <tr>\n",
       "      <th>mean</th>\n",
       "      <td>2015.0</td>\n",
       "      <td>15.456588</td>\n",
       "      <td>2704.677317</td>\n",
       "      <td>1374.989130</td>\n",
       "      <td>1491.904315</td>\n",
       "      <td>57.465559</td>\n",
       "      <td>19.796894</td>\n",
       "      <td>1555.163680</td>\n",
       "      <td>124.976157</td>\n",
       "      <td>NaN</td>\n",
       "      <td>...</td>\n",
       "      <td>NaN</td>\n",
       "      <td>NaN</td>\n",
       "      <td>1525.239831</td>\n",
       "      <td>NaN</td>\n",
       "      <td>NaN</td>\n",
       "      <td>NaN</td>\n",
       "      <td>NaN</td>\n",
       "      <td>NaN</td>\n",
       "      <td>NaN</td>\n",
       "      <td>NaN</td>\n",
       "    </tr>\n",
       "    <tr>\n",
       "      <th>std</th>\n",
       "      <td>0.0</td>\n",
       "      <td>9.323337</td>\n",
       "      <td>1810.926001</td>\n",
       "      <td>499.348424</td>\n",
       "      <td>521.890111</td>\n",
       "      <td>95.535155</td>\n",
       "      <td>14.084055</td>\n",
       "      <td>542.265934</td>\n",
       "      <td>64.645795</td>\n",
       "      <td>NaN</td>\n",
       "      <td>...</td>\n",
       "      <td>NaN</td>\n",
       "      <td>NaN</td>\n",
       "      <td>526.743520</td>\n",
       "      <td>NaN</td>\n",
       "      <td>NaN</td>\n",
       "      <td>NaN</td>\n",
       "      <td>NaN</td>\n",
       "      <td>NaN</td>\n",
       "      <td>NaN</td>\n",
       "      <td>NaN</td>\n",
       "    </tr>\n",
       "    <tr>\n",
       "      <th>min</th>\n",
       "      <td>2015.0</td>\n",
       "      <td>1.000000</td>\n",
       "      <td>1.000000</td>\n",
       "      <td>1.000000</td>\n",
       "      <td>1.000000</td>\n",
       "      <td>-25.000000</td>\n",
       "      <td>4.000000</td>\n",
       "      <td>7.000000</td>\n",
       "      <td>20.000000</td>\n",
       "      <td>NaN</td>\n",
       "      <td>...</td>\n",
       "      <td>NaN</td>\n",
       "      <td>NaN</td>\n",
       "      <td>1.000000</td>\n",
       "      <td>NaN</td>\n",
       "      <td>NaN</td>\n",
       "      <td>NaN</td>\n",
       "      <td>NaN</td>\n",
       "      <td>NaN</td>\n",
       "      <td>NaN</td>\n",
       "      <td>NaN</td>\n",
       "    </tr>\n",
       "    <tr>\n",
       "      <th>25%</th>\n",
       "      <td>2015.0</td>\n",
       "      <td>7.000000</td>\n",
       "      <td>1110.000000</td>\n",
       "      <td>928.000000</td>\n",
       "      <td>1112.500000</td>\n",
       "      <td>-2.000000</td>\n",
       "      <td>12.000000</td>\n",
       "      <td>1129.000000</td>\n",
       "      <td>79.000000</td>\n",
       "      <td>NaN</td>\n",
       "      <td>...</td>\n",
       "      <td>NaN</td>\n",
       "      <td>NaN</td>\n",
       "      <td>1107.000000</td>\n",
       "      <td>NaN</td>\n",
       "      <td>NaN</td>\n",
       "      <td>NaN</td>\n",
       "      <td>NaN</td>\n",
       "      <td>NaN</td>\n",
       "      <td>NaN</td>\n",
       "      <td>NaN</td>\n",
       "    </tr>\n",
       "    <tr>\n",
       "      <th>50%</th>\n",
       "      <td>2015.0</td>\n",
       "      <td>16.000000</td>\n",
       "      <td>2600.000000</td>\n",
       "      <td>1420.000000</td>\n",
       "      <td>1541.000000</td>\n",
       "      <td>21.000000</td>\n",
       "      <td>16.000000</td>\n",
       "      <td>1620.000000</td>\n",
       "      <td>109.000000</td>\n",
       "      <td>NaN</td>\n",
       "      <td>...</td>\n",
       "      <td>NaN</td>\n",
       "      <td>NaN</td>\n",
       "      <td>1603.000000</td>\n",
       "      <td>NaN</td>\n",
       "      <td>NaN</td>\n",
       "      <td>NaN</td>\n",
       "      <td>NaN</td>\n",
       "      <td>NaN</td>\n",
       "      <td>NaN</td>\n",
       "      <td>NaN</td>\n",
       "    </tr>\n",
       "    <tr>\n",
       "      <th>75%</th>\n",
       "      <td>2015.0</td>\n",
       "      <td>24.000000</td>\n",
       "      <td>4155.000000</td>\n",
       "      <td>1811.000000</td>\n",
       "      <td>1932.000000</td>\n",
       "      <td>83.000000</td>\n",
       "      <td>23.000000</td>\n",
       "      <td>2032.000000</td>\n",
       "      <td>155.000000</td>\n",
       "      <td>NaN</td>\n",
       "      <td>...</td>\n",
       "      <td>NaN</td>\n",
       "      <td>NaN</td>\n",
       "      <td>1955.000000</td>\n",
       "      <td>NaN</td>\n",
       "      <td>NaN</td>\n",
       "      <td>NaN</td>\n",
       "      <td>NaN</td>\n",
       "      <td>NaN</td>\n",
       "      <td>NaN</td>\n",
       "      <td>NaN</td>\n",
       "    </tr>\n",
       "    <tr>\n",
       "      <th>max</th>\n",
       "      <td>2015.0</td>\n",
       "      <td>31.000000</td>\n",
       "      <td>9855.000000</td>\n",
       "      <td>2359.000000</td>\n",
       "      <td>2400.000000</td>\n",
       "      <td>1274.000000</td>\n",
       "      <td>146.000000</td>\n",
       "      <td>2350.000000</td>\n",
       "      <td>679.000000</td>\n",
       "      <td>NaN</td>\n",
       "      <td>...</td>\n",
       "      <td>NaN</td>\n",
       "      <td>NaN</td>\n",
       "      <td>2359.000000</td>\n",
       "      <td>NaN</td>\n",
       "      <td>NaN</td>\n",
       "      <td>NaN</td>\n",
       "      <td>NaN</td>\n",
       "      <td>NaN</td>\n",
       "      <td>NaN</td>\n",
       "      <td>NaN</td>\n",
       "    </tr>\n",
       "  </tbody>\n",
       "</table>\n",
       "<p>8 rows × 22 columns</p>\n",
       "</div>"
      ],
      "text/plain": [
       "          YEAR           DAY  FLIGHT_NUMBER  SCHEDULED_DEPARTURE  \\\n",
       "count  89884.0  89884.000000   89884.000000         89884.000000   \n",
       "mean    2015.0     15.456588    2704.677317          1374.989130   \n",
       "std        0.0      9.323337    1810.926001           499.348424   \n",
       "min     2015.0      1.000000       1.000000             1.000000   \n",
       "25%     2015.0      7.000000    1110.000000           928.000000   \n",
       "50%     2015.0     16.000000    2600.000000          1420.000000   \n",
       "75%     2015.0     24.000000    4155.000000          1811.000000   \n",
       "max     2015.0     31.000000    9855.000000          2359.000000   \n",
       "\n",
       "       DEPARTURE_TIME  DEPARTURE_DELAY    TAXI_OUT   WHEELS_OFF  \\\n",
       "count     3731.000000      3731.000000  837.000000   837.000000   \n",
       "mean      1491.904315        57.465559   19.796894  1555.163680   \n",
       "std        521.890111        95.535155   14.084055   542.265934   \n",
       "min          1.000000       -25.000000    4.000000     7.000000   \n",
       "25%       1112.500000        -2.000000   12.000000  1129.000000   \n",
       "50%       1541.000000        21.000000   16.000000  1620.000000   \n",
       "75%       1932.000000        83.000000   23.000000  2032.000000   \n",
       "max       2400.000000      1274.000000  146.000000  2350.000000   \n",
       "\n",
       "       SCHEDULED_TIME  ELAPSED_TIME  ...  WHEELS_ON  TAXI_IN  \\\n",
       "count    89879.000000           0.0  ...        0.0      0.0   \n",
       "mean       124.976157           NaN  ...        NaN      NaN   \n",
       "std         64.645795           NaN  ...        NaN      NaN   \n",
       "min         20.000000           NaN  ...        NaN      NaN   \n",
       "25%         79.000000           NaN  ...        NaN      NaN   \n",
       "50%        109.000000           NaN  ...        NaN      NaN   \n",
       "75%        155.000000           NaN  ...        NaN      NaN   \n",
       "max        679.000000           NaN  ...        NaN      NaN   \n",
       "\n",
       "       SCHEDULED_ARRIVAL  ARRIVAL_TIME  ARRIVAL_DELAY  AIR_SYSTEM_DELAY  \\\n",
       "count       89884.000000           0.0            0.0               0.0   \n",
       "mean         1525.239831           NaN            NaN               NaN   \n",
       "std           526.743520           NaN            NaN               NaN   \n",
       "min             1.000000           NaN            NaN               NaN   \n",
       "25%          1107.000000           NaN            NaN               NaN   \n",
       "50%          1603.000000           NaN            NaN               NaN   \n",
       "75%          1955.000000           NaN            NaN               NaN   \n",
       "max          2359.000000           NaN            NaN               NaN   \n",
       "\n",
       "       SECURITY_DELAY  AIRLINE_DELAY  LATE_AIRCRAFT_DELAY  WEATHER_DELAY  \n",
       "count             0.0            0.0                  0.0            0.0  \n",
       "mean              NaN            NaN                  NaN            NaN  \n",
       "std               NaN            NaN                  NaN            NaN  \n",
       "min               NaN            NaN                  NaN            NaN  \n",
       "25%               NaN            NaN                  NaN            NaN  \n",
       "50%               NaN            NaN                  NaN            NaN  \n",
       "75%               NaN            NaN                  NaN            NaN  \n",
       "max               NaN            NaN                  NaN            NaN  \n",
       "\n",
       "[8 rows x 22 columns]"
      ]
     },
     "execution_count": 28,
     "metadata": {},
     "output_type": "execute_result"
    }
   ],
   "source": [
    "data[data['CANCELLED']==\"Yes\"].describe()"
   ]
  },
  {
   "cell_type": "markdown",
   "metadata": {},
   "source": [
    "Cleaning data and linear regression"
   ]
  },
  {
   "cell_type": "code",
   "execution_count": 29,
   "metadata": {},
   "outputs": [
    {
     "data": {
      "text/plain": [
       "YEAR                       0\n",
       "MONTH                      0\n",
       "DAY                        0\n",
       "DAY_OF_WEEK                0\n",
       "AIRLINE                    0\n",
       "FLIGHT_NUMBER              0\n",
       "TAIL_NUMBER            14721\n",
       "ORIGIN_AIRPORT             0\n",
       "DESTINATION_AIRPORT        0\n",
       "SCHEDULED_DEPARTURE        0\n",
       "DEPARTURE_TIME         86153\n",
       "DEPARTURE_DELAY        86153\n",
       "TAXI_OUT               89047\n",
       "WHEELS_OFF             89047\n",
       "SCHEDULED_TIME             5\n",
       "ELAPSED_TIME           89884\n",
       "AIR_TIME               89884\n",
       "DISTANCE                   0\n",
       "WHEELS_ON              89884\n",
       "TAXI_IN                89884\n",
       "SCHEDULED_ARRIVAL          0\n",
       "ARRIVAL_TIME           89884\n",
       "ARRIVAL_DELAY          89884\n",
       "DIVERTED                   0\n",
       "CANCELLED                  0\n",
       "CANCELLATION_REASON        0\n",
       "AIR_SYSTEM_DELAY       89884\n",
       "SECURITY_DELAY         89884\n",
       "AIRLINE_DELAY          89884\n",
       "LATE_AIRCRAFT_DELAY    89884\n",
       "WEATHER_DELAY          89884\n",
       "dtype: int64"
      ]
     },
     "execution_count": 29,
     "metadata": {},
     "output_type": "execute_result"
    }
   ],
   "source": [
    "cancelled_data.isnull().sum()"
   ]
  },
  {
   "cell_type": "code",
   "execution_count": 44,
   "metadata": {},
   "outputs": [
    {
     "data": {
      "text/plain": [
       "<AxesSubplot:>"
      ]
     },
     "execution_count": 44,
     "metadata": {},
     "output_type": "execute_result"
    },
    {
     "data": {
      "image/png": "[encoded data removed]",
      "text/plain": [
       "<Figure size 576x288 with 2 Axes>"
      ]
     },
     "metadata": {
      "needs_background": "light"
     },
     "output_type": "display_data"
    }
   ],
   "source": [
    "#cancelled_num = cancelled_data[['YEAR', 'MONTH', 'DAY', 'DAY_OF_WEEK', 'FLIGHT_NUMBER','SCHEDULED_DEPARTURE', 'DEPARTURE_TIME', 'DEPARTURE_DELAY', 'TAXI_OUT',\n",
    "#       'WHEELS_OFF', 'SCHEDULED_TIME', 'ELAPSED_TIME', 'AIR_TIME', 'DISTANCE','WHEELS_ON', 'TAXI_IN', 'SCHEDULED_ARRIVAL', 'ARRIVAL_TIME',\n",
    "#       'ARRIVAL_DELAY', 'DIVERTED', 'CANCELLED','AIR_SYSTEM_DELAY', 'SECURITY_DELAY', 'AIRLINE_DELAY','LATE_AIRCRAFT_DELAY', 'WEATHER_DELAY']]\n",
    "#with all these numerical columns our correlation matrix has some white columns and rows\n",
    "\n",
    "#now we will use only columns that could give the result of correlation\n",
    "cancelled_num = cancelled_data[['MONTH', 'DAY', 'DAY_OF_WEEK', 'FLIGHT_NUMBER','SCHEDULED_DEPARTURE', 'DEPARTURE_TIME', 'DEPARTURE_DELAY', 'TAXI_OUT', 'WHEELS_OFF', 'SCHEDULED_TIME',\n",
    "                               'DISTANCE','SCHEDULED_ARRIVAL']]\n",
    "correlation_mat = cancelled_num.corr()\n",
    "plt.figure(figsize=(8,4))\n",
    "sns.heatmap(correlation_mat, annot=True, fmt='.2f')"
   ]
  },
  {
   "cell_type": "code",
   "execution_count": 40,
   "metadata": {},
   "outputs": [
    {
     "data": {
      "text/plain": [
       "YEAR                       0\n",
       "MONTH                      0\n",
       "DAY                        0\n",
       "DAY_OF_WEEK                0\n",
       "AIRLINE                    0\n",
       "FLIGHT_NUMBER              0\n",
       "ORIGIN_AIRPORT             0\n",
       "DESTINATION_AIRPORT        0\n",
       "SCHEDULED_DEPARTURE        0\n",
       "DEPARTURE_TIME         86153\n",
       "DEPARTURE_DELAY        86153\n",
       "TAXI_OUT               89047\n",
       "WHEELS_OFF             89047\n",
       "SCHEDULED_TIME             5\n",
       "DISTANCE                   0\n",
       "SCHEDULED_ARRIVAL          0\n",
       "DIVERTED                   0\n",
       "CANCELLED                  0\n",
       "CANCELLATION_REASON        0\n",
       "dtype: int64"
      ]
     },
     "execution_count": 40,
     "metadata": {},
     "output_type": "execute_result"
    }
   ],
   "source": [
    "cancelled_data = cancelled_data.drop([\"TAIL_NUMBER\",\"ELAPSED_TIME\", \"AIR_TIME\", \"WHEELS_ON\",\"TAXI_IN\",\"ARRIVAL_TIME\",\"ARRIVAL_DELAY\",\"AIR_SYSTEM_DELAY\",\"SECURITY_DELAY\",\"AIRLINE_DELAY\",\"LATE_AIRCRAFT_DELAY\",\"WEATHER_DELAY\"], axis=1)\n",
    "cancelled_data.isnull().sum()"
   ]
  },
  {
   "cell_type": "code",
   "execution_count": 41,
   "metadata": {},
   "outputs": [
    {
     "data": {
      "image/png": "[encoded data removed]",
      "text/plain": [
       "<Figure size 864x432 with 1 Axes>"
      ]
     },
     "metadata": {
      "needs_background": "light"
     },
     "output_type": "display_data"
    }
   ],
   "source": [
    "fig, ax = plt.subplots(figsize = (12,6))\n",
    "\n",
    "ax.hist([data['SCHEDULED_DEPARTURE'], cancelled_data['SCHEDULED_DEPARTURE']], density=1, bins=20, label=['All', 'Cancelled'], color=['#7f7f7f','#06C2AC'])\n",
    "\n",
    "ax.set_xlim(0,2400)\n",
    "\n",
    "ax.set_xlabel('Scheduled Departure Time')\n",
    "ax.set_title('Normalized histogram of Scheduled Departure Times')\n",
    "\n",
    "plt.legend()\n",
    "plt.show()"
   ]
  },
  {
   "cell_type": "markdown",
   "metadata": {},
   "source": [
    "Counts"
   ]
  },
  {
   "cell_type": "code",
   "execution_count": 22,
   "metadata": {},
   "outputs": [
    {
     "data": {
      "text/plain": [
       "count    89884.000000\n",
       "mean       662.942526\n",
       "std        514.678775\n",
       "min         21.000000\n",
       "25%        296.000000\n",
       "50%        532.500000\n",
       "75%        868.000000\n",
       "max       4962.000000\n",
       "Name: DISTANCE, dtype: float64"
      ]
     },
     "execution_count": 22,
     "metadata": {},
     "output_type": "execute_result"
    }
   ],
   "source": [
    "cancelled_data['DISTANCE'].describe()"
   ]
  },
  {
   "cell_type": "code",
   "execution_count": 42,
   "metadata": {},
   "outputs": [
    {
     "data": {
      "image/png": "[encoded data removed]",
      "text/plain": [
       "<Figure size 864x432 with 1 Axes>"
      ]
     },
     "metadata": {
      "needs_background": "light"
     },
     "output_type": "display_data"
    }
   ],
   "source": [
    "fig, ax = plt.subplots(figsize = (12,6))\n",
    "\n",
    "ax.hist([data['DISTANCE'], cancelled_data['DISTANCE']], density=1, bins=20, label=['All', 'Cancelled'])\n",
    "\n",
    "ax.set_xlim(0,4962)\n",
    "ax.set_xlabel('Flight Distance in miles')\n",
    "ax.set_title('Normalized histogram of Flight Distances')\n",
    "\n",
    "plt.legend()\n",
    "plt.show()"
   ]
  },
  {
   "cell_type": "code",
   "execution_count": 45,
   "metadata": {},
   "outputs": [
    {
     "data": {
      "text/plain": [
       "count     89884\n",
       "unique        1\n",
       "top          No\n",
       "freq      89884\n",
       "Name: DIVERTED, dtype: object"
      ]
     },
     "execution_count": 45,
     "metadata": {},
     "output_type": "execute_result"
    }
   ],
   "source": [
    "cancelled_data['DIVERTED'].describe() #because of cancellation"
   ]
  },
  {
   "cell_type": "code",
   "execution_count": 46,
   "metadata": {},
   "outputs": [
    {
     "data": {
      "text/plain": [
       "February     20517\n",
       "January      11982\n",
       "March        11002\n",
       "June          9120\n",
       "December      8063\n",
       "May           5694\n",
       "August        5052\n",
       "July          4806\n",
       "November      4599\n",
       "April         4520\n",
       "October       2454\n",
       "September     2075\n",
       "Name: MONTH, dtype: int64"
      ]
     },
     "execution_count": 46,
     "metadata": {},
     "output_type": "execute_result"
    }
   ],
   "source": [
    "cancelled_data['MONTH'].value_counts()"
   ]
  },
  {
   "cell_type": "code",
   "execution_count": 35,
   "metadata": {},
   "outputs": [
    {
     "data": {
      "image/png": "[encoded data removed]",
      "text/plain": [
       "<Figure size 864x216 with 1 Axes>"
      ]
     },
     "metadata": {
      "needs_background": "light"
     },
     "output_type": "display_data"
    }
   ],
   "source": [
    "fig=plt.figure(figsize=(12,3))\n",
    "sns.countplot(x='MONTH', data=cancelled_data, palette='flare')\n",
    "plt.title('Count - MONTH')\n",
    "fig.autofmt_xdate(rotation=20)\n",
    "plt.show()"
   ]
  },
  {
   "cell_type": "code",
   "execution_count": 36,
   "metadata": {},
   "outputs": [
    {
     "data": {
      "text/plain": [
       "Monday       21073\n",
       "Tuesday      15072\n",
       "Sunday       13165\n",
       "Thursday     12291\n",
       "Wednesday    10729\n",
       "Friday        8805\n",
       "Saturday      8749\n",
       "Name: DAY_OF_WEEK, dtype: int64"
      ]
     },
     "execution_count": 36,
     "metadata": {},
     "output_type": "execute_result"
    }
   ],
   "source": [
    "cancelled_data['DAY_OF_WEEK'].value_counts()"
   ]
  },
  {
   "cell_type": "code",
   "execution_count": 37,
   "metadata": {},
   "outputs": [
    {
     "data": {
      "image/png": "[encoded data removed]",
      "text/plain": [
       "<Figure size 576x216 with 1 Axes>"
      ]
     },
     "metadata": {
      "needs_background": "light"
     },
     "output_type": "display_data"
    }
   ],
   "source": [
    "fig=plt.figure(figsize=(8,3))\n",
    "sns.countplot(x='DAY_OF_WEEK', data=cancelled_data, palette=\"Set3\")\n",
    "plt.title('Count - DAY_OF_WEEK')\n",
    "fig.autofmt_xdate(rotation=20)\n",
    "plt.show()"
   ]
  },
  {
   "cell_type": "code",
   "execution_count": 38,
   "metadata": {},
   "outputs": [
    {
     "data": {
      "text/plain": [
       "27    6070\n",
       "1     5320\n",
       "2     4950\n",
       "28    4903\n",
       "5     4451\n",
       "Name: DAY, dtype: int64"
      ]
     },
     "execution_count": 38,
     "metadata": {},
     "output_type": "execute_result"
    }
   ],
   "source": [
    "cancelled_data['DAY'].value_counts().head()"
   ]
  },
  {
   "cell_type": "code",
   "execution_count": 41,
   "metadata": {},
   "outputs": [
    {
     "data": {
      "image/png": "[encoded data removed]",
      "text/plain": [
       "<Figure size 864x216 with 1 Axes>"
      ]
     },
     "metadata": {
      "needs_background": "light"
     },
     "output_type": "display_data"
    }
   ],
   "source": [
    "fig=plt.figure(figsize=(12,3))\n",
    "sns.countplot(x='DAY', data=cancelled_data, palette='flare')\n",
    "fig.autofmt_xdate(rotation=20)\n",
    "plt.title('Count - DAY')\n",
    "plt.show()"
   ]
  },
  {
   "cell_type": "markdown",
   "metadata": {},
   "source": [
    "Cancellation reasons"
   ]
  },
  {
   "cell_type": "code",
   "execution_count": 45,
   "metadata": {},
   "outputs": [
    {
     "data": {
      "text/plain": [
       "Weather                48851\n",
       "Airline/Carrier        25262\n",
       "National Air System    15749\n",
       "Security                  22\n",
       "Name: CANCELLATION_REASON, dtype: int64"
      ]
     },
     "execution_count": 45,
     "metadata": {},
     "output_type": "execute_result"
    }
   ],
   "source": [
    "cancelled_data['CANCELLATION_REASON'].value_counts()"
   ]
  },
  {
   "cell_type": "code",
   "execution_count": 46,
   "metadata": {},
   "outputs": [
    {
     "data": {
      "image/png": "[encoded data removed]",
      "text/plain": [
       "<Figure size 1440x360 with 1 Axes>"
      ]
     },
     "metadata": {},
     "output_type": "display_data"
    }
   ],
   "source": [
    "reasons = np.array([25262, 48851, 15749, 22])\n",
    "mylabels = [\"Airline/Carrier\", \"Weather\", \"National Air System\", \"Security\"]\n",
    "mycolors = [\"#4169E1\", \"#FF8C00\", \"#228B22\", \"#8B0000\"]\n",
    "explode = (0, 0, 0, 1) \n",
    "fig1, ax1 = plt.subplots(figsize=(20,5))\n",
    "ax1.pie(reasons,explode=explode, labels=mylabels,colors = mycolors, autopct='%1.3f%%',shadow=True, startangle=90)\n",
    "plt.show()"
   ]
  },
  {
   "cell_type": "code",
   "execution_count": 47,
   "metadata": {},
   "outputs": [
    {
     "data": {
      "image/png": "[encoded data removed]",
      "text/plain": [
       "<Figure size 1440x576 with 1 Axes>"
      ]
     },
     "metadata": {},
     "output_type": "display_data"
    }
   ],
   "source": [
    "sns.set(font_scale=1.5, rc={\"figure.figsize\": (20, 8)})\n",
    "sns.countplot(y=\"MONTH\", hue=\"CANCELLATION_REASON\", data=cancelled_data)\n",
    "plt.show()"
   ]
  },
  {
   "cell_type": "code",
   "execution_count": 51,
   "metadata": {},
   "outputs": [
    {
     "data": {
      "text/plain": [
       "Southwest Airlines Co.          6122\n",
       "Atlantic Southeast Airlines     3604\n",
       "Skywest Airlines Inc.           3205\n",
       "American Airlines Inc.          2879\n",
       "United Air Lines Inc.           2870\n",
       "American Eagle Airlines Inc.    2475\n",
       "US Airways Inc.                 1007\n",
       "JetBlue Airways                  883\n",
       "Spirit Air Lines                 654\n",
       "Delta Air Lines Inc.             594\n",
       "Alaska Airlines Inc.             334\n",
       "Frontier Airlines Inc.           308\n",
       "Hawaiian Airlines Inc.           170\n",
       "Virgin America                   157\n",
       "Name: AIRLINE, dtype: int64"
      ]
     },
     "execution_count": 51,
     "metadata": {},
     "output_type": "execute_result"
    }
   ],
   "source": [
    "cancelled_data[cancelled_data['CANCELLATION_REASON']=='Airline/Carrier']['AIRLINE'].value_counts()"
   ]
  },
  {
   "cell_type": "code",
   "execution_count": null,
   "metadata": {},
   "outputs": [],
   "source": []
  },
  {
   "cell_type": "markdown",
   "metadata": {},
   "source": [
    "Taxi_out"
   ]
  },
  {
   "cell_type": "code",
   "execution_count": 72,
   "metadata": {},
   "outputs": [
    {
     "data": {
      "text/plain": [
       "count    837.000000\n",
       "mean      19.796894\n",
       "std       14.084055\n",
       "min        4.000000\n",
       "25%       12.000000\n",
       "50%       16.000000\n",
       "75%       23.000000\n",
       "max      146.000000\n",
       "Name: TAXI_OUT, dtype: float64"
      ]
     },
     "execution_count": 72,
     "metadata": {},
     "output_type": "execute_result"
    }
   ],
   "source": [
    "cancelled_data['TAXI_OUT'].describe()"
   ]
  },
  {
   "cell_type": "code",
   "execution_count": 70,
   "metadata": {},
   "outputs": [],
   "source": [
    "def percentage(part, whole):\n",
    "  return 100 * float(part)/float(whole)"
   ]
  },
  {
   "cell_type": "code",
   "execution_count": 54,
   "metadata": {},
   "outputs": [
    {
     "data": {
      "text/plain": [
       "0.9312002136086511"
      ]
     },
     "execution_count": 54,
     "metadata": {},
     "output_type": "execute_result"
    }
   ],
   "source": [
    "percentage(837,89884)"
   ]
  },
  {
   "cell_type": "markdown",
   "metadata": {},
   "source": [
    "Delay"
   ]
  },
  {
   "cell_type": "code",
   "execution_count": 40,
   "metadata": {},
   "outputs": [
    {
     "data": {
      "text/plain": [
       "count    3731.000000\n",
       "mean       57.465559\n",
       "std        95.535155\n",
       "min       -25.000000\n",
       "25%        -2.000000\n",
       "50%        21.000000\n",
       "75%        83.000000\n",
       "max      1274.000000\n",
       "Name: DEPARTURE_DELAY, dtype: float64"
      ]
     },
     "execution_count": 40,
     "metadata": {},
     "output_type": "execute_result"
    }
   ],
   "source": [
    "cancelled_data['DEPARTURE_DELAY'].describe()"
   ]
  },
  {
   "cell_type": "code",
   "execution_count": 80,
   "metadata": {},
   "outputs": [
    {
     "data": {
      "text/plain": [
       "count                1191\n",
       "unique                  3\n",
       "top       Airline/Carrier\n",
       "freq                  597\n",
       "Name: CANCELLATION_REASON, dtype: object"
      ]
     },
     "execution_count": 80,
     "metadata": {},
     "output_type": "execute_result"
    }
   ],
   "source": [
    "cancelled_data[cancelled_data['DEPARTURE_DELAY'] <= 0]['CANCELLATION_REASON'].describe()"
   ]
  },
  {
   "cell_type": "code",
   "execution_count": 83,
   "metadata": {},
   "outputs": [
    {
     "data": {
      "text/html": [
       "<div>\n",
       "<style scoped>\n",
       "    .dataframe tbody tr th:only-of-type {\n",
       "        vertical-align: middle;\n",
       "    }\n",
       "\n",
       "    .dataframe tbody tr th {\n",
       "        vertical-align: top;\n",
       "    }\n",
       "\n",
       "    .dataframe thead th {\n",
       "        text-align: right;\n",
       "    }\n",
       "</style>\n",
       "<table border=\"1\" class=\"dataframe\">\n",
       "  <thead>\n",
       "    <tr style=\"text-align: right;\">\n",
       "      <th></th>\n",
       "      <th>YEAR</th>\n",
       "      <th>MONTH</th>\n",
       "      <th>DAY</th>\n",
       "      <th>DAY_OF_WEEK</th>\n",
       "      <th>AIRLINE</th>\n",
       "      <th>FLIGHT_NUMBER</th>\n",
       "      <th>TAIL_NUMBER</th>\n",
       "      <th>ORIGIN_AIRPORT</th>\n",
       "      <th>DESTINATION_AIRPORT</th>\n",
       "      <th>SCHEDULED_DEPARTURE</th>\n",
       "      <th>...</th>\n",
       "      <th>ARRIVAL_TIME</th>\n",
       "      <th>ARRIVAL_DELAY</th>\n",
       "      <th>DIVERTED</th>\n",
       "      <th>CANCELLED</th>\n",
       "      <th>CANCELLATION_REASON</th>\n",
       "      <th>AIR_SYSTEM_DELAY</th>\n",
       "      <th>SECURITY_DELAY</th>\n",
       "      <th>AIRLINE_DELAY</th>\n",
       "      <th>LATE_AIRCRAFT_DELAY</th>\n",
       "      <th>WEATHER_DELAY</th>\n",
       "    </tr>\n",
       "  </thead>\n",
       "  <tbody>\n",
       "  </tbody>\n",
       "</table>\n",
       "<p>0 rows × 31 columns</p>\n",
       "</div>"
      ],
      "text/plain": [
       "Empty DataFrame\n",
       "Columns: [YEAR, MONTH, DAY, DAY_OF_WEEK, AIRLINE, FLIGHT_NUMBER, TAIL_NUMBER, ORIGIN_AIRPORT, DESTINATION_AIRPORT, SCHEDULED_DEPARTURE, DEPARTURE_TIME, DEPARTURE_DELAY, TAXI_OUT, WHEELS_OFF, SCHEDULED_TIME, ELAPSED_TIME, AIR_TIME, DISTANCE, WHEELS_ON, TAXI_IN, SCHEDULED_ARRIVAL, ARRIVAL_TIME, ARRIVAL_DELAY, DIVERTED, CANCELLED, CANCELLATION_REASON, AIR_SYSTEM_DELAY, SECURITY_DELAY, AIRLINE_DELAY, LATE_AIRCRAFT_DELAY, WEATHER_DELAY]\n",
       "Index: []\n",
       "\n",
       "[0 rows x 31 columns]"
      ]
     },
     "execution_count": 83,
     "metadata": {},
     "output_type": "execute_result"
    }
   ],
   "source": [
    "cancelled_data[(cancelled_data['DEPARTURE_DELAY'] <= 0) & (cancelled_data['CANCELLATION_REASON']== 'Security')]"
   ]
  },
  {
   "cell_type": "code",
   "execution_count": 55,
   "metadata": {},
   "outputs": [
    {
     "data": {
      "text/plain": [
       "count        2540\n",
       "unique          4\n",
       "top       Weather\n",
       "freq         1262\n",
       "Name: CANCELLATION_REASON, dtype: object"
      ]
     },
     "execution_count": 55,
     "metadata": {},
     "output_type": "execute_result"
    }
   ],
   "source": [
    "cancelled_data[cancelled_data['DEPARTURE_DELAY'] > 0]['CANCELLATION_REASON'].describe()"
   ]
  },
  {
   "cell_type": "markdown",
   "metadata": {},
   "source": [
    "Airline"
   ]
  },
  {
   "cell_type": "code",
   "execution_count": 56,
   "metadata": {},
   "outputs": [],
   "source": [
    "cancelled_data_airline = cancelled_data[(cancelled_data['DEPARTURE_DELAY'] > 0) & (cancelled_data['CANCELLATION_REASON']== 'Airline/Carrier')]"
   ]
  },
  {
   "cell_type": "code",
   "execution_count": 58,
   "metadata": {},
   "outputs": [
    {
     "data": {
      "text/plain": [
       "United Air Lines Inc.           200\n",
       "American Eagle Airlines Inc.    138\n",
       "Skywest Airlines Inc.           131\n",
       "Atlantic Southeast Airlines     126\n",
       "Southwest Airlines Co.          110\n",
       "American Airlines Inc.          110\n",
       "US Airways Inc.                  51\n",
       "Delta Air Lines Inc.             31\n",
       "JetBlue Airways                  30\n",
       "Spirit Air Lines                 19\n",
       "Frontier Airlines Inc.           18\n",
       "Alaska Airlines Inc.             12\n",
       "Virgin America                    9\n",
       "Hawaiian Airlines Inc.            6\n",
       "Name: AIRLINE, dtype: int64"
      ]
     },
     "execution_count": 58,
     "metadata": {},
     "output_type": "execute_result"
    }
   ],
   "source": [
    "cancelled_data_airline['AIRLINE'].value_counts()"
   ]
  },
  {
   "cell_type": "code",
   "execution_count": 57,
   "metadata": {},
   "outputs": [
    {
     "data": {
      "image/png": "[encoded data removed]",
      "text/plain": [
       "<Figure size 1152x216 with 1 Axes>"
      ]
     },
     "metadata": {},
     "output_type": "display_data"
    }
   ],
   "source": [
    "sns.set(font_scale=1.5, rc={\"figure.figsize\": (16, 3)})\n",
    "cp=sns.countplot(x='AIRLINE', data=cancelled_data_airline, palette='OrRd')\n",
    "plt.title('Count - AIRLINES')\n",
    "plt.setp(cp.get_xticklabels(), rotation=20)\n",
    "plt.show()"
   ]
  },
  {
   "cell_type": "code",
   "execution_count": 43,
   "metadata": {},
   "outputs": [
    {
     "data": {
      "image/png": "[encoded data removed]",
      "text/plain": [
       "<Figure size 864x432 with 1 Axes>"
      ]
     },
     "metadata": {
      "needs_background": "light"
     },
     "output_type": "display_data"
    }
   ],
   "source": [
    "fig, ax = plt.subplots(figsize = (12,6))\n",
    "\n",
    "ax.hist([data['AIRLINE'], cancelled_data['AIRLINE']], density=1, bins=20, label=['All', 'Cancelled'])\n",
    "ax.set_xlabel('Flight Distance in miles')\n",
    "ax.set_title('Normalized histogram of Flight Distances')\n",
    "\n",
    "plt.legend()\n",
    "plt.show()"
   ]
  },
  {
   "cell_type": "markdown",
   "metadata": {},
   "source": [
    "Airport"
   ]
  },
  {
   "cell_type": "code",
   "execution_count": 61,
   "metadata": {},
   "outputs": [
    {
     "data": {
      "text/plain": [
       "Chicago O'Hare International Airport                8548\n",
       "Dallas/Fort Worth International Airport             6254\n",
       "LaGuardia Airport (Marine Air Terminal)             4531\n",
       "Newark Liberty International Airport                3110\n",
       "Gen. Edward Lawrence Logan International Airport    2654\n",
       "                                                    ... \n",
       "Cedar City Regional Airport                            1\n",
       "13931                                                  1\n",
       "13290                                                  1\n",
       "14689                                                  1\n",
       "Barnstable Municipal Airport                           1\n",
       "Name: ORIGIN_AIRPORT, Length: 525, dtype: int64"
      ]
     },
     "execution_count": 61,
     "metadata": {},
     "output_type": "execute_result"
    }
   ],
   "source": [
    "cancelled_data['ORIGIN_AIRPORT'].value_counts()"
   ]
  },
  {
   "cell_type": "code",
   "execution_count": 70,
   "metadata": {},
   "outputs": [],
   "source": [
    "data_airports_o= data.loc[lambda data: data.ORIGIN_AIRPORT.str.len()> 5] #without unknown origin airports"
   ]
  },
  {
   "cell_type": "code",
   "execution_count": 72,
   "metadata": {},
   "outputs": [
    {
     "data": {
      "text/plain": [
       "Hartsfield-Jackson Atlanta International Airport    346836\n",
       "Chicago O'Hare International Airport                285884\n",
       "Dallas/Fort Worth International Airport             239551\n",
       "Denver International Airport                        196055\n",
       "Los Angeles International Airport                   194673\n",
       "                                                     ...  \n",
       "Barnstable Municipal Airport                            83\n",
       "Gustavus Airport                                        77\n",
       "Dillingham Airport                                      77\n",
       "King Salmon Airport                                     63\n",
       "Ithaca Tompkins Regional Airport                        34\n",
       "Name: ORIGIN_AIRPORT, Length: 322, dtype: int64"
      ]
     },
     "execution_count": 72,
     "metadata": {},
     "output_type": "execute_result"
    }
   ],
   "source": [
    "data_airports_o['ORIGIN_AIRPORT'].value_counts()"
   ]
  },
  {
   "cell_type": "code",
   "execution_count": 73,
   "metadata": {},
   "outputs": [
    {
     "data": {
      "text/html": [
       "<div>\n",
       "<style scoped>\n",
       "    .dataframe tbody tr th:only-of-type {\n",
       "        vertical-align: middle;\n",
       "    }\n",
       "\n",
       "    .dataframe tbody tr th {\n",
       "        vertical-align: top;\n",
       "    }\n",
       "\n",
       "    .dataframe thead th {\n",
       "        text-align: right;\n",
       "    }\n",
       "</style>\n",
       "<table border=\"1\" class=\"dataframe\">\n",
       "  <thead>\n",
       "    <tr style=\"text-align: right;\">\n",
       "      <th>CANCELLED</th>\n",
       "      <th>No</th>\n",
       "      <th>Yes</th>\n",
       "    </tr>\n",
       "    <tr>\n",
       "      <th>ORIGIN_AIRPORT</th>\n",
       "      <th></th>\n",
       "      <th></th>\n",
       "    </tr>\n",
       "  </thead>\n",
       "  <tbody>\n",
       "    <tr>\n",
       "      <th>Aberdeen Regional Airport</th>\n",
       "      <td>0.000124</td>\n",
       "      <td>1.500118e-06</td>\n",
       "    </tr>\n",
       "    <tr>\n",
       "      <th>Abilene Regional Airport</th>\n",
       "      <td>0.000419</td>\n",
       "      <td>1.818893e-05</td>\n",
       "    </tr>\n",
       "    <tr>\n",
       "      <th>Abraham Lincoln Capital Airport</th>\n",
       "      <td>0.000285</td>\n",
       "      <td>1.218846e-05</td>\n",
       "    </tr>\n",
       "    <tr>\n",
       "      <th>Adak Airport</th>\n",
       "      <td>0.000017</td>\n",
       "      <td>1.312603e-06</td>\n",
       "    </tr>\n",
       "    <tr>\n",
       "      <th>Akron-Canton Regional Airport</th>\n",
       "      <td>0.001125</td>\n",
       "      <td>1.875147e-05</td>\n",
       "    </tr>\n",
       "    <tr>\n",
       "      <th>...</th>\n",
       "      <td>...</td>\n",
       "      <td>...</td>\n",
       "    </tr>\n",
       "    <tr>\n",
       "      <th>Yakutat Airport</th>\n",
       "      <td>0.000123</td>\n",
       "      <td>9.375737e-07</td>\n",
       "    </tr>\n",
       "    <tr>\n",
       "      <th>Yampa Valley Airport (Yampa Valley Regional)</th>\n",
       "      <td>0.000129</td>\n",
       "      <td>3.000236e-06</td>\n",
       "    </tr>\n",
       "    <tr>\n",
       "      <th>Yeager Airport</th>\n",
       "      <td>0.000436</td>\n",
       "      <td>1.106337e-05</td>\n",
       "    </tr>\n",
       "    <tr>\n",
       "      <th>Yellowstone Regional Airport</th>\n",
       "      <td>0.000122</td>\n",
       "      <td>2.250177e-06</td>\n",
       "    </tr>\n",
       "    <tr>\n",
       "      <th>Yuma International Airport</th>\n",
       "      <td>0.000348</td>\n",
       "      <td>4.312839e-06</td>\n",
       "    </tr>\n",
       "  </tbody>\n",
       "</table>\n",
       "<p>322 rows × 2 columns</p>\n",
       "</div>"
      ],
      "text/plain": [
       "CANCELLED                                           No           Yes\n",
       "ORIGIN_AIRPORT                                                      \n",
       "Aberdeen Regional Airport                     0.000124  1.500118e-06\n",
       "Abilene Regional Airport                      0.000419  1.818893e-05\n",
       "Abraham Lincoln Capital Airport               0.000285  1.218846e-05\n",
       "Adak Airport                                  0.000017  1.312603e-06\n",
       "Akron-Canton Regional Airport                 0.001125  1.875147e-05\n",
       "...                                                ...           ...\n",
       "Yakutat Airport                               0.000123  9.375737e-07\n",
       "Yampa Valley Airport (Yampa Valley Regional)  0.000129  3.000236e-06\n",
       "Yeager Airport                                0.000436  1.106337e-05\n",
       "Yellowstone Regional Airport                  0.000122  2.250177e-06\n",
       "Yuma International Airport                    0.000348  4.312839e-06\n",
       "\n",
       "[322 rows x 2 columns]"
      ]
     },
     "execution_count": 73,
     "metadata": {},
     "output_type": "execute_result"
    }
   ],
   "source": [
    "pd.crosstab(data_airports_o['ORIGIN_AIRPORT'],data_airports_o['CANCELLED'], normalize = True)"
   ]
  },
  {
   "cell_type": "code",
   "execution_count": null,
   "metadata": {},
   "outputs": [],
   "source": [
    "fig, ax = plt.subplots(figsize = (12,6))\n",
    "\n",
    "ax.hist([data['AIRLINE'], cancelled_data['AIRLINE']], density=1, bins=20, label=['All', 'Cancelled'])\n",
    "ax.set_xlabel('Flight Distance in miles')\n",
    "ax.set_title('Normalized histogram of Flight Distances')\n",
    "\n",
    "plt.legend()\n",
    "plt.show()"
   ]
  },
  {
   "cell_type": "code",
   "execution_count": 64,
   "metadata": {},
   "outputs": [
    {
     "data": {
      "text/plain": [
       "Chicago O'Hare International Airport                9273\n",
       "Dallas/Fort Worth International Airport             6749\n",
       "LaGuardia Airport (Marine Air Terminal)             4418\n",
       "Newark Liberty International Airport                3350\n",
       "Hartsfield-Jackson Atlanta International Airport    2715\n",
       "                                                    ... \n",
       "14520                                                  1\n",
       "12884                                                  1\n",
       "10469                                                  1\n",
       "13076                                                  1\n",
       "10158                                                  1\n",
       "Name: DESTINATION_AIRPORT, Length: 513, dtype: int64"
      ]
     },
     "execution_count": 64,
     "metadata": {},
     "output_type": "execute_result"
    }
   ],
   "source": [
    "cancelled_data['DESTINATION_AIRPORT'].value_counts()"
   ]
  },
  {
   "cell_type": "code",
   "execution_count": null,
   "metadata": {},
   "outputs": [],
   "source": []
  },
  {
   "cell_type": "code",
   "execution_count": 76,
   "metadata": {},
   "outputs": [
    {
     "data": {
      "image/png": "[encoded data removed]",
      "text/plain": [
       "<Figure size 864x432 with 1 Axes>"
      ]
     },
     "metadata": {
      "needs_background": "light"
     },
     "output_type": "display_data"
    }
   ],
   "source": [
    "fig, ax = plt.subplots(figsize = (12,6))\n",
    "\n",
    "ax.hist([data['ORIGIN_AIRPORT'], cancelled_data['ORIGIN_AIRPORT']], density=1, bins=322, label=['All', 'Cancelled'])\n",
    "ax.set_xlabel('Flight Distance in miles')\n",
    "ax.set_title('Normalized histogram of Flight Distances')\n",
    "\n",
    "plt.legend()\n",
    "plt.show()"
   ]
  },
  {
   "cell_type": "code",
   "execution_count": 61,
   "metadata": {},
   "outputs": [],
   "source": [
    "d1 = cancelled_data[['ORIGIN_AIRPORT','DESTINATION_AIRPORT']]\n",
    "oa1 = d1.loc[:, 'ORIGIN_AIRPORT']\n",
    "da1 = d1.loc[:, 'DESTINATION_AIRPORT']\n",
    "list_oa1 = oa1.to_list()\n",
    "list_da1 = da1.to_list()"
   ]
  },
  {
   "cell_type": "code",
   "execution_count": 62,
   "metadata": {},
   "outputs": [
    {
     "data": {
      "text/plain": [
       "[(443,\n",
       "  ('Gen. Edward Lawrence Logan International Airport',\n",
       "   'LaGuardia Airport (Marine Air Terminal)')),\n",
       " (441,\n",
       "  ('LaGuardia Airport (Marine Air Terminal)',\n",
       "   'Gen. Edward Lawrence Logan International Airport')),\n",
       " (435,\n",
       "  ('LaGuardia Airport (Marine Air Terminal)',\n",
       "   \"Chicago O'Hare International Airport\"))]"
      ]
     },
     "execution_count": 62,
     "metadata": {},
     "output_type": "execute_result"
    }
   ],
   "source": [
    "l = []\n",
    "for i in range(len(list_oa1)):\n",
    "    for j in range(len(list_da1)):\n",
    "        if i==j:\n",
    "            l.append((list_oa1[i],list_da1[j]))\n",
    "        else:\n",
    "            continue\n",
    "counter1={}\n",
    "for i in l:\n",
    "    counter1[i] = counter1.get(i,0)+1\n",
    "sorted([(freq,par) for par,freq in counter1.items()],reverse=True)[:3]"
   ]
  },
  {
   "cell_type": "code",
   "execution_count": 92,
   "metadata": {},
   "outputs": [],
   "source": [
    "LA = realised_data[realised_data['ORIGIN_AIRPORT']=='LaGuardia Airport (Marine Air Terminal)']"
   ]
  },
  {
   "cell_type": "code",
   "execution_count": 93,
   "metadata": {},
   "outputs": [
    {
     "data": {
      "text/html": [
       "<div>\n",
       "<style scoped>\n",
       "    .dataframe tbody tr th:only-of-type {\n",
       "        vertical-align: middle;\n",
       "    }\n",
       "\n",
       "    .dataframe tbody tr th {\n",
       "        vertical-align: top;\n",
       "    }\n",
       "\n",
       "    .dataframe thead th {\n",
       "        text-align: right;\n",
       "    }\n",
       "</style>\n",
       "<table border=\"1\" class=\"dataframe\">\n",
       "  <thead>\n",
       "    <tr style=\"text-align: right;\">\n",
       "      <th></th>\n",
       "      <th>DISTANCE</th>\n",
       "      <th>ELAPSED_TIME</th>\n",
       "      <th>TAXI_IN</th>\n",
       "      <th>TAXI_OUT</th>\n",
       "      <th>AIR_TIME</th>\n",
       "      <th>DEPARTURE_DELAY</th>\n",
       "      <th>ARRIVAL_DELAY</th>\n",
       "    </tr>\n",
       "  </thead>\n",
       "  <tbody>\n",
       "    <tr>\n",
       "      <th>count</th>\n",
       "      <td>95074.000000</td>\n",
       "      <td>94834.000000</td>\n",
       "      <td>95051.000000</td>\n",
       "      <td>95074.000000</td>\n",
       "      <td>94834.000000</td>\n",
       "      <td>95074.000000</td>\n",
       "      <td>94834.000000</td>\n",
       "    </tr>\n",
       "    <tr>\n",
       "      <th>mean</th>\n",
       "      <td>802.650241</td>\n",
       "      <td>154.209999</td>\n",
       "      <td>7.818918</td>\n",
       "      <td>26.721596</td>\n",
       "      <td>119.685788</td>\n",
       "      <td>13.184888</td>\n",
       "      <td>5.628140</td>\n",
       "    </tr>\n",
       "    <tr>\n",
       "      <th>std</th>\n",
       "      <td>383.367590</td>\n",
       "      <td>52.584441</td>\n",
       "      <td>6.281294</td>\n",
       "      <td>14.448439</td>\n",
       "      <td>50.614141</td>\n",
       "      <td>43.024546</td>\n",
       "      <td>47.282496</td>\n",
       "    </tr>\n",
       "    <tr>\n",
       "      <th>min</th>\n",
       "      <td>96.000000</td>\n",
       "      <td>40.000000</td>\n",
       "      <td>1.000000</td>\n",
       "      <td>1.000000</td>\n",
       "      <td>19.000000</td>\n",
       "      <td>-28.000000</td>\n",
       "      <td>-73.000000</td>\n",
       "    </tr>\n",
       "    <tr>\n",
       "      <th>25%</th>\n",
       "      <td>502.000000</td>\n",
       "      <td>116.000000</td>\n",
       "      <td>4.000000</td>\n",
       "      <td>17.000000</td>\n",
       "      <td>81.000000</td>\n",
       "      <td>-5.000000</td>\n",
       "      <td>-20.000000</td>\n",
       "    </tr>\n",
       "    <tr>\n",
       "      <th>50%</th>\n",
       "      <td>762.000000</td>\n",
       "      <td>153.000000</td>\n",
       "      <td>6.000000</td>\n",
       "      <td>23.000000</td>\n",
       "      <td>117.000000</td>\n",
       "      <td>-2.000000</td>\n",
       "      <td>-7.000000</td>\n",
       "    </tr>\n",
       "    <tr>\n",
       "      <th>75%</th>\n",
       "      <td>1076.000000</td>\n",
       "      <td>186.000000</td>\n",
       "      <td>9.000000</td>\n",
       "      <td>33.000000</td>\n",
       "      <td>151.000000</td>\n",
       "      <td>11.000000</td>\n",
       "      <td>13.000000</td>\n",
       "    </tr>\n",
       "    <tr>\n",
       "      <th>max</th>\n",
       "      <td>1894.000000</td>\n",
       "      <td>428.000000</td>\n",
       "      <td>179.000000</td>\n",
       "      <td>177.000000</td>\n",
       "      <td>311.000000</td>\n",
       "      <td>1166.000000</td>\n",
       "      <td>1170.000000</td>\n",
       "    </tr>\n",
       "  </tbody>\n",
       "</table>\n",
       "</div>"
      ],
      "text/plain": [
       "           DISTANCE  ELAPSED_TIME       TAXI_IN      TAXI_OUT      AIR_TIME  \\\n",
       "count  95074.000000  94834.000000  95051.000000  95074.000000  94834.000000   \n",
       "mean     802.650241    154.209999      7.818918     26.721596    119.685788   \n",
       "std      383.367590     52.584441      6.281294     14.448439     50.614141   \n",
       "min       96.000000     40.000000      1.000000      1.000000     19.000000   \n",
       "25%      502.000000    116.000000      4.000000     17.000000     81.000000   \n",
       "50%      762.000000    153.000000      6.000000     23.000000    117.000000   \n",
       "75%     1076.000000    186.000000      9.000000     33.000000    151.000000   \n",
       "max     1894.000000    428.000000    179.000000    177.000000    311.000000   \n",
       "\n",
       "       DEPARTURE_DELAY  ARRIVAL_DELAY  \n",
       "count     95074.000000   94834.000000  \n",
       "mean         13.184888       5.628140  \n",
       "std          43.024546      47.282496  \n",
       "min         -28.000000     -73.000000  \n",
       "25%          -5.000000     -20.000000  \n",
       "50%          -2.000000      -7.000000  \n",
       "75%          11.000000      13.000000  \n",
       "max        1166.000000    1170.000000  "
      ]
     },
     "execution_count": 93,
     "metadata": {},
     "output_type": "execute_result"
    }
   ],
   "source": [
    "LA[['DISTANCE','ELAPSED_TIME','TAXI_IN','TAXI_OUT','AIR_TIME','DEPARTURE_DELAY','ARRIVAL_DELAY']].describe()"
   ]
  },
  {
   "cell_type": "code",
   "execution_count": 94,
   "metadata": {},
   "outputs": [],
   "source": [
    "GE_LA = realised_data[(realised_data['ORIGIN_AIRPORT']=='Gen. Edward Lawrence Logan International Airport') & (realised_data['DESTINATION_AIRPORT']=='LaGuardia Airport (Marine Air Terminal)')]"
   ]
  },
  {
   "cell_type": "code",
   "execution_count": 96,
   "metadata": {},
   "outputs": [
    {
     "data": {
      "text/html": [
       "<div>\n",
       "<style scoped>\n",
       "    .dataframe tbody tr th:only-of-type {\n",
       "        vertical-align: middle;\n",
       "    }\n",
       "\n",
       "    .dataframe tbody tr th {\n",
       "        vertical-align: top;\n",
       "    }\n",
       "\n",
       "    .dataframe thead th {\n",
       "        text-align: right;\n",
       "    }\n",
       "</style>\n",
       "<table border=\"1\" class=\"dataframe\">\n",
       "  <thead>\n",
       "    <tr style=\"text-align: right;\">\n",
       "      <th></th>\n",
       "      <th>DISTANCE</th>\n",
       "      <th>ELAPSED_TIME</th>\n",
       "      <th>TAXI_IN</th>\n",
       "      <th>TAXI_OUT</th>\n",
       "      <th>AIR_TIME</th>\n",
       "      <th>DEPARTURE_DELAY</th>\n",
       "      <th>ARRIVAL_DELAY</th>\n",
       "    </tr>\n",
       "  </thead>\n",
       "  <tbody>\n",
       "    <tr>\n",
       "      <th>count</th>\n",
       "      <td>6653.0</td>\n",
       "      <td>6646.000000</td>\n",
       "      <td>6651.000000</td>\n",
       "      <td>6653.000000</td>\n",
       "      <td>6646.000000</td>\n",
       "      <td>6653.000000</td>\n",
       "      <td>6646.000000</td>\n",
       "    </tr>\n",
       "    <tr>\n",
       "      <th>mean</th>\n",
       "      <td>184.0</td>\n",
       "      <td>79.191544</td>\n",
       "      <td>8.636295</td>\n",
       "      <td>24.651586</td>\n",
       "      <td>45.905658</td>\n",
       "      <td>9.890876</td>\n",
       "      <td>9.552362</td>\n",
       "    </tr>\n",
       "    <tr>\n",
       "      <th>std</th>\n",
       "      <td>0.0</td>\n",
       "      <td>15.060546</td>\n",
       "      <td>6.058849</td>\n",
       "      <td>12.603381</td>\n",
       "      <td>5.865919</td>\n",
       "      <td>38.855184</td>\n",
       "      <td>43.306070</td>\n",
       "    </tr>\n",
       "    <tr>\n",
       "      <th>min</th>\n",
       "      <td>184.0</td>\n",
       "      <td>52.000000</td>\n",
       "      <td>2.000000</td>\n",
       "      <td>5.000000</td>\n",
       "      <td>34.000000</td>\n",
       "      <td>-15.000000</td>\n",
       "      <td>-37.000000</td>\n",
       "    </tr>\n",
       "    <tr>\n",
       "      <th>25%</th>\n",
       "      <td>184.0</td>\n",
       "      <td>70.000000</td>\n",
       "      <td>5.000000</td>\n",
       "      <td>17.000000</td>\n",
       "      <td>42.000000</td>\n",
       "      <td>-6.000000</td>\n",
       "      <td>-13.000000</td>\n",
       "    </tr>\n",
       "    <tr>\n",
       "      <th>50%</th>\n",
       "      <td>184.0</td>\n",
       "      <td>76.000000</td>\n",
       "      <td>7.000000</td>\n",
       "      <td>22.000000</td>\n",
       "      <td>45.000000</td>\n",
       "      <td>-3.000000</td>\n",
       "      <td>-3.000000</td>\n",
       "    </tr>\n",
       "    <tr>\n",
       "      <th>75%</th>\n",
       "      <td>184.0</td>\n",
       "      <td>85.000000</td>\n",
       "      <td>10.000000</td>\n",
       "      <td>29.000000</td>\n",
       "      <td>49.000000</td>\n",
       "      <td>4.000000</td>\n",
       "      <td>13.000000</td>\n",
       "    </tr>\n",
       "    <tr>\n",
       "      <th>max</th>\n",
       "      <td>184.0</td>\n",
       "      <td>209.000000</td>\n",
       "      <td>117.000000</td>\n",
       "      <td>149.000000</td>\n",
       "      <td>100.000000</td>\n",
       "      <td>578.000000</td>\n",
       "      <td>574.000000</td>\n",
       "    </tr>\n",
       "  </tbody>\n",
       "</table>\n",
       "</div>"
      ],
      "text/plain": [
       "       DISTANCE  ELAPSED_TIME      TAXI_IN     TAXI_OUT     AIR_TIME  \\\n",
       "count    6653.0   6646.000000  6651.000000  6653.000000  6646.000000   \n",
       "mean      184.0     79.191544     8.636295    24.651586    45.905658   \n",
       "std         0.0     15.060546     6.058849    12.603381     5.865919   \n",
       "min       184.0     52.000000     2.000000     5.000000    34.000000   \n",
       "25%       184.0     70.000000     5.000000    17.000000    42.000000   \n",
       "50%       184.0     76.000000     7.000000    22.000000    45.000000   \n",
       "75%       184.0     85.000000    10.000000    29.000000    49.000000   \n",
       "max       184.0    209.000000   117.000000   149.000000   100.000000   \n",
       "\n",
       "       DEPARTURE_DELAY  ARRIVAL_DELAY  \n",
       "count      6653.000000    6646.000000  \n",
       "mean          9.890876       9.552362  \n",
       "std          38.855184      43.306070  \n",
       "min         -15.000000     -37.000000  \n",
       "25%          -6.000000     -13.000000  \n",
       "50%          -3.000000      -3.000000  \n",
       "75%           4.000000      13.000000  \n",
       "max         578.000000     574.000000  "
      ]
     },
     "execution_count": 96,
     "metadata": {},
     "output_type": "execute_result"
    }
   ],
   "source": [
    "GE_LA[['DISTANCE','ELAPSED_TIME','TAXI_IN','TAXI_OUT','AIR_TIME','DEPARTURE_DELAY','ARRIVAL_DELAY']].describe()"
   ]
  },
  {
   "cell_type": "code",
   "execution_count": 97,
   "metadata": {},
   "outputs": [],
   "source": [
    "LA_GE = realised_data[(realised_data['ORIGIN_AIRPORT']=='LaGuardia Airport (Marine Air Terminal)') & (realised_data['DESTINATION_AIRPORT']=='Gen. Edward Lawrence Logan International Airport')]"
   ]
  },
  {
   "cell_type": "code",
   "execution_count": 98,
   "metadata": {},
   "outputs": [
    {
     "data": {
      "text/html": [
       "<div>\n",
       "<style scoped>\n",
       "    .dataframe tbody tr th:only-of-type {\n",
       "        vertical-align: middle;\n",
       "    }\n",
       "\n",
       "    .dataframe tbody tr th {\n",
       "        vertical-align: top;\n",
       "    }\n",
       "\n",
       "    .dataframe thead th {\n",
       "        text-align: right;\n",
       "    }\n",
       "</style>\n",
       "<table border=\"1\" class=\"dataframe\">\n",
       "  <thead>\n",
       "    <tr style=\"text-align: right;\">\n",
       "      <th></th>\n",
       "      <th>DISTANCE</th>\n",
       "      <th>ELAPSED_TIME</th>\n",
       "      <th>TAXI_IN</th>\n",
       "      <th>TAXI_OUT</th>\n",
       "      <th>AIR_TIME</th>\n",
       "      <th>DEPARTURE_DELAY</th>\n",
       "      <th>ARRIVAL_DELAY</th>\n",
       "    </tr>\n",
       "  </thead>\n",
       "  <tbody>\n",
       "    <tr>\n",
       "      <th>count</th>\n",
       "      <td>6659.0</td>\n",
       "      <td>6658.000000</td>\n",
       "      <td>6659.000000</td>\n",
       "      <td>6659.000000</td>\n",
       "      <td>6658.000000</td>\n",
       "      <td>6659.000000</td>\n",
       "      <td>6658.000000</td>\n",
       "    </tr>\n",
       "    <tr>\n",
       "      <th>mean</th>\n",
       "      <td>184.0</td>\n",
       "      <td>72.629769</td>\n",
       "      <td>7.304700</td>\n",
       "      <td>27.312359</td>\n",
       "      <td>38.011114</td>\n",
       "      <td>9.919958</td>\n",
       "      <td>7.817513</td>\n",
       "    </tr>\n",
       "    <tr>\n",
       "      <th>std</th>\n",
       "      <td>0.0</td>\n",
       "      <td>15.506279</td>\n",
       "      <td>3.242265</td>\n",
       "      <td>14.042303</td>\n",
       "      <td>5.165217</td>\n",
       "      <td>34.972612</td>\n",
       "      <td>39.041069</td>\n",
       "    </tr>\n",
       "    <tr>\n",
       "      <th>min</th>\n",
       "      <td>184.0</td>\n",
       "      <td>46.000000</td>\n",
       "      <td>1.000000</td>\n",
       "      <td>7.000000</td>\n",
       "      <td>21.000000</td>\n",
       "      <td>-17.000000</td>\n",
       "      <td>-48.000000</td>\n",
       "    </tr>\n",
       "    <tr>\n",
       "      <th>25%</th>\n",
       "      <td>184.0</td>\n",
       "      <td>62.000000</td>\n",
       "      <td>5.000000</td>\n",
       "      <td>17.000000</td>\n",
       "      <td>34.000000</td>\n",
       "      <td>-6.000000</td>\n",
       "      <td>-14.000000</td>\n",
       "    </tr>\n",
       "    <tr>\n",
       "      <th>50%</th>\n",
       "      <td>184.0</td>\n",
       "      <td>69.000000</td>\n",
       "      <td>7.000000</td>\n",
       "      <td>24.000000</td>\n",
       "      <td>37.000000</td>\n",
       "      <td>-2.000000</td>\n",
       "      <td>-4.000000</td>\n",
       "    </tr>\n",
       "    <tr>\n",
       "      <th>75%</th>\n",
       "      <td>184.0</td>\n",
       "      <td>79.000000</td>\n",
       "      <td>9.000000</td>\n",
       "      <td>34.000000</td>\n",
       "      <td>41.000000</td>\n",
       "      <td>7.000000</td>\n",
       "      <td>14.000000</td>\n",
       "    </tr>\n",
       "    <tr>\n",
       "      <th>max</th>\n",
       "      <td>184.0</td>\n",
       "      <td>231.000000</td>\n",
       "      <td>53.000000</td>\n",
       "      <td>143.000000</td>\n",
       "      <td>91.000000</td>\n",
       "      <td>385.000000</td>\n",
       "      <td>394.000000</td>\n",
       "    </tr>\n",
       "  </tbody>\n",
       "</table>\n",
       "</div>"
      ],
      "text/plain": [
       "       DISTANCE  ELAPSED_TIME      TAXI_IN     TAXI_OUT     AIR_TIME  \\\n",
       "count    6659.0   6658.000000  6659.000000  6659.000000  6658.000000   \n",
       "mean      184.0     72.629769     7.304700    27.312359    38.011114   \n",
       "std         0.0     15.506279     3.242265    14.042303     5.165217   \n",
       "min       184.0     46.000000     1.000000     7.000000    21.000000   \n",
       "25%       184.0     62.000000     5.000000    17.000000    34.000000   \n",
       "50%       184.0     69.000000     7.000000    24.000000    37.000000   \n",
       "75%       184.0     79.000000     9.000000    34.000000    41.000000   \n",
       "max       184.0    231.000000    53.000000   143.000000    91.000000   \n",
       "\n",
       "       DEPARTURE_DELAY  ARRIVAL_DELAY  \n",
       "count      6659.000000    6658.000000  \n",
       "mean          9.919958       7.817513  \n",
       "std          34.972612      39.041069  \n",
       "min         -17.000000     -48.000000  \n",
       "25%          -6.000000     -14.000000  \n",
       "50%          -2.000000      -4.000000  \n",
       "75%           7.000000      14.000000  \n",
       "max         385.000000     394.000000  "
      ]
     },
     "execution_count": 98,
     "metadata": {},
     "output_type": "execute_result"
    }
   ],
   "source": [
    "LA_GE[['DISTANCE','ELAPSED_TIME','TAXI_IN','TAXI_OUT','AIR_TIME','DEPARTURE_DELAY','ARRIVAL_DELAY']].describe()"
   ]
  },
  {
   "cell_type": "code",
   "execution_count": 99,
   "metadata": {},
   "outputs": [
    {
     "data": {
      "text/plain": [
       "Delta Air Lines Inc.      3098\n",
       "US Airways Inc.           1941\n",
       "American Airlines Inc.    1614\n",
       "Name: AIRLINE, dtype: int64"
      ]
     },
     "execution_count": 99,
     "metadata": {},
     "output_type": "execute_result"
    }
   ],
   "source": [
    "GE_LA['AIRLINE'].value_counts()"
   ]
  },
  {
   "cell_type": "markdown",
   "metadata": {},
   "source": [
    "## REALIZED"
   ]
  },
  {
   "cell_type": "code",
   "execution_count": 24,
   "metadata": {},
   "outputs": [],
   "source": [
    "realized_data = data[data['CANCELLED']=='No']"
   ]
  },
  {
   "cell_type": "code",
   "execution_count": 66,
   "metadata": {
    "scrolled": true
   },
   "outputs": [
    {
     "data": {
      "text/html": [
       "<div>\n",
       "<style scoped>\n",
       "    .dataframe tbody tr th:only-of-type {\n",
       "        vertical-align: middle;\n",
       "    }\n",
       "\n",
       "    .dataframe tbody tr th {\n",
       "        vertical-align: top;\n",
       "    }\n",
       "\n",
       "    .dataframe thead th {\n",
       "        text-align: right;\n",
       "    }\n",
       "</style>\n",
       "<table border=\"1\" class=\"dataframe\">\n",
       "  <thead>\n",
       "    <tr style=\"text-align: right;\">\n",
       "      <th></th>\n",
       "      <th>YEAR</th>\n",
       "      <th>DAY</th>\n",
       "      <th>FLIGHT_NUMBER</th>\n",
       "      <th>SCHEDULED_DEPARTURE</th>\n",
       "      <th>DEPARTURE_TIME</th>\n",
       "      <th>DEPARTURE_DELAY</th>\n",
       "      <th>TAXI_OUT</th>\n",
       "      <th>WHEELS_OFF</th>\n",
       "      <th>SCHEDULED_TIME</th>\n",
       "      <th>ELAPSED_TIME</th>\n",
       "      <th>...</th>\n",
       "      <th>WHEELS_ON</th>\n",
       "      <th>TAXI_IN</th>\n",
       "      <th>SCHEDULED_ARRIVAL</th>\n",
       "      <th>ARRIVAL_TIME</th>\n",
       "      <th>ARRIVAL_DELAY</th>\n",
       "      <th>AIR_SYSTEM_DELAY</th>\n",
       "      <th>SECURITY_DELAY</th>\n",
       "      <th>AIRLINE_DELAY</th>\n",
       "      <th>LATE_AIRCRAFT_DELAY</th>\n",
       "      <th>WEATHER_DELAY</th>\n",
       "    </tr>\n",
       "  </thead>\n",
       "  <tbody>\n",
       "    <tr>\n",
       "      <th>count</th>\n",
       "      <td>5729195.0</td>\n",
       "      <td>5.729195e+06</td>\n",
       "      <td>5.729195e+06</td>\n",
       "      <td>5.729195e+06</td>\n",
       "      <td>5.729195e+06</td>\n",
       "      <td>5.729195e+06</td>\n",
       "      <td>5.729195e+06</td>\n",
       "      <td>5.729195e+06</td>\n",
       "      <td>5.729194e+06</td>\n",
       "      <td>5.714008e+06</td>\n",
       "      <td>...</td>\n",
       "      <td>5.726566e+06</td>\n",
       "      <td>5.726566e+06</td>\n",
       "      <td>5.729195e+06</td>\n",
       "      <td>5.726566e+06</td>\n",
       "      <td>5.714008e+06</td>\n",
       "      <td>1.063439e+06</td>\n",
       "      <td>1.063439e+06</td>\n",
       "      <td>1.063439e+06</td>\n",
       "      <td>1.063439e+06</td>\n",
       "      <td>1.063439e+06</td>\n",
       "    </tr>\n",
       "    <tr>\n",
       "      <th>mean</th>\n",
       "      <td>2015.0</td>\n",
       "      <td>1.570848e+01</td>\n",
       "      <td>2.164753e+03</td>\n",
       "      <td>1.328890e+03</td>\n",
       "      <td>1.335102e+03</td>\n",
       "      <td>9.338837e+00</td>\n",
       "      <td>1.607112e+01</td>\n",
       "      <td>1.357142e+03</td>\n",
       "      <td>1.419480e+02</td>\n",
       "      <td>1.370062e+02</td>\n",
       "      <td>...</td>\n",
       "      <td>1.471469e+03</td>\n",
       "      <td>7.434971e+00</td>\n",
       "      <td>1.493315e+03</td>\n",
       "      <td>1.476491e+03</td>\n",
       "      <td>4.407057e+00</td>\n",
       "      <td>1.348057e+01</td>\n",
       "      <td>7.615387e-02</td>\n",
       "      <td>1.896955e+01</td>\n",
       "      <td>2.347284e+01</td>\n",
       "      <td>2.915290e+00</td>\n",
       "    </tr>\n",
       "    <tr>\n",
       "      <th>std</th>\n",
       "      <td>0.0</td>\n",
       "      <td>8.774635e+00</td>\n",
       "      <td>1.754924e+03</td>\n",
       "      <td>4.834692e+02</td>\n",
       "      <td>4.963902e+02</td>\n",
       "      <td>3.699246e+01</td>\n",
       "      <td>8.894483e+00</td>\n",
       "      <td>4.979969e+02</td>\n",
       "      <td>7.533501e+01</td>\n",
       "      <td>7.421107e+01</td>\n",
       "      <td>...</td>\n",
       "      <td>5.221879e+02</td>\n",
       "      <td>5.638548e+00</td>\n",
       "      <td>5.068360e+02</td>\n",
       "      <td>5.263197e+02</td>\n",
       "      <td>3.927130e+01</td>\n",
       "      <td>2.800368e+01</td>\n",
       "      <td>2.143460e+00</td>\n",
       "      <td>4.816164e+01</td>\n",
       "      <td>4.319702e+01</td>\n",
       "      <td>2.043334e+01</td>\n",
       "    </tr>\n",
       "    <tr>\n",
       "      <th>min</th>\n",
       "      <td>2015.0</td>\n",
       "      <td>1.000000e+00</td>\n",
       "      <td>1.000000e+00</td>\n",
       "      <td>1.000000e+00</td>\n",
       "      <td>1.000000e+00</td>\n",
       "      <td>-8.200000e+01</td>\n",
       "      <td>1.000000e+00</td>\n",
       "      <td>1.000000e+00</td>\n",
       "      <td>1.800000e+01</td>\n",
       "      <td>1.400000e+01</td>\n",
       "      <td>...</td>\n",
       "      <td>1.000000e+00</td>\n",
       "      <td>1.000000e+00</td>\n",
       "      <td>1.000000e+00</td>\n",
       "      <td>1.000000e+00</td>\n",
       "      <td>-8.700000e+01</td>\n",
       "      <td>0.000000e+00</td>\n",
       "      <td>0.000000e+00</td>\n",
       "      <td>0.000000e+00</td>\n",
       "      <td>0.000000e+00</td>\n",
       "      <td>0.000000e+00</td>\n",
       "    </tr>\n",
       "    <tr>\n",
       "      <th>25%</th>\n",
       "      <td>2015.0</td>\n",
       "      <td>8.000000e+00</td>\n",
       "      <td>7.280000e+02</td>\n",
       "      <td>9.160000e+02</td>\n",
       "      <td>9.210000e+02</td>\n",
       "      <td>-5.000000e+00</td>\n",
       "      <td>1.100000e+01</td>\n",
       "      <td>9.350000e+02</td>\n",
       "      <td>8.600000e+01</td>\n",
       "      <td>8.200000e+01</td>\n",
       "      <td>...</td>\n",
       "      <td>1.054000e+03</td>\n",
       "      <td>4.000000e+00</td>\n",
       "      <td>1.110000e+03</td>\n",
       "      <td>1.059000e+03</td>\n",
       "      <td>-1.300000e+01</td>\n",
       "      <td>0.000000e+00</td>\n",
       "      <td>0.000000e+00</td>\n",
       "      <td>0.000000e+00</td>\n",
       "      <td>0.000000e+00</td>\n",
       "      <td>0.000000e+00</td>\n",
       "    </tr>\n",
       "    <tr>\n",
       "      <th>50%</th>\n",
       "      <td>2015.0</td>\n",
       "      <td>1.600000e+01</td>\n",
       "      <td>1.681000e+03</td>\n",
       "      <td>1.325000e+03</td>\n",
       "      <td>1.330000e+03</td>\n",
       "      <td>-2.000000e+00</td>\n",
       "      <td>1.400000e+01</td>\n",
       "      <td>1.343000e+03</td>\n",
       "      <td>1.230000e+02</td>\n",
       "      <td>1.180000e+02</td>\n",
       "      <td>...</td>\n",
       "      <td>1.509000e+03</td>\n",
       "      <td>6.000000e+00</td>\n",
       "      <td>1.520000e+03</td>\n",
       "      <td>1.512000e+03</td>\n",
       "      <td>-5.000000e+00</td>\n",
       "      <td>2.000000e+00</td>\n",
       "      <td>0.000000e+00</td>\n",
       "      <td>2.000000e+00</td>\n",
       "      <td>3.000000e+00</td>\n",
       "      <td>0.000000e+00</td>\n",
       "    </tr>\n",
       "    <tr>\n",
       "      <th>75%</th>\n",
       "      <td>2015.0</td>\n",
       "      <td>2.300000e+01</td>\n",
       "      <td>3.212000e+03</td>\n",
       "      <td>1.730000e+03</td>\n",
       "      <td>1.740000e+03</td>\n",
       "      <td>7.000000e+00</td>\n",
       "      <td>1.900000e+01</td>\n",
       "      <td>1.754000e+03</td>\n",
       "      <td>1.740000e+02</td>\n",
       "      <td>1.680000e+02</td>\n",
       "      <td>...</td>\n",
       "      <td>1.911000e+03</td>\n",
       "      <td>9.000000e+00</td>\n",
       "      <td>1.917000e+03</td>\n",
       "      <td>1.917000e+03</td>\n",
       "      <td>8.000000e+00</td>\n",
       "      <td>1.800000e+01</td>\n",
       "      <td>0.000000e+00</td>\n",
       "      <td>1.900000e+01</td>\n",
       "      <td>2.900000e+01</td>\n",
       "      <td>0.000000e+00</td>\n",
       "    </tr>\n",
       "    <tr>\n",
       "      <th>max</th>\n",
       "      <td>2015.0</td>\n",
       "      <td>3.100000e+01</td>\n",
       "      <td>9.320000e+03</td>\n",
       "      <td>2.359000e+03</td>\n",
       "      <td>2.400000e+03</td>\n",
       "      <td>1.988000e+03</td>\n",
       "      <td>2.250000e+02</td>\n",
       "      <td>2.400000e+03</td>\n",
       "      <td>7.180000e+02</td>\n",
       "      <td>7.660000e+02</td>\n",
       "      <td>...</td>\n",
       "      <td>2.400000e+03</td>\n",
       "      <td>2.480000e+02</td>\n",
       "      <td>2.400000e+03</td>\n",
       "      <td>2.400000e+03</td>\n",
       "      <td>1.971000e+03</td>\n",
       "      <td>1.134000e+03</td>\n",
       "      <td>5.730000e+02</td>\n",
       "      <td>1.971000e+03</td>\n",
       "      <td>1.331000e+03</td>\n",
       "      <td>1.211000e+03</td>\n",
       "    </tr>\n",
       "  </tbody>\n",
       "</table>\n",
       "<p>8 rows × 22 columns</p>\n",
       "</div>"
      ],
      "text/plain": [
       "            YEAR           DAY  FLIGHT_NUMBER  SCHEDULED_DEPARTURE  \\\n",
       "count  5729195.0  5.729195e+06   5.729195e+06         5.729195e+06   \n",
       "mean      2015.0  1.570848e+01   2.164753e+03         1.328890e+03   \n",
       "std          0.0  8.774635e+00   1.754924e+03         4.834692e+02   \n",
       "min       2015.0  1.000000e+00   1.000000e+00         1.000000e+00   \n",
       "25%       2015.0  8.000000e+00   7.280000e+02         9.160000e+02   \n",
       "50%       2015.0  1.600000e+01   1.681000e+03         1.325000e+03   \n",
       "75%       2015.0  2.300000e+01   3.212000e+03         1.730000e+03   \n",
       "max       2015.0  3.100000e+01   9.320000e+03         2.359000e+03   \n",
       "\n",
       "       DEPARTURE_TIME  DEPARTURE_DELAY      TAXI_OUT    WHEELS_OFF  \\\n",
       "count    5.729195e+06     5.729195e+06  5.729195e+06  5.729195e+06   \n",
       "mean     1.335102e+03     9.338837e+00  1.607112e+01  1.357142e+03   \n",
       "std      4.963902e+02     3.699246e+01  8.894483e+00  4.979969e+02   \n",
       "min      1.000000e+00    -8.200000e+01  1.000000e+00  1.000000e+00   \n",
       "25%      9.210000e+02    -5.000000e+00  1.100000e+01  9.350000e+02   \n",
       "50%      1.330000e+03    -2.000000e+00  1.400000e+01  1.343000e+03   \n",
       "75%      1.740000e+03     7.000000e+00  1.900000e+01  1.754000e+03   \n",
       "max      2.400000e+03     1.988000e+03  2.250000e+02  2.400000e+03   \n",
       "\n",
       "       SCHEDULED_TIME  ELAPSED_TIME  ...     WHEELS_ON       TAXI_IN  \\\n",
       "count    5.729194e+06  5.714008e+06  ...  5.726566e+06  5.726566e+06   \n",
       "mean     1.419480e+02  1.370062e+02  ...  1.471469e+03  7.434971e+00   \n",
       "std      7.533501e+01  7.421107e+01  ...  5.221879e+02  5.638548e+00   \n",
       "min      1.800000e+01  1.400000e+01  ...  1.000000e+00  1.000000e+00   \n",
       "25%      8.600000e+01  8.200000e+01  ...  1.054000e+03  4.000000e+00   \n",
       "50%      1.230000e+02  1.180000e+02  ...  1.509000e+03  6.000000e+00   \n",
       "75%      1.740000e+02  1.680000e+02  ...  1.911000e+03  9.000000e+00   \n",
       "max      7.180000e+02  7.660000e+02  ...  2.400000e+03  2.480000e+02   \n",
       "\n",
       "       SCHEDULED_ARRIVAL  ARRIVAL_TIME  ARRIVAL_DELAY  AIR_SYSTEM_DELAY  \\\n",
       "count       5.729195e+06  5.726566e+06   5.714008e+06      1.063439e+06   \n",
       "mean        1.493315e+03  1.476491e+03   4.407057e+00      1.348057e+01   \n",
       "std         5.068360e+02  5.263197e+02   3.927130e+01      2.800368e+01   \n",
       "min         1.000000e+00  1.000000e+00  -8.700000e+01      0.000000e+00   \n",
       "25%         1.110000e+03  1.059000e+03  -1.300000e+01      0.000000e+00   \n",
       "50%         1.520000e+03  1.512000e+03  -5.000000e+00      2.000000e+00   \n",
       "75%         1.917000e+03  1.917000e+03   8.000000e+00      1.800000e+01   \n",
       "max         2.400000e+03  2.400000e+03   1.971000e+03      1.134000e+03   \n",
       "\n",
       "       SECURITY_DELAY  AIRLINE_DELAY  LATE_AIRCRAFT_DELAY  WEATHER_DELAY  \n",
       "count    1.063439e+06   1.063439e+06         1.063439e+06   1.063439e+06  \n",
       "mean     7.615387e-02   1.896955e+01         2.347284e+01   2.915290e+00  \n",
       "std      2.143460e+00   4.816164e+01         4.319702e+01   2.043334e+01  \n",
       "min      0.000000e+00   0.000000e+00         0.000000e+00   0.000000e+00  \n",
       "25%      0.000000e+00   0.000000e+00         0.000000e+00   0.000000e+00  \n",
       "50%      0.000000e+00   2.000000e+00         3.000000e+00   0.000000e+00  \n",
       "75%      0.000000e+00   1.900000e+01         2.900000e+01   0.000000e+00  \n",
       "max      5.730000e+02   1.971000e+03         1.331000e+03   1.211000e+03  \n",
       "\n",
       "[8 rows x 22 columns]"
      ]
     },
     "execution_count": 66,
     "metadata": {},
     "output_type": "execute_result"
    }
   ],
   "source": [
    "data[data['CANCELLED']=='No'].describe()"
   ]
  },
  {
   "cell_type": "code",
   "execution_count": 71,
   "metadata": {},
   "outputs": [
    {
     "data": {
      "text/plain": [
       "98.45535693878705"
      ]
     },
     "execution_count": 71,
     "metadata": {},
     "output_type": "execute_result"
    }
   ],
   "source": [
    "percentage(5729195,5819079)"
   ]
  },
  {
   "cell_type": "markdown",
   "metadata": {},
   "source": [
    "Cleaning data"
   ]
  },
  {
   "cell_type": "code",
   "execution_count": 25,
   "metadata": {},
   "outputs": [
    {
     "data": {
      "text/plain": [
       "YEAR                         0\n",
       "MONTH                        0\n",
       "DAY                          0\n",
       "DAY_OF_WEEK                  0\n",
       "AIRLINE                      0\n",
       "FLIGHT_NUMBER                0\n",
       "TAIL_NUMBER                  0\n",
       "ORIGIN_AIRPORT               0\n",
       "DESTINATION_AIRPORT          0\n",
       "SCHEDULED_DEPARTURE          0\n",
       "DEPARTURE_TIME               0\n",
       "DEPARTURE_DELAY              0\n",
       "TAXI_OUT                     0\n",
       "WHEELS_OFF                   0\n",
       "SCHEDULED_TIME               1\n",
       "ELAPSED_TIME             15187\n",
       "AIR_TIME                 15187\n",
       "DISTANCE                     0\n",
       "WHEELS_ON                 2629\n",
       "TAXI_IN                   2629\n",
       "SCHEDULED_ARRIVAL            0\n",
       "ARRIVAL_TIME              2629\n",
       "ARRIVAL_DELAY            15187\n",
       "DIVERTED                     0\n",
       "CANCELLED                    0\n",
       "CANCELLATION_REASON    5729195\n",
       "AIR_SYSTEM_DELAY       4665756\n",
       "SECURITY_DELAY         4665756\n",
       "AIRLINE_DELAY          4665756\n",
       "LATE_AIRCRAFT_DELAY    4665756\n",
       "WEATHER_DELAY          4665756\n",
       "dtype: int64"
      ]
     },
     "execution_count": 25,
     "metadata": {},
     "output_type": "execute_result"
    }
   ],
   "source": [
    "realized_data.isnull().sum()"
   ]
  },
  {
   "cell_type": "code",
   "execution_count": 72,
   "metadata": {},
   "outputs": [
    {
     "data": {
      "text/plain": [
       "81.43824743266724"
      ]
     },
     "execution_count": 72,
     "metadata": {},
     "output_type": "execute_result"
    }
   ],
   "source": [
    "percentage(4665756,5729195)"
   ]
  },
  {
   "cell_type": "code",
   "execution_count": 26,
   "metadata": {},
   "outputs": [],
   "source": [
    "realized_data = realized_data.drop(\"CANCELLATION_REASON\", axis=1)"
   ]
  },
  {
   "cell_type": "markdown",
   "metadata": {},
   "source": [
    "Counts"
   ]
  },
  {
   "cell_type": "code",
   "execution_count": 27,
   "metadata": {},
   "outputs": [
    {
     "data": {
      "text/plain": [
       "July         515912\n",
       "August       505484\n",
       "June         494777\n",
       "March        493310\n",
       "May          491299\n",
       "October      483711\n",
       "April        480631\n",
       "December     471167\n",
       "November     463373\n",
       "September    462871\n",
       "January      457986\n",
       "February     408674\n",
       "Name: MONTH, dtype: int64"
      ]
     },
     "execution_count": 27,
     "metadata": {},
     "output_type": "execute_result"
    }
   ],
   "source": [
    "realized_data['MONTH'].value_counts()"
   ]
  },
  {
   "cell_type": "code",
   "execution_count": 28,
   "metadata": {},
   "outputs": [
    {
     "data": {
      "image/png": "[encoded data removed]",
      "text/plain": [
       "<Figure size 864x216 with 1 Axes>"
      ]
     },
     "metadata": {
      "needs_background": "light"
     },
     "output_type": "display_data"
    }
   ],
   "source": [
    "fig=plt.figure(figsize=(12,3))\n",
    "sns.countplot(x='MONTH', data=realized_data, palette='flare')\n",
    "fig.autofmt_xdate(rotation=20)\n",
    "plt.show()"
   ]
  },
  {
   "cell_type": "code",
   "execution_count": 73,
   "metadata": {},
   "outputs": [
    {
     "data": {
      "text/html": [
       "<div>\n",
       "<style scoped>\n",
       "    .dataframe tbody tr th:only-of-type {\n",
       "        vertical-align: middle;\n",
       "    }\n",
       "\n",
       "    .dataframe tbody tr th {\n",
       "        vertical-align: top;\n",
       "    }\n",
       "\n",
       "    .dataframe thead tr th {\n",
       "        text-align: left;\n",
       "    }\n",
       "\n",
       "    .dataframe thead tr:last-of-type th {\n",
       "        text-align: right;\n",
       "    }\n",
       "</style>\n",
       "<table border=\"1\" class=\"dataframe\">\n",
       "  <thead>\n",
       "    <tr>\n",
       "      <th></th>\n",
       "      <th colspan=\"2\" halign=\"left\">DEPARTURE_DELAY</th>\n",
       "      <th colspan=\"2\" halign=\"left\">ARRIVAL_DELAY</th>\n",
       "    </tr>\n",
       "    <tr>\n",
       "      <th></th>\n",
       "      <th>mean</th>\n",
       "      <th>count</th>\n",
       "      <th>mean</th>\n",
       "      <th>count</th>\n",
       "    </tr>\n",
       "    <tr>\n",
       "      <th>MONTH</th>\n",
       "      <th></th>\n",
       "      <th></th>\n",
       "      <th></th>\n",
       "      <th></th>\n",
       "    </tr>\n",
       "  </thead>\n",
       "  <tbody>\n",
       "    <tr>\n",
       "      <th>April</th>\n",
       "      <td>7.684097</td>\n",
       "      <td>480631</td>\n",
       "      <td>3.163190</td>\n",
       "      <td>479251</td>\n",
       "    </tr>\n",
       "    <tr>\n",
       "      <th>August</th>\n",
       "      <td>9.911056</td>\n",
       "      <td>505484</td>\n",
       "      <td>4.607372</td>\n",
       "      <td>503956</td>\n",
       "    </tr>\n",
       "    <tr>\n",
       "      <th>December</th>\n",
       "      <td>11.738865</td>\n",
       "      <td>471167</td>\n",
       "      <td>6.092903</td>\n",
       "      <td>469717</td>\n",
       "    </tr>\n",
       "    <tr>\n",
       "      <th>February</th>\n",
       "      <td>11.814630</td>\n",
       "      <td>408674</td>\n",
       "      <td>8.320500</td>\n",
       "      <td>407663</td>\n",
       "    </tr>\n",
       "    <tr>\n",
       "      <th>January</th>\n",
       "      <td>9.732780</td>\n",
       "      <td>457986</td>\n",
       "      <td>5.813583</td>\n",
       "      <td>457013</td>\n",
       "    </tr>\n",
       "    <tr>\n",
       "      <th>July</th>\n",
       "      <td>11.374876</td>\n",
       "      <td>515912</td>\n",
       "      <td>6.431775</td>\n",
       "      <td>514384</td>\n",
       "    </tr>\n",
       "    <tr>\n",
       "      <th>June</th>\n",
       "      <td>13.942455</td>\n",
       "      <td>494777</td>\n",
       "      <td>9.601590</td>\n",
       "      <td>492847</td>\n",
       "    </tr>\n",
       "    <tr>\n",
       "      <th>March</th>\n",
       "      <td>9.627705</td>\n",
       "      <td>493310</td>\n",
       "      <td>4.920673</td>\n",
       "      <td>492138</td>\n",
       "    </tr>\n",
       "    <tr>\n",
       "      <th>May</th>\n",
       "      <td>9.418682</td>\n",
       "      <td>491299</td>\n",
       "      <td>4.485019</td>\n",
       "      <td>489641</td>\n",
       "    </tr>\n",
       "    <tr>\n",
       "      <th>November</th>\n",
       "      <td>6.922445</td>\n",
       "      <td>463373</td>\n",
       "      <td>1.100784</td>\n",
       "      <td>462367</td>\n",
       "    </tr>\n",
       "    <tr>\n",
       "      <th>October</th>\n",
       "      <td>4.971586</td>\n",
       "      <td>483711</td>\n",
       "      <td>-0.780390</td>\n",
       "      <td>482878</td>\n",
       "    </tr>\n",
       "    <tr>\n",
       "      <th>September</th>\n",
       "      <td>4.813419</td>\n",
       "      <td>462871</td>\n",
       "      <td>-0.772571</td>\n",
       "      <td>462153</td>\n",
       "    </tr>\n",
       "  </tbody>\n",
       "</table>\n",
       "</div>"
      ],
      "text/plain": [
       "          DEPARTURE_DELAY         ARRIVAL_DELAY        \n",
       "                     mean   count          mean   count\n",
       "MONTH                                                  \n",
       "April            7.684097  480631      3.163190  479251\n",
       "August           9.911056  505484      4.607372  503956\n",
       "December        11.738865  471167      6.092903  469717\n",
       "February        11.814630  408674      8.320500  407663\n",
       "January          9.732780  457986      5.813583  457013\n",
       "July            11.374876  515912      6.431775  514384\n",
       "June            13.942455  494777      9.601590  492847\n",
       "March            9.627705  493310      4.920673  492138\n",
       "May              9.418682  491299      4.485019  489641\n",
       "November         6.922445  463373      1.100784  462367\n",
       "October          4.971586  483711     -0.780390  482878\n",
       "September        4.813419  462871     -0.772571  462153"
      ]
     },
     "execution_count": 73,
     "metadata": {},
     "output_type": "execute_result"
    }
   ],
   "source": [
    "columns_delay = ['DEPARTURE_DELAY','ARRIVAL_DELAY']\n",
    "realized_data_ad_delay_m = realized_data.groupby(['MONTH'])[columns_delay].agg(['mean','count'])\n",
    "realized_data_ad_delay_m"
   ]
  },
  {
   "cell_type": "code",
   "execution_count": 29,
   "metadata": {},
   "outputs": [
    {
     "data": {
      "text/plain": [
       "Thursday     860230\n",
       "Friday       853404\n",
       "Wednesday    845168\n",
       "Monday       844470\n",
       "Tuesday      829528\n",
       "Sunday       804599\n",
       "Saturday     691796\n",
       "Name: DAY_OF_WEEK, dtype: int64"
      ]
     },
     "execution_count": 29,
     "metadata": {},
     "output_type": "execute_result"
    }
   ],
   "source": [
    "realized_data['DAY_OF_WEEK'].value_counts()"
   ]
  },
  {
   "cell_type": "code",
   "execution_count": 30,
   "metadata": {},
   "outputs": [
    {
     "data": {
      "image/png": "[encoded data removed]",
      "text/plain": [
       "<Figure size 576x216 with 1 Axes>"
      ]
     },
     "metadata": {
      "needs_background": "light"
     },
     "output_type": "display_data"
    }
   ],
   "source": [
    "fig=plt.figure(figsize=(8,3))\n",
    "sns.countplot(x='DAY_OF_WEEK', data=realized_data, palette=\"Set3\")\n",
    "fig.autofmt_xdate(rotation=20)\n",
    "plt.show()"
   ]
  },
  {
   "cell_type": "code",
   "execution_count": 31,
   "metadata": {},
   "outputs": [
    {
     "data": {
      "text/plain": [
       "13    193707\n",
       "16    192906\n",
       "20    192797\n",
       "19    191861\n",
       "8     191115\n",
       "2     191036\n",
       "9     190322\n",
       "22    190320\n",
       "23    189806\n",
       "12    189447\n",
       "6     189243\n",
       "18    188905\n",
       "11    188871\n",
       "15    188699\n",
       "17    188314\n",
       "4     188200\n",
       "3     187319\n",
       "14    186796\n",
       "28    186498\n",
       "10    186439\n",
       "21    186280\n",
       "7     186153\n",
       "27    185850\n",
       "5     185315\n",
       "25    184840\n",
       "1     184157\n",
       "26    183482\n",
       "24    182605\n",
       "29    177986\n",
       "30    177217\n",
       "31    102709\n",
       "Name: DAY, dtype: int64"
      ]
     },
     "execution_count": 31,
     "metadata": {},
     "output_type": "execute_result"
    }
   ],
   "source": [
    "realized_data['DAY'].value_counts()"
   ]
  },
  {
   "cell_type": "markdown",
   "metadata": {},
   "source": [
    "Delays"
   ]
  },
  {
   "cell_type": "code",
   "execution_count": 32,
   "metadata": {},
   "outputs": [
    {
     "data": {
      "text/html": [
       "<div>\n",
       "<style scoped>\n",
       "    .dataframe tbody tr th:only-of-type {\n",
       "        vertical-align: middle;\n",
       "    }\n",
       "\n",
       "    .dataframe tbody tr th {\n",
       "        vertical-align: top;\n",
       "    }\n",
       "\n",
       "    .dataframe thead tr th {\n",
       "        text-align: left;\n",
       "    }\n",
       "\n",
       "    .dataframe thead tr:last-of-type th {\n",
       "        text-align: right;\n",
       "    }\n",
       "</style>\n",
       "<table border=\"1\" class=\"dataframe\">\n",
       "  <thead>\n",
       "    <tr>\n",
       "      <th></th>\n",
       "      <th colspan=\"2\" halign=\"left\">DEPARTURE_DELAY</th>\n",
       "      <th colspan=\"2\" halign=\"left\">ARRIVAL_DELAY</th>\n",
       "    </tr>\n",
       "    <tr>\n",
       "      <th></th>\n",
       "      <th>mean</th>\n",
       "      <th>count</th>\n",
       "      <th>mean</th>\n",
       "      <th>count</th>\n",
       "    </tr>\n",
       "    <tr>\n",
       "      <th>DAY_OF_WEEK</th>\n",
       "      <th></th>\n",
       "      <th></th>\n",
       "      <th></th>\n",
       "      <th></th>\n",
       "    </tr>\n",
       "  </thead>\n",
       "  <tbody>\n",
       "    <tr>\n",
       "      <th>Friday</th>\n",
       "      <td>9.404951</td>\n",
       "      <td>853404</td>\n",
       "      <td>4.764079</td>\n",
       "      <td>851387</td>\n",
       "    </tr>\n",
       "    <tr>\n",
       "      <th>Monday</th>\n",
       "      <td>10.821282</td>\n",
       "      <td>844470</td>\n",
       "      <td>6.002063</td>\n",
       "      <td>841794</td>\n",
       "    </tr>\n",
       "    <tr>\n",
       "      <th>Saturday</th>\n",
       "      <td>7.788214</td>\n",
       "      <td>691796</td>\n",
       "      <td>1.852892</td>\n",
       "      <td>689745</td>\n",
       "    </tr>\n",
       "    <tr>\n",
       "      <th>Sunday</th>\n",
       "      <td>9.367854</td>\n",
       "      <td>804599</td>\n",
       "      <td>3.958293</td>\n",
       "      <td>802555</td>\n",
       "    </tr>\n",
       "    <tr>\n",
       "      <th>Thursday</th>\n",
       "      <td>9.925353</td>\n",
       "      <td>860230</td>\n",
       "      <td>5.668334</td>\n",
       "      <td>857886</td>\n",
       "    </tr>\n",
       "    <tr>\n",
       "      <th>Tuesday</th>\n",
       "      <td>9.142979</td>\n",
       "      <td>829528</td>\n",
       "      <td>4.246041</td>\n",
       "      <td>827399</td>\n",
       "    </tr>\n",
       "    <tr>\n",
       "      <th>Wednesday</th>\n",
       "      <td>8.627734</td>\n",
       "      <td>845168</td>\n",
       "      <td>3.845468</td>\n",
       "      <td>843242</td>\n",
       "    </tr>\n",
       "  </tbody>\n",
       "</table>\n",
       "</div>"
      ],
      "text/plain": [
       "            DEPARTURE_DELAY         ARRIVAL_DELAY        \n",
       "                       mean   count          mean   count\n",
       "DAY_OF_WEEK                                              \n",
       "Friday             9.404951  853404      4.764079  851387\n",
       "Monday            10.821282  844470      6.002063  841794\n",
       "Saturday           7.788214  691796      1.852892  689745\n",
       "Sunday             9.367854  804599      3.958293  802555\n",
       "Thursday           9.925353  860230      5.668334  857886\n",
       "Tuesday            9.142979  829528      4.246041  827399\n",
       "Wednesday          8.627734  845168      3.845468  843242"
      ]
     },
     "execution_count": 32,
     "metadata": {},
     "output_type": "execute_result"
    }
   ],
   "source": [
    "columns_delay = ['DEPARTURE_DELAY','ARRIVAL_DELAY']\n",
    "realized_data_ad_delay = realized_data.groupby(['DAY_OF_WEEK'])[columns_delay].agg(['mean','count'])\n",
    "realized_data_ad_delay"
   ]
  },
  {
   "cell_type": "code",
   "execution_count": 72,
   "metadata": {},
   "outputs": [
    {
     "data": {
      "text/html": [
       "<div>\n",
       "<style scoped>\n",
       "    .dataframe tbody tr th:only-of-type {\n",
       "        vertical-align: middle;\n",
       "    }\n",
       "\n",
       "    .dataframe tbody tr th {\n",
       "        vertical-align: top;\n",
       "    }\n",
       "\n",
       "    .dataframe thead tr th {\n",
       "        text-align: left;\n",
       "    }\n",
       "\n",
       "    .dataframe thead tr:last-of-type th {\n",
       "        text-align: right;\n",
       "    }\n",
       "</style>\n",
       "<table border=\"1\" class=\"dataframe\">\n",
       "  <thead>\n",
       "    <tr>\n",
       "      <th></th>\n",
       "      <th colspan=\"2\" halign=\"left\">DEPARTURE_DELAY</th>\n",
       "      <th colspan=\"2\" halign=\"left\">ARRIVAL_DELAY</th>\n",
       "    </tr>\n",
       "    <tr>\n",
       "      <th></th>\n",
       "      <th>mean</th>\n",
       "      <th>count</th>\n",
       "      <th>mean</th>\n",
       "      <th>count</th>\n",
       "    </tr>\n",
       "    <tr>\n",
       "      <th>DAY</th>\n",
       "      <th></th>\n",
       "      <th></th>\n",
       "      <th></th>\n",
       "      <th></th>\n",
       "    </tr>\n",
       "  </thead>\n",
       "  <tbody>\n",
       "    <tr>\n",
       "      <th>1</th>\n",
       "      <td>10.480156</td>\n",
       "      <td>184157</td>\n",
       "      <td>5.685146</td>\n",
       "      <td>183574</td>\n",
       "    </tr>\n",
       "    <tr>\n",
       "      <th>2</th>\n",
       "      <td>10.580283</td>\n",
       "      <td>191036</td>\n",
       "      <td>6.255026</td>\n",
       "      <td>190514</td>\n",
       "    </tr>\n",
       "    <tr>\n",
       "      <th>3</th>\n",
       "      <td>9.491466</td>\n",
       "      <td>187319</td>\n",
       "      <td>4.997517</td>\n",
       "      <td>186877</td>\n",
       "    </tr>\n",
       "    <tr>\n",
       "      <th>4</th>\n",
       "      <td>9.034129</td>\n",
       "      <td>188200</td>\n",
       "      <td>4.361081</td>\n",
       "      <td>187833</td>\n",
       "    </tr>\n",
       "    <tr>\n",
       "      <th>5</th>\n",
       "      <td>9.107773</td>\n",
       "      <td>185315</td>\n",
       "      <td>4.366274</td>\n",
       "      <td>184815</td>\n",
       "    </tr>\n",
       "    <tr>\n",
       "      <th>6</th>\n",
       "      <td>8.294531</td>\n",
       "      <td>189243</td>\n",
       "      <td>3.041174</td>\n",
       "      <td>188929</td>\n",
       "    </tr>\n",
       "    <tr>\n",
       "      <th>7</th>\n",
       "      <td>6.893340</td>\n",
       "      <td>186153</td>\n",
       "      <td>1.401846</td>\n",
       "      <td>185760</td>\n",
       "    </tr>\n",
       "    <tr>\n",
       "      <th>8</th>\n",
       "      <td>9.846522</td>\n",
       "      <td>191115</td>\n",
       "      <td>4.909829</td>\n",
       "      <td>190550</td>\n",
       "    </tr>\n",
       "    <tr>\n",
       "      <th>9</th>\n",
       "      <td>10.242999</td>\n",
       "      <td>190322</td>\n",
       "      <td>5.698791</td>\n",
       "      <td>189659</td>\n",
       "    </tr>\n",
       "    <tr>\n",
       "      <th>10</th>\n",
       "      <td>9.912626</td>\n",
       "      <td>186439</td>\n",
       "      <td>5.290148</td>\n",
       "      <td>185895</td>\n",
       "    </tr>\n",
       "    <tr>\n",
       "      <th>11</th>\n",
       "      <td>8.548830</td>\n",
       "      <td>188871</td>\n",
       "      <td>3.448195</td>\n",
       "      <td>188340</td>\n",
       "    </tr>\n",
       "    <tr>\n",
       "      <th>12</th>\n",
       "      <td>7.374680</td>\n",
       "      <td>189447</td>\n",
       "      <td>2.291553</td>\n",
       "      <td>189091</td>\n",
       "    </tr>\n",
       "    <tr>\n",
       "      <th>13</th>\n",
       "      <td>8.315239</td>\n",
       "      <td>193707</td>\n",
       "      <td>3.025539</td>\n",
       "      <td>193233</td>\n",
       "    </tr>\n",
       "    <tr>\n",
       "      <th>14</th>\n",
       "      <td>7.931760</td>\n",
       "      <td>186796</td>\n",
       "      <td>2.595165</td>\n",
       "      <td>186286</td>\n",
       "    </tr>\n",
       "    <tr>\n",
       "      <th>15</th>\n",
       "      <td>9.892204</td>\n",
       "      <td>188699</td>\n",
       "      <td>4.781913</td>\n",
       "      <td>188186</td>\n",
       "    </tr>\n",
       "    <tr>\n",
       "      <th>16</th>\n",
       "      <td>8.770417</td>\n",
       "      <td>192906</td>\n",
       "      <td>3.947383</td>\n",
       "      <td>192466</td>\n",
       "    </tr>\n",
       "    <tr>\n",
       "      <th>17</th>\n",
       "      <td>11.203384</td>\n",
       "      <td>188314</td>\n",
       "      <td>6.424874</td>\n",
       "      <td>187750</td>\n",
       "    </tr>\n",
       "    <tr>\n",
       "      <th>18</th>\n",
       "      <td>12.880395</td>\n",
       "      <td>188905</td>\n",
       "      <td>9.034393</td>\n",
       "      <td>188322</td>\n",
       "    </tr>\n",
       "    <tr>\n",
       "      <th>19</th>\n",
       "      <td>9.217366</td>\n",
       "      <td>191861</td>\n",
       "      <td>4.040942</td>\n",
       "      <td>191517</td>\n",
       "    </tr>\n",
       "    <tr>\n",
       "      <th>20</th>\n",
       "      <td>10.407895</td>\n",
       "      <td>192797</td>\n",
       "      <td>5.718891</td>\n",
       "      <td>192253</td>\n",
       "    </tr>\n",
       "    <tr>\n",
       "      <th>21</th>\n",
       "      <td>9.544809</td>\n",
       "      <td>186280</td>\n",
       "      <td>4.756830</td>\n",
       "      <td>185796</td>\n",
       "    </tr>\n",
       "    <tr>\n",
       "      <th>22</th>\n",
       "      <td>8.526219</td>\n",
       "      <td>190320</td>\n",
       "      <td>3.432002</td>\n",
       "      <td>189939</td>\n",
       "    </tr>\n",
       "    <tr>\n",
       "      <th>23</th>\n",
       "      <td>11.203034</td>\n",
       "      <td>189806</td>\n",
       "      <td>6.336568</td>\n",
       "      <td>189213</td>\n",
       "    </tr>\n",
       "    <tr>\n",
       "      <th>24</th>\n",
       "      <td>8.949399</td>\n",
       "      <td>182605</td>\n",
       "      <td>3.394050</td>\n",
       "      <td>182096</td>\n",
       "    </tr>\n",
       "    <tr>\n",
       "      <th>25</th>\n",
       "      <td>7.261372</td>\n",
       "      <td>184840</td>\n",
       "      <td>2.160575</td>\n",
       "      <td>184275</td>\n",
       "    </tr>\n",
       "    <tr>\n",
       "      <th>26</th>\n",
       "      <td>9.862254</td>\n",
       "      <td>183482</td>\n",
       "      <td>5.389968</td>\n",
       "      <td>182784</td>\n",
       "    </tr>\n",
       "    <tr>\n",
       "      <th>27</th>\n",
       "      <td>10.033414</td>\n",
       "      <td>185850</td>\n",
       "      <td>5.405071</td>\n",
       "      <td>185355</td>\n",
       "    </tr>\n",
       "    <tr>\n",
       "      <th>28</th>\n",
       "      <td>8.411763</td>\n",
       "      <td>186498</td>\n",
       "      <td>3.005407</td>\n",
       "      <td>186050</td>\n",
       "    </tr>\n",
       "    <tr>\n",
       "      <th>29</th>\n",
       "      <td>7.826672</td>\n",
       "      <td>177986</td>\n",
       "      <td>2.267092</td>\n",
       "      <td>177658</td>\n",
       "    </tr>\n",
       "    <tr>\n",
       "      <th>30</th>\n",
       "      <td>10.260003</td>\n",
       "      <td>177217</td>\n",
       "      <td>5.320301</td>\n",
       "      <td>176709</td>\n",
       "    </tr>\n",
       "    <tr>\n",
       "      <th>31</th>\n",
       "      <td>8.919841</td>\n",
       "      <td>102709</td>\n",
       "      <td>3.132691</td>\n",
       "      <td>102283</td>\n",
       "    </tr>\n",
       "  </tbody>\n",
       "</table>\n",
       "</div>"
      ],
      "text/plain": [
       "    DEPARTURE_DELAY         ARRIVAL_DELAY        \n",
       "               mean   count          mean   count\n",
       "DAY                                              \n",
       "1         10.480156  184157      5.685146  183574\n",
       "2         10.580283  191036      6.255026  190514\n",
       "3          9.491466  187319      4.997517  186877\n",
       "4          9.034129  188200      4.361081  187833\n",
       "5          9.107773  185315      4.366274  184815\n",
       "6          8.294531  189243      3.041174  188929\n",
       "7          6.893340  186153      1.401846  185760\n",
       "8          9.846522  191115      4.909829  190550\n",
       "9         10.242999  190322      5.698791  189659\n",
       "10         9.912626  186439      5.290148  185895\n",
       "11         8.548830  188871      3.448195  188340\n",
       "12         7.374680  189447      2.291553  189091\n",
       "13         8.315239  193707      3.025539  193233\n",
       "14         7.931760  186796      2.595165  186286\n",
       "15         9.892204  188699      4.781913  188186\n",
       "16         8.770417  192906      3.947383  192466\n",
       "17        11.203384  188314      6.424874  187750\n",
       "18        12.880395  188905      9.034393  188322\n",
       "19         9.217366  191861      4.040942  191517\n",
       "20        10.407895  192797      5.718891  192253\n",
       "21         9.544809  186280      4.756830  185796\n",
       "22         8.526219  190320      3.432002  189939\n",
       "23        11.203034  189806      6.336568  189213\n",
       "24         8.949399  182605      3.394050  182096\n",
       "25         7.261372  184840      2.160575  184275\n",
       "26         9.862254  183482      5.389968  182784\n",
       "27        10.033414  185850      5.405071  185355\n",
       "28         8.411763  186498      3.005407  186050\n",
       "29         7.826672  177986      2.267092  177658\n",
       "30        10.260003  177217      5.320301  176709\n",
       "31         8.919841  102709      3.132691  102283"
      ]
     },
     "execution_count": 72,
     "metadata": {},
     "output_type": "execute_result"
    }
   ],
   "source": [
    "columns_delay = ['DEPARTURE_DELAY','ARRIVAL_DELAY']\n",
    "data_ad_delay = realised_data.groupby(['DAY'])[columns_delay].agg(['mean','count'])\n",
    "data_ad_delay"
   ]
  },
  {
   "cell_type": "code",
   "execution_count": 33,
   "metadata": {},
   "outputs": [],
   "source": [
    "day_of_monthD = realized_data[['DAY','DEPARTURE_DELAY']].groupby('DAY').agg(['mean','count'])\n",
    "day_of_monthD.columns = ['mean','count']\n",
    "day_of_monthA = realized_data[['DAY','ARRIVAL_DELAY']].groupby('DAY').agg(['mean','count'])\n",
    "day_of_monthA.columns = ['mean','count']"
   ]
  },
  {
   "cell_type": "code",
   "execution_count": 34,
   "metadata": {},
   "outputs": [],
   "source": [
    "mean_daysD=np.array(day_of_monthD['mean'])\n",
    "mean_daysA=np.array(day_of_monthA['mean'])"
   ]
  },
  {
   "cell_type": "code",
   "execution_count": 35,
   "metadata": {},
   "outputs": [],
   "source": [
    "days=np.linspace(1, 31, 31)"
   ]
  },
  {
   "cell_type": "code",
   "execution_count": 37,
   "metadata": {},
   "outputs": [
    {
     "data": {
      "image/png": "[encoded data removed]",
      "text/plain": [
       "<Figure size 1296x216 with 1 Axes>"
      ]
     },
     "metadata": {
      "needs_background": "light"
     },
     "output_type": "display_data"
    }
   ],
   "source": [
    "fmonth1 = interpolate.interp1d(days, mean_daysD, kind='linear')\n",
    "mean_daysD = fmonth1(days)\n",
    "fmonth2 = interpolate.interp1d(days, mean_daysA, kind='linear')\n",
    "mean_daysA = fmonth2(days)\n",
    "plt.figure(figsize=(18,3))\n",
    "plt.plot(days, mean_daysA, 'o')\n",
    "plt.plot(days, mean_daysD, 'o')\n",
    "plt.plot(days, mean_daysD, label='departure delay')\n",
    "plt.plot(days, mean_daysA, label='arrival delay')\n",
    "plt.legend()\n",
    "plt.show()"
   ]
  },
  {
   "cell_type": "markdown",
   "metadata": {},
   "source": [
    "Delay reasons"
   ]
  },
  {
   "cell_type": "code",
   "execution_count": 38,
   "metadata": {},
   "outputs": [
    {
     "data": {
      "text/plain": [
       "1063439"
      ]
     },
     "execution_count": 38,
     "metadata": {},
     "output_type": "execute_result"
    }
   ],
   "source": [
    "realized_data['AIR_SYSTEM_DELAY'].count() #every column with delay reason has the same count of not NaN values"
   ]
  },
  {
   "cell_type": "code",
   "execution_count": 39,
   "metadata": {},
   "outputs": [
    {
     "data": {
      "text/plain": [
       "0.0       498613\n",
       "1.0        28003\n",
       "15.0       23199\n",
       "2.0        22981\n",
       "3.0        21446\n",
       "           ...  \n",
       "482.0          1\n",
       "481.0          1\n",
       "478.0          1\n",
       "477.0          1\n",
       "1101.0         1\n",
       "Name: AIR_SYSTEM_DELAY, Length: 570, dtype: int64"
      ]
     },
     "execution_count": 39,
     "metadata": {},
     "output_type": "execute_result"
    }
   ],
   "source": [
    "realized_data['AIR_SYSTEM_DELAY'].value_counts()"
   ]
  },
  {
   "cell_type": "code",
   "execution_count": 40,
   "metadata": {},
   "outputs": [
    {
     "data": {
      "text/plain": [
       "13.480568231934319"
      ]
     },
     "execution_count": 40,
     "metadata": {},
     "output_type": "execute_result"
    }
   ],
   "source": [
    "realized_data['AIR_SYSTEM_DELAY'].mean()"
   ]
  },
  {
   "cell_type": "code",
   "execution_count": 41,
   "metadata": {},
   "outputs": [
    {
     "data": {
      "text/plain": [
       "0.0      1059955\n",
       "15.0         158\n",
       "8.0          127\n",
       "10.0         125\n",
       "12.0         124\n",
       "          ...   \n",
       "129.0          1\n",
       "133.0          1\n",
       "138.0          1\n",
       "140.0          1\n",
       "171.0          1\n",
       "Name: SECURITY_DELAY, Length: 154, dtype: int64"
      ]
     },
     "execution_count": 41,
     "metadata": {},
     "output_type": "execute_result"
    }
   ],
   "source": [
    "realized_data['SECURITY_DELAY'].value_counts()"
   ]
  },
  {
   "cell_type": "code",
   "execution_count": 42,
   "metadata": {},
   "outputs": [
    {
     "data": {
      "text/plain": [
       "0.07615387436420895"
      ]
     },
     "execution_count": 42,
     "metadata": {},
     "output_type": "execute_result"
    }
   ],
   "source": [
    "realized_data['SECURITY_DELAY'].mean()"
   ]
  },
  {
   "cell_type": "code",
   "execution_count": 43,
   "metadata": {},
   "outputs": [
    {
     "data": {
      "text/plain": [
       "0.0       493417\n",
       "1.0        21319\n",
       "2.0        21211\n",
       "3.0        20656\n",
       "4.0        20184\n",
       "           ...  \n",
       "932.0          1\n",
       "934.0          1\n",
       "935.0          1\n",
       "936.0          1\n",
       "1878.0         1\n",
       "Name: AIRLINE_DELAY, Length: 1067, dtype: int64"
      ]
     },
     "execution_count": 43,
     "metadata": {},
     "output_type": "execute_result"
    }
   ],
   "source": [
    "realized_data['AIRLINE_DELAY'].value_counts()"
   ]
  },
  {
   "cell_type": "code",
   "execution_count": 44,
   "metadata": {},
   "outputs": [
    {
     "data": {
      "text/plain": [
       "18.969546913363153"
      ]
     },
     "execution_count": 44,
     "metadata": {},
     "output_type": "execute_result"
    }
   ],
   "source": [
    "realized_data['AIRLINE_DELAY'].mean()"
   ]
  },
  {
   "cell_type": "code",
   "execution_count": 45,
   "metadata": {},
   "outputs": [
    {
     "data": {
      "text/plain": [
       "0.0      506486\n",
       "15.0      14522\n",
       "16.0      13824\n",
       "17.0      12908\n",
       "18.0      12259\n",
       "          ...  \n",
       "606.0         1\n",
       "608.0         1\n",
       "614.0         1\n",
       "620.0         1\n",
       "939.0         1\n",
       "Name: LATE_AIRCRAFT_DELAY, Length: 695, dtype: int64"
      ]
     },
     "execution_count": 45,
     "metadata": {},
     "output_type": "execute_result"
    }
   ],
   "source": [
    "realized_data['LATE_AIRCRAFT_DELAY'].value_counts()"
   ]
  },
  {
   "cell_type": "code",
   "execution_count": 46,
   "metadata": {},
   "outputs": [
    {
     "data": {
      "text/plain": [
       "23.472837652183152"
      ]
     },
     "execution_count": 46,
     "metadata": {},
     "output_type": "execute_result"
    }
   ],
   "source": [
    "realized_data['LATE_AIRCRAFT_DELAY'].mean()"
   ]
  },
  {
   "cell_type": "code",
   "execution_count": 47,
   "metadata": {},
   "outputs": [
    {
     "data": {
      "text/plain": [
       "0.0      998723\n",
       "6.0        1649\n",
       "8.0        1580\n",
       "7.0        1537\n",
       "10.0       1498\n",
       "          ...  \n",
       "380.0         1\n",
       "590.0         1\n",
       "592.0         1\n",
       "594.0         1\n",
       "987.0         1\n",
       "Name: WEATHER_DELAY, Length: 632, dtype: int64"
      ]
     },
     "execution_count": 47,
     "metadata": {},
     "output_type": "execute_result"
    }
   ],
   "source": [
    "realized_data['WEATHER_DELAY'].value_counts()"
   ]
  },
  {
   "cell_type": "code",
   "execution_count": 48,
   "metadata": {},
   "outputs": [
    {
     "data": {
      "text/plain": [
       "2.915289922600168"
      ]
     },
     "execution_count": 48,
     "metadata": {},
     "output_type": "execute_result"
    }
   ],
   "source": [
    "realized_data['WEATHER_DELAY'].mean()"
   ]
  },
  {
   "cell_type": "code",
   "execution_count": 86,
   "metadata": {},
   "outputs": [
    {
     "data": {
      "image/png": "[encoded data removed]",
      "text/plain": [
       "<Figure size 1440x432 with 1 Axes>"
      ]
     },
     "metadata": {},
     "output_type": "display_data"
    }
   ],
   "source": [
    "#we have 1063439 not NaN rows\n",
    "#now we will put calculated no zero values in each column and make pie chart\n",
    "reasons2 = np.array([564826, 3484, 570022, 556953, 64716]) #element in array = 1063439 - number_of_zero_values\n",
    "mylabels = [\"AIR_SYSTEM_DELAY\",\"SECURITY_DELAY\",\"AIRLINE_DELAY\",\"LATE_AIRCRAFT_DELAY\",\"WEATHER_DELAY\"]\n",
    "mycolors = [\"#F5DEB3\", \"#800000\", \"#BA55D3\", \"#FFC0CB\", \"#87CEEB\"]\n",
    "fig1, ax1 = plt.subplots(figsize=(20,6))\n",
    "ax1.pie(reasons2, labels=mylabels,colors = mycolors, autopct='%1.3f%%',shadow=True, startangle=90)\n",
    "plt.show()"
   ]
  },
  {
   "cell_type": "markdown",
   "metadata": {},
   "source": [
    " TAXI_IN i TAXI_OUT"
   ]
  },
  {
   "cell_type": "code",
   "execution_count": 50,
   "metadata": {},
   "outputs": [
    {
     "data": {
      "text/plain": [
       "TAXI_IN      7.434971\n",
       "TAXI_OUT    16.071118\n",
       "dtype: float64"
      ]
     },
     "execution_count": 50,
     "metadata": {},
     "output_type": "execute_result"
    }
   ],
   "source": [
    "realized_data[['TAXI_IN','TAXI_OUT']].mean()"
   ]
  },
  {
   "cell_type": "code",
   "execution_count": 51,
   "metadata": {},
   "outputs": [
    {
     "data": {
      "image/png": "[encoded data removed]",
      "text/plain": [
       "<Figure size 1440x216 with 1 Axes>"
      ]
     },
     "metadata": {},
     "output_type": "display_data"
    }
   ],
   "source": [
    "sns.set(font_scale=1.5, rc={\"figure.figsize\": (20, 3)})\n",
    "sns.boxplot(data=realized_data[['TAXI_IN','TAXI_OUT']], orient = \"h\", palette = \"Blues_d\")\n",
    "plt.show()"
   ]
  },
  {
   "cell_type": "code",
   "execution_count": 52,
   "metadata": {},
   "outputs": [
    {
     "data": {
      "image/png": "[encoded data removed]",
      "text/plain": [
       "<Figure size 720x288 with 2 Axes>"
      ]
     },
     "metadata": {},
     "output_type": "display_data"
    }
   ],
   "source": [
    "taxi_in = realized_data.loc[:, 'TAXI_IN']\n",
    "taxi_out = realized_data.loc[:, 'TAXI_OUT']\n",
    "\n",
    "taxi_in_list = taxi_in.to_list()\n",
    "taxi_out_list = taxi_out.to_list()\n",
    "\n",
    "i = np.array(taxi_in_list)\n",
    "o = np.array(taxi_out_list)\n",
    "\n",
    "fig=plt.figure(figsize=(10,4))\n",
    "\n",
    "plt.subplot(1,2,1)\n",
    "plt.hist(i, bins = [0,5,10,15,20,25,30]) \n",
    "\n",
    "plt.subplot(1,2,2)\n",
    "plt.hist(o, bins = [0,5,10,15,20,25,30]) \n",
    "\n",
    "\n",
    "plt.show()"
   ]
  },
  {
   "cell_type": "markdown",
   "metadata": {},
   "source": [
    "Diverted"
   ]
  },
  {
   "cell_type": "code",
   "execution_count": 54,
   "metadata": {},
   "outputs": [
    {
     "data": {
      "text/html": [
       "<div>\n",
       "<style scoped>\n",
       "    .dataframe tbody tr th:only-of-type {\n",
       "        vertical-align: middle;\n",
       "    }\n",
       "\n",
       "    .dataframe tbody tr th {\n",
       "        vertical-align: top;\n",
       "    }\n",
       "\n",
       "    .dataframe thead th {\n",
       "        text-align: right;\n",
       "    }\n",
       "</style>\n",
       "<table border=\"1\" class=\"dataframe\">\n",
       "  <thead>\n",
       "    <tr style=\"text-align: right;\">\n",
       "      <th></th>\n",
       "      <th>DEPARTURE_DELAY</th>\n",
       "      <th>ARRIVAL_DELAY</th>\n",
       "      <th>TAXI_OUT</th>\n",
       "      <th>TAXI_IN</th>\n",
       "    </tr>\n",
       "  </thead>\n",
       "  <tbody>\n",
       "    <tr>\n",
       "      <th>count</th>\n",
       "      <td>15187.000000</td>\n",
       "      <td>0.0</td>\n",
       "      <td>15187.000000</td>\n",
       "      <td>12558.000000</td>\n",
       "    </tr>\n",
       "    <tr>\n",
       "      <th>mean</th>\n",
       "      <td>25.891815</td>\n",
       "      <td>NaN</td>\n",
       "      <td>18.185751</td>\n",
       "      <td>10.122870</td>\n",
       "    </tr>\n",
       "    <tr>\n",
       "      <th>std</th>\n",
       "      <td>62.847855</td>\n",
       "      <td>NaN</td>\n",
       "      <td>12.455037</td>\n",
       "      <td>11.177663</td>\n",
       "    </tr>\n",
       "    <tr>\n",
       "      <th>min</th>\n",
       "      <td>-35.000000</td>\n",
       "      <td>NaN</td>\n",
       "      <td>1.000000</td>\n",
       "      <td>1.000000</td>\n",
       "    </tr>\n",
       "    <tr>\n",
       "      <th>25%</th>\n",
       "      <td>-3.000000</td>\n",
       "      <td>NaN</td>\n",
       "      <td>11.000000</td>\n",
       "      <td>5.000000</td>\n",
       "    </tr>\n",
       "    <tr>\n",
       "      <th>50%</th>\n",
       "      <td>2.000000</td>\n",
       "      <td>NaN</td>\n",
       "      <td>15.000000</td>\n",
       "      <td>7.000000</td>\n",
       "    </tr>\n",
       "    <tr>\n",
       "      <th>75%</th>\n",
       "      <td>27.000000</td>\n",
       "      <td>NaN</td>\n",
       "      <td>21.000000</td>\n",
       "      <td>11.000000</td>\n",
       "    </tr>\n",
       "    <tr>\n",
       "      <th>max</th>\n",
       "      <td>1205.000000</td>\n",
       "      <td>NaN</td>\n",
       "      <td>171.000000</td>\n",
       "      <td>180.000000</td>\n",
       "    </tr>\n",
       "  </tbody>\n",
       "</table>\n",
       "</div>"
      ],
      "text/plain": [
       "       DEPARTURE_DELAY  ARRIVAL_DELAY      TAXI_OUT       TAXI_IN\n",
       "count     15187.000000            0.0  15187.000000  12558.000000\n",
       "mean         25.891815            NaN     18.185751     10.122870\n",
       "std          62.847855            NaN     12.455037     11.177663\n",
       "min         -35.000000            NaN      1.000000      1.000000\n",
       "25%          -3.000000            NaN     11.000000      5.000000\n",
       "50%           2.000000            NaN     15.000000      7.000000\n",
       "75%          27.000000            NaN     21.000000     11.000000\n",
       "max        1205.000000            NaN    171.000000    180.000000"
      ]
     },
     "execution_count": 54,
     "metadata": {},
     "output_type": "execute_result"
    }
   ],
   "source": [
    "realized_data[realized_data['DIVERTED']=='Yes'][['DEPARTURE_DELAY','ARRIVAL_DELAY','TAXI_OUT','TAXI_IN']].describe()"
   ]
  },
  {
   "cell_type": "code",
   "execution_count": 91,
   "metadata": {},
   "outputs": [
    {
     "data": {
      "text/plain": [
       "June         1930\n",
       "May          1658\n",
       "August       1528\n",
       "July         1528\n",
       "December     1450\n",
       "April        1380\n",
       "March        1172\n",
       "February     1011\n",
       "November     1006\n",
       "January       973\n",
       "October       833\n",
       "September     718\n",
       "Name: MONTH, dtype: int64"
      ]
     },
     "execution_count": 91,
     "metadata": {},
     "output_type": "execute_result"
    }
   ],
   "source": [
    "realized_data[realized_data['DIVERTED']=='Yes']['MONTH'].value_counts()"
   ]
  },
  {
   "cell_type": "markdown",
   "metadata": {},
   "source": [
    "Airlines"
   ]
  },
  {
   "cell_type": "code",
   "execution_count": 56,
   "metadata": {},
   "outputs": [
    {
     "data": {
      "image/png": "[encoded data removed]",
      "text/plain": [
       "<Figure size 1296x288 with 1 Axes>"
      ]
     },
     "metadata": {},
     "output_type": "display_data"
    }
   ],
   "source": [
    "sns.set(font_scale=1.4, rc={\"figure.figsize\": (18,4)})\n",
    "cp=sns.countplot(x='AIRLINE', data=realized_data,palette = 'Blues_d') \n",
    "plt.setp(cp.get_xticklabels(), rotation=20)\n",
    "plt.show()"
   ]
  },
  {
   "cell_type": "code",
   "execution_count": 57,
   "metadata": {},
   "outputs": [
    {
     "data": {
      "text/html": [
       "<div>\n",
       "<style scoped>\n",
       "    .dataframe tbody tr th:only-of-type {\n",
       "        vertical-align: middle;\n",
       "    }\n",
       "\n",
       "    .dataframe tbody tr th {\n",
       "        vertical-align: top;\n",
       "    }\n",
       "\n",
       "    .dataframe thead tr th {\n",
       "        text-align: left;\n",
       "    }\n",
       "\n",
       "    .dataframe thead tr:last-of-type th {\n",
       "        text-align: right;\n",
       "    }\n",
       "</style>\n",
       "<table border=\"1\" class=\"dataframe\">\n",
       "  <thead>\n",
       "    <tr>\n",
       "      <th></th>\n",
       "      <th colspan=\"6\" halign=\"left\">DEPARTURE_DELAY</th>\n",
       "      <th colspan=\"6\" halign=\"left\">ARRIVAL_DELAY</th>\n",
       "    </tr>\n",
       "    <tr>\n",
       "      <th></th>\n",
       "      <th>count</th>\n",
       "      <th>mean</th>\n",
       "      <th>std</th>\n",
       "      <th>min</th>\n",
       "      <th>50%</th>\n",
       "      <th>max</th>\n",
       "      <th>count</th>\n",
       "      <th>mean</th>\n",
       "      <th>std</th>\n",
       "      <th>min</th>\n",
       "      <th>50%</th>\n",
       "      <th>max</th>\n",
       "    </tr>\n",
       "    <tr>\n",
       "      <th>AIRLINE</th>\n",
       "      <th></th>\n",
       "      <th></th>\n",
       "      <th></th>\n",
       "      <th></th>\n",
       "      <th></th>\n",
       "      <th></th>\n",
       "      <th></th>\n",
       "      <th></th>\n",
       "      <th></th>\n",
       "      <th></th>\n",
       "      <th></th>\n",
       "      <th></th>\n",
       "    </tr>\n",
       "  </thead>\n",
       "  <tbody>\n",
       "    <tr>\n",
       "      <th>Alaska Airlines Inc.</th>\n",
       "      <td>171852.0</td>\n",
       "      <td>1.778455</td>\n",
       "      <td>26.350540</td>\n",
       "      <td>-82.0</td>\n",
       "      <td>-4.0</td>\n",
       "      <td>963.0</td>\n",
       "      <td>171439.0</td>\n",
       "      <td>-0.976563</td>\n",
       "      <td>28.678804</td>\n",
       "      <td>-82.0</td>\n",
       "      <td>-5.0</td>\n",
       "      <td>950.0</td>\n",
       "    </tr>\n",
       "    <tr>\n",
       "      <th>American Airlines Inc.</th>\n",
       "      <td>715065.0</td>\n",
       "      <td>8.864029</td>\n",
       "      <td>41.802144</td>\n",
       "      <td>-68.0</td>\n",
       "      <td>-2.0</td>\n",
       "      <td>1988.0</td>\n",
       "      <td>712935.0</td>\n",
       "      <td>3.451372</td>\n",
       "      <td>44.266750</td>\n",
       "      <td>-87.0</td>\n",
       "      <td>-6.0</td>\n",
       "      <td>1971.0</td>\n",
       "    </tr>\n",
       "    <tr>\n",
       "      <th>American Eagle Airlines Inc.</th>\n",
       "      <td>279607.0</td>\n",
       "      <td>10.014910</td>\n",
       "      <td>40.376758</td>\n",
       "      <td>-36.0</td>\n",
       "      <td>-2.0</td>\n",
       "      <td>1544.0</td>\n",
       "      <td>278791.0</td>\n",
       "      <td>6.457873</td>\n",
       "      <td>44.458112</td>\n",
       "      <td>-63.0</td>\n",
       "      <td>-6.0</td>\n",
       "      <td>1528.0</td>\n",
       "    </tr>\n",
       "    <tr>\n",
       "      <th>Atlantic Southeast Airlines</th>\n",
       "      <td>556746.0</td>\n",
       "      <td>8.663310</td>\n",
       "      <td>38.541665</td>\n",
       "      <td>-55.0</td>\n",
       "      <td>-3.0</td>\n",
       "      <td>1236.0</td>\n",
       "      <td>554752.0</td>\n",
       "      <td>6.585379</td>\n",
       "      <td>40.682366</td>\n",
       "      <td>-64.0</td>\n",
       "      <td>-4.0</td>\n",
       "      <td>1223.0</td>\n",
       "    </tr>\n",
       "    <tr>\n",
       "      <th>Delta Air Lines Inc.</th>\n",
       "      <td>872057.0</td>\n",
       "      <td>7.354815</td>\n",
       "      <td>36.240041</td>\n",
       "      <td>-61.0</td>\n",
       "      <td>-1.0</td>\n",
       "      <td>1289.0</td>\n",
       "      <td>870275.0</td>\n",
       "      <td>0.186754</td>\n",
       "      <td>38.439225</td>\n",
       "      <td>-79.0</td>\n",
       "      <td>-8.0</td>\n",
       "      <td>1274.0</td>\n",
       "    </tr>\n",
       "    <tr>\n",
       "      <th>Frontier Airlines Inc.</th>\n",
       "      <td>90248.0</td>\n",
       "      <td>13.317470</td>\n",
       "      <td>49.450187</td>\n",
       "      <td>-46.0</td>\n",
       "      <td>-2.0</td>\n",
       "      <td>1112.0</td>\n",
       "      <td>90090.0</td>\n",
       "      <td>12.504706</td>\n",
       "      <td>51.561753</td>\n",
       "      <td>-73.0</td>\n",
       "      <td>-1.0</td>\n",
       "      <td>1101.0</td>\n",
       "    </tr>\n",
       "    <tr>\n",
       "      <th>Hawaiian Airlines Inc.</th>\n",
       "      <td>76101.0</td>\n",
       "      <td>0.483489</td>\n",
       "      <td>24.546830</td>\n",
       "      <td>-27.0</td>\n",
       "      <td>-4.0</td>\n",
       "      <td>1433.0</td>\n",
       "      <td>76041.0</td>\n",
       "      <td>2.023093</td>\n",
       "      <td>25.714939</td>\n",
       "      <td>-67.0</td>\n",
       "      <td>-2.0</td>\n",
       "      <td>1467.0</td>\n",
       "    </tr>\n",
       "    <tr>\n",
       "      <th>JetBlue Airways</th>\n",
       "      <td>262772.0</td>\n",
       "      <td>11.499049</td>\n",
       "      <td>38.476296</td>\n",
       "      <td>-31.0</td>\n",
       "      <td>-2.0</td>\n",
       "      <td>1006.0</td>\n",
       "      <td>262042.0</td>\n",
       "      <td>6.677861</td>\n",
       "      <td>41.400552</td>\n",
       "      <td>-76.0</td>\n",
       "      <td>-5.0</td>\n",
       "      <td>1002.0</td>\n",
       "    </tr>\n",
       "    <tr>\n",
       "      <th>Skywest Airlines Inc.</th>\n",
       "      <td>578393.0</td>\n",
       "      <td>7.768222</td>\n",
       "      <td>37.745172</td>\n",
       "      <td>-56.0</td>\n",
       "      <td>-3.0</td>\n",
       "      <td>1378.0</td>\n",
       "      <td>576814.0</td>\n",
       "      <td>5.845652</td>\n",
       "      <td>39.257694</td>\n",
       "      <td>-69.0</td>\n",
       "      <td>-4.0</td>\n",
       "      <td>1372.0</td>\n",
       "    </tr>\n",
       "    <tr>\n",
       "      <th>Southwest Airlines Co.</th>\n",
       "      <td>1245812.0</td>\n",
       "      <td>10.571461</td>\n",
       "      <td>30.715318</td>\n",
       "      <td>-28.0</td>\n",
       "      <td>0.0</td>\n",
       "      <td>665.0</td>\n",
       "      <td>1242403.0</td>\n",
       "      <td>4.374964</td>\n",
       "      <td>32.774001</td>\n",
       "      <td>-73.0</td>\n",
       "      <td>-4.0</td>\n",
       "      <td>659.0</td>\n",
       "    </tr>\n",
       "    <tr>\n",
       "      <th>Spirit Air Lines</th>\n",
       "      <td>115375.0</td>\n",
       "      <td>15.911281</td>\n",
       "      <td>43.710265</td>\n",
       "      <td>-37.0</td>\n",
       "      <td>-1.0</td>\n",
       "      <td>836.0</td>\n",
       "      <td>115193.0</td>\n",
       "      <td>14.471800</td>\n",
       "      <td>45.903410</td>\n",
       "      <td>-60.0</td>\n",
       "      <td>0.0</td>\n",
       "      <td>833.0</td>\n",
       "    </tr>\n",
       "    <tr>\n",
       "      <th>US Airways Inc.</th>\n",
       "      <td>194648.0</td>\n",
       "      <td>6.110538</td>\n",
       "      <td>28.942212</td>\n",
       "      <td>-35.0</td>\n",
       "      <td>-2.0</td>\n",
       "      <td>759.0</td>\n",
       "      <td>194223.0</td>\n",
       "      <td>3.706209</td>\n",
       "      <td>32.378743</td>\n",
       "      <td>-87.0</td>\n",
       "      <td>-4.0</td>\n",
       "      <td>750.0</td>\n",
       "    </tr>\n",
       "    <tr>\n",
       "      <th>United Air Lines Inc.</th>\n",
       "      <td>509150.0</td>\n",
       "      <td>14.379658</td>\n",
       "      <td>41.917885</td>\n",
       "      <td>-40.0</td>\n",
       "      <td>1.0</td>\n",
       "      <td>1314.0</td>\n",
       "      <td>507762.0</td>\n",
       "      <td>5.431594</td>\n",
       "      <td>44.081214</td>\n",
       "      <td>-81.0</td>\n",
       "      <td>-6.0</td>\n",
       "      <td>1294.0</td>\n",
       "    </tr>\n",
       "    <tr>\n",
       "      <th>Virgin America</th>\n",
       "      <td>61369.0</td>\n",
       "      <td>9.006274</td>\n",
       "      <td>32.378847</td>\n",
       "      <td>-24.0</td>\n",
       "      <td>-1.0</td>\n",
       "      <td>644.0</td>\n",
       "      <td>61248.0</td>\n",
       "      <td>4.737706</td>\n",
       "      <td>35.621579</td>\n",
       "      <td>-81.0</td>\n",
       "      <td>-3.0</td>\n",
       "      <td>651.0</td>\n",
       "    </tr>\n",
       "  </tbody>\n",
       "</table>\n",
       "</div>"
      ],
      "text/plain": [
       "                             DEPARTURE_DELAY                                   \\\n",
       "                                       count       mean        std   min  50%   \n",
       "AIRLINE                                                                         \n",
       "Alaska Airlines Inc.                171852.0   1.778455  26.350540 -82.0 -4.0   \n",
       "American Airlines Inc.              715065.0   8.864029  41.802144 -68.0 -2.0   \n",
       "American Eagle Airlines Inc.        279607.0  10.014910  40.376758 -36.0 -2.0   \n",
       "Atlantic Southeast Airlines         556746.0   8.663310  38.541665 -55.0 -3.0   \n",
       "Delta Air Lines Inc.                872057.0   7.354815  36.240041 -61.0 -1.0   \n",
       "Frontier Airlines Inc.               90248.0  13.317470  49.450187 -46.0 -2.0   \n",
       "Hawaiian Airlines Inc.               76101.0   0.483489  24.546830 -27.0 -4.0   \n",
       "JetBlue Airways                     262772.0  11.499049  38.476296 -31.0 -2.0   \n",
       "Skywest Airlines Inc.               578393.0   7.768222  37.745172 -56.0 -3.0   \n",
       "Southwest Airlines Co.             1245812.0  10.571461  30.715318 -28.0  0.0   \n",
       "Spirit Air Lines                    115375.0  15.911281  43.710265 -37.0 -1.0   \n",
       "US Airways Inc.                     194648.0   6.110538  28.942212 -35.0 -2.0   \n",
       "United Air Lines Inc.               509150.0  14.379658  41.917885 -40.0  1.0   \n",
       "Virgin America                       61369.0   9.006274  32.378847 -24.0 -1.0   \n",
       "\n",
       "                                     ARRIVAL_DELAY                        \\\n",
       "                                 max         count       mean        std   \n",
       "AIRLINE                                                                    \n",
       "Alaska Airlines Inc.           963.0      171439.0  -0.976563  28.678804   \n",
       "American Airlines Inc.        1988.0      712935.0   3.451372  44.266750   \n",
       "American Eagle Airlines Inc.  1544.0      278791.0   6.457873  44.458112   \n",
       "Atlantic Southeast Airlines   1236.0      554752.0   6.585379  40.682366   \n",
       "Delta Air Lines Inc.          1289.0      870275.0   0.186754  38.439225   \n",
       "Frontier Airlines Inc.        1112.0       90090.0  12.504706  51.561753   \n",
       "Hawaiian Airlines Inc.        1433.0       76041.0   2.023093  25.714939   \n",
       "JetBlue Airways               1006.0      262042.0   6.677861  41.400552   \n",
       "Skywest Airlines Inc.         1378.0      576814.0   5.845652  39.257694   \n",
       "Southwest Airlines Co.         665.0     1242403.0   4.374964  32.774001   \n",
       "Spirit Air Lines               836.0      115193.0  14.471800  45.903410   \n",
       "US Airways Inc.                759.0      194223.0   3.706209  32.378743   \n",
       "United Air Lines Inc.         1314.0      507762.0   5.431594  44.081214   \n",
       "Virgin America                 644.0       61248.0   4.737706  35.621579   \n",
       "\n",
       "                                                 \n",
       "                               min  50%     max  \n",
       "AIRLINE                                          \n",
       "Alaska Airlines Inc.         -82.0 -5.0   950.0  \n",
       "American Airlines Inc.       -87.0 -6.0  1971.0  \n",
       "American Eagle Airlines Inc. -63.0 -6.0  1528.0  \n",
       "Atlantic Southeast Airlines  -64.0 -4.0  1223.0  \n",
       "Delta Air Lines Inc.         -79.0 -8.0  1274.0  \n",
       "Frontier Airlines Inc.       -73.0 -1.0  1101.0  \n",
       "Hawaiian Airlines Inc.       -67.0 -2.0  1467.0  \n",
       "JetBlue Airways              -76.0 -5.0  1002.0  \n",
       "Skywest Airlines Inc.        -69.0 -4.0  1372.0  \n",
       "Southwest Airlines Co.       -73.0 -4.0   659.0  \n",
       "Spirit Air Lines             -60.0  0.0   833.0  \n",
       "US Airways Inc.              -87.0 -4.0   750.0  \n",
       "United Air Lines Inc.        -81.0 -6.0  1294.0  \n",
       "Virgin America               -81.0 -3.0   651.0  "
      ]
     },
     "execution_count": 57,
     "metadata": {},
     "output_type": "execute_result"
    }
   ],
   "source": [
    "columns = ['DEPARTURE_DELAY','ARRIVAL_DELAY']\n",
    "data_ad = realized_data.groupby(['AIRLINE'])[columns].describe(percentiles=[])\n",
    "data_ad"
   ]
  },
  {
   "cell_type": "markdown",
   "metadata": {},
   "source": [
    "Airports"
   ]
  },
  {
   "cell_type": "code",
   "execution_count": 58,
   "metadata": {},
   "outputs": [],
   "source": [
    "realized_data_airports_o= realized_data.loc[lambda realized_data: realized_data.ORIGIN_AIRPORT.str.len()> 5]"
   ]
  },
  {
   "cell_type": "code",
   "execution_count": 60,
   "metadata": {},
   "outputs": [
    {
     "data": {
      "text/plain": [
       "Hartsfield-Jackson Atlanta International Airport    344279\n",
       "Chicago O'Hare International Airport                277336\n",
       "Dallas/Fort Worth International Airport             233297\n",
       "Denver International Airport                        193932\n",
       "Los Angeles International Airport                   192509\n",
       "                                                     ...  \n",
       "St. Cloud Regional Airport                              78\n",
       "Dillingham Airport                                      77\n",
       "Gustavus Airport                                        76\n",
       "King Salmon Airport                                     63\n",
       "Ithaca Tompkins Regional Airport                        30\n",
       "Name: ORIGIN_AIRPORT, Length: 322, dtype: int64"
      ]
     },
     "execution_count": 60,
     "metadata": {},
     "output_type": "execute_result"
    }
   ],
   "source": [
    "realized_data_airports_o['ORIGIN_AIRPORT'].value_counts()"
   ]
  },
  {
   "cell_type": "code",
   "execution_count": 61,
   "metadata": {},
   "outputs": [
    {
     "data": {
      "text/plain": [
       "count                                              5245484\n",
       "unique                                                 322\n",
       "top       Hartsfield-Jackson Atlanta International Airport\n",
       "freq                                                344279\n",
       "Name: ORIGIN_AIRPORT, dtype: object"
      ]
     },
     "execution_count": 61,
     "metadata": {},
     "output_type": "execute_result"
    }
   ],
   "source": [
    "realized_data_airports_o['ORIGIN_AIRPORT'].describe()"
   ]
  },
  {
   "cell_type": "code",
   "execution_count": 62,
   "metadata": {},
   "outputs": [],
   "source": [
    "data_taxi_out=realized_data_airports_o[['ORIGIN_AIRPORT','TAXI_OUT']].groupby('ORIGIN_AIRPORT').mean()"
   ]
  },
  {
   "cell_type": "code",
   "execution_count": 63,
   "metadata": {},
   "outputs": [
    {
     "data": {
      "text/html": [
       "<div>\n",
       "<style scoped>\n",
       "    .dataframe tbody tr th:only-of-type {\n",
       "        vertical-align: middle;\n",
       "    }\n",
       "\n",
       "    .dataframe tbody tr th {\n",
       "        vertical-align: top;\n",
       "    }\n",
       "\n",
       "    .dataframe thead th {\n",
       "        text-align: right;\n",
       "    }\n",
       "</style>\n",
       "<table border=\"1\" class=\"dataframe\">\n",
       "  <thead>\n",
       "    <tr style=\"text-align: right;\">\n",
       "      <th></th>\n",
       "      <th>TAXI_OUT</th>\n",
       "    </tr>\n",
       "    <tr>\n",
       "      <th>ORIGIN_AIRPORT</th>\n",
       "      <th></th>\n",
       "    </tr>\n",
       "  </thead>\n",
       "  <tbody>\n",
       "    <tr>\n",
       "      <th>Canyonlands Field</th>\n",
       "      <td>6.512195</td>\n",
       "    </tr>\n",
       "    <tr>\n",
       "      <th>Kodiak Airport</th>\n",
       "      <td>6.574371</td>\n",
       "    </tr>\n",
       "    <tr>\n",
       "      <th>Wiley Post-Will Rogers Memorial Airport</th>\n",
       "      <td>6.798309</td>\n",
       "    </tr>\n",
       "    <tr>\n",
       "      <th>Deadhorse Airport (Prudhoe Bay Airport)</th>\n",
       "      <td>7.097969</td>\n",
       "    </tr>\n",
       "    <tr>\n",
       "      <th>Valdez Airport</th>\n",
       "      <td>7.100000</td>\n",
       "    </tr>\n",
       "    <tr>\n",
       "      <th>...</th>\n",
       "      <td>...</td>\n",
       "    </tr>\n",
       "    <tr>\n",
       "      <th>Sloulin Field International Airport</th>\n",
       "      <td>20.996419</td>\n",
       "    </tr>\n",
       "    <tr>\n",
       "      <th>Philadelphia International Airport</th>\n",
       "      <td>21.709609</td>\n",
       "    </tr>\n",
       "    <tr>\n",
       "      <th>Ithaca Tompkins Regional Airport</th>\n",
       "      <td>22.533333</td>\n",
       "    </tr>\n",
       "    <tr>\n",
       "      <th>LaGuardia Airport (Marine Air Terminal)</th>\n",
       "      <td>26.721596</td>\n",
       "    </tr>\n",
       "    <tr>\n",
       "      <th>John F. Kennedy International Airport (New York International Airport)</th>\n",
       "      <td>27.010175</td>\n",
       "    </tr>\n",
       "  </tbody>\n",
       "</table>\n",
       "<p>322 rows × 1 columns</p>\n",
       "</div>"
      ],
      "text/plain": [
       "                                                     TAXI_OUT\n",
       "ORIGIN_AIRPORT                                               \n",
       "Canyonlands Field                                    6.512195\n",
       "Kodiak Airport                                       6.574371\n",
       "Wiley Post-Will Rogers Memorial Airport              6.798309\n",
       "Deadhorse Airport (Prudhoe Bay Airport)              7.097969\n",
       "Valdez Airport                                       7.100000\n",
       "...                                                       ...\n",
       "Sloulin Field International Airport                 20.996419\n",
       "Philadelphia International Airport                  21.709609\n",
       "Ithaca Tompkins Regional Airport                    22.533333\n",
       "LaGuardia Airport (Marine Air Terminal)             26.721596\n",
       "John F. Kennedy International Airport (New York...  27.010175\n",
       "\n",
       "[322 rows x 1 columns]"
      ]
     },
     "execution_count": 63,
     "metadata": {},
     "output_type": "execute_result"
    }
   ],
   "source": [
    "data_taxi_out.sort_values(by=['TAXI_OUT'])"
   ]
  },
  {
   "cell_type": "code",
   "execution_count": 64,
   "metadata": {},
   "outputs": [
    {
     "data": {
      "text/plain": [
       "count                                              5245484\n",
       "unique                                                 322\n",
       "top       Hartsfield-Jackson Atlanta International Airport\n",
       "freq                                                344189\n",
       "Name: DESTINATION_AIRPORT, dtype: object"
      ]
     },
     "execution_count": 64,
     "metadata": {},
     "output_type": "execute_result"
    }
   ],
   "source": [
    "realized_data_airports_o['DESTINATION_AIRPORT'].describe()"
   ]
  },
  {
   "cell_type": "code",
   "execution_count": 65,
   "metadata": {},
   "outputs": [
    {
     "data": {
      "text/plain": [
       "Hartsfield-Jackson Atlanta International Airport    344189\n",
       "Chicago O'Hare International Airport                276633\n",
       "Dallas/Fort Worth International Airport             232833\n",
       "Denver International Airport                        193700\n",
       "Los Angeles International Airport                   192437\n",
       "                                                     ...  \n",
       "St. Cloud Regional Airport                              77\n",
       "Dillingham Airport                                      77\n",
       "Gustavus Airport                                        76\n",
       "King Salmon Airport                                     63\n",
       "Ithaca Tompkins Regional Airport                        31\n",
       "Name: DESTINATION_AIRPORT, Length: 322, dtype: int64"
      ]
     },
     "execution_count": 65,
     "metadata": {},
     "output_type": "execute_result"
    }
   ],
   "source": [
    "realized_data_airports_o['DESTINATION_AIRPORT'].value_counts()"
   ]
  },
  {
   "cell_type": "code",
   "execution_count": 66,
   "metadata": {},
   "outputs": [
    {
     "data": {
      "text/plain": [
       "count                                              5729195\n",
       "unique                                                 629\n",
       "top       Hartsfield-Jackson Atlanta International Airport\n",
       "freq                                                344189\n",
       "Name: DESTINATION_AIRPORT, dtype: object"
      ]
     },
     "execution_count": 66,
     "metadata": {},
     "output_type": "execute_result"
    }
   ],
   "source": [
    "realized_data['DESTINATION_AIRPORT'].describe()"
   ]
  },
  {
   "cell_type": "code",
   "execution_count": 67,
   "metadata": {},
   "outputs": [],
   "source": [
    "data_taxi_in=realized_data_airports_o[['DESTINATION_AIRPORT','TAXI_IN']].groupby('DESTINATION_AIRPORT').mean()"
   ]
  },
  {
   "cell_type": "code",
   "execution_count": 68,
   "metadata": {},
   "outputs": [
    {
     "data": {
      "text/html": [
       "<div>\n",
       "<style scoped>\n",
       "    .dataframe tbody tr th:only-of-type {\n",
       "        vertical-align: middle;\n",
       "    }\n",
       "\n",
       "    .dataframe tbody tr th {\n",
       "        vertical-align: top;\n",
       "    }\n",
       "\n",
       "    .dataframe thead th {\n",
       "        text-align: right;\n",
       "    }\n",
       "</style>\n",
       "<table border=\"1\" class=\"dataframe\">\n",
       "  <thead>\n",
       "    <tr style=\"text-align: right;\">\n",
       "      <th></th>\n",
       "      <th>TAXI_IN</th>\n",
       "    </tr>\n",
       "    <tr>\n",
       "      <th>DESTINATION_AIRPORT</th>\n",
       "      <th></th>\n",
       "    </tr>\n",
       "  </thead>\n",
       "  <tbody>\n",
       "    <tr>\n",
       "      <th>Valdez Airport</th>\n",
       "      <td>2.412060</td>\n",
       "    </tr>\n",
       "    <tr>\n",
       "      <th>Toledo Express Airport</th>\n",
       "      <td>2.648169</td>\n",
       "    </tr>\n",
       "    <tr>\n",
       "      <th>Canyonlands Field</th>\n",
       "      <td>2.741463</td>\n",
       "    </tr>\n",
       "    <tr>\n",
       "      <th>Coastal Carolina Regional Airport (Craven County Regional)</th>\n",
       "      <td>2.784071</td>\n",
       "    </tr>\n",
       "    <tr>\n",
       "      <th>Albert J. Ellis Airport</th>\n",
       "      <td>3.015138</td>\n",
       "    </tr>\n",
       "    <tr>\n",
       "      <th>...</th>\n",
       "      <td>...</td>\n",
       "    </tr>\n",
       "    <tr>\n",
       "      <th>Charlotte Douglas International Airport</th>\n",
       "      <td>9.628386</td>\n",
       "    </tr>\n",
       "    <tr>\n",
       "      <th>Newark Liberty International Airport</th>\n",
       "      <td>9.735359</td>\n",
       "    </tr>\n",
       "    <tr>\n",
       "      <th>Dallas/Fort Worth International Airport</th>\n",
       "      <td>11.563057</td>\n",
       "    </tr>\n",
       "    <tr>\n",
       "      <th>Los Angeles International Airport</th>\n",
       "      <td>11.715774</td>\n",
       "    </tr>\n",
       "    <tr>\n",
       "      <th>Chicago O'Hare International Airport</th>\n",
       "      <td>13.212453</td>\n",
       "    </tr>\n",
       "  </tbody>\n",
       "</table>\n",
       "<p>322 rows × 1 columns</p>\n",
       "</div>"
      ],
      "text/plain": [
       "                                                      TAXI_IN\n",
       "DESTINATION_AIRPORT                                          \n",
       "Valdez Airport                                       2.412060\n",
       "Toledo Express Airport                               2.648169\n",
       "Canyonlands Field                                    2.741463\n",
       "Coastal Carolina Regional Airport (Craven Count...   2.784071\n",
       "Albert J. Ellis Airport                              3.015138\n",
       "...                                                       ...\n",
       "Charlotte Douglas International Airport              9.628386\n",
       "Newark Liberty International Airport                 9.735359\n",
       "Dallas/Fort Worth International Airport             11.563057\n",
       "Los Angeles International Airport                   11.715774\n",
       "Chicago O'Hare International Airport                13.212453\n",
       "\n",
       "[322 rows x 1 columns]"
      ]
     },
     "execution_count": 68,
     "metadata": {},
     "output_type": "execute_result"
    }
   ],
   "source": [
    "data_taxi_in.sort_values(by=['TAXI_IN'])"
   ]
  },
  {
   "cell_type": "code",
   "execution_count": null,
   "metadata": {},
   "outputs": [],
   "source": []
  },
  {
   "cell_type": "markdown",
   "metadata": {},
   "source": [
    "## Random day"
   ]
  },
  {
   "cell_type": "code",
   "execution_count": 99,
   "metadata": {},
   "outputs": [],
   "source": [
    "import random\n",
    "random_month_int = random.randint(1, 12)\n",
    "months_dict = {1: \"January\",2:\"February\",3:\"March\",4:\"April\",5:\"May\",6:\"June\",7:\"July\",8:\"August\",9:\"September\",10:\"October\",11:\"November\",12:\"December\"}\n",
    "random_month_str = months_dict[random_month_int]\n",
    "\n",
    "if random_month_str==\"February\":\n",
    "    random_day = random.randint(1,28)\n",
    "elif (random_month_str==\"April\") or (random_month_str==\"June\") or (random_month_str==\"September\") or (random_month_str==\"November\"):\n",
    "    random_day = random.randint(1,30)\n",
    "else:\n",
    "    random_day = random.randint(1,31)\n",
    "    \n",
    "r_month = realized_data.loc[realized_data['MONTH'] == random_month_str]\n",
    "\n",
    "\n",
    "r_day = r_month[r_month['DAY'] == random_day]"
   ]
  },
  {
   "cell_type": "code",
   "execution_count": 100,
   "metadata": {},
   "outputs": [
    {
     "name": "stdout",
     "output_type": "stream",
     "text": [
      "Your random day is 16.May 2015.\n"
     ]
    }
   ],
   "source": [
    "print(\"Your random day is \"+str(random_day)+\".\"+random_month_str+\" 2015.\")"
   ]
  },
  {
   "cell_type": "code",
   "execution_count": 101,
   "metadata": {},
   "outputs": [
    {
     "data": {
      "text/html": [
       "<div>\n",
       "<style scoped>\n",
       "    .dataframe tbody tr th:only-of-type {\n",
       "        vertical-align: middle;\n",
       "    }\n",
       "\n",
       "    .dataframe tbody tr th {\n",
       "        vertical-align: top;\n",
       "    }\n",
       "\n",
       "    .dataframe thead th {\n",
       "        text-align: right;\n",
       "    }\n",
       "</style>\n",
       "<table border=\"1\" class=\"dataframe\">\n",
       "  <thead>\n",
       "    <tr style=\"text-align: right;\">\n",
       "      <th></th>\n",
       "      <th>DISTANCE</th>\n",
       "      <th>ELAPSED_TIME</th>\n",
       "      <th>TAXI_IN</th>\n",
       "      <th>TAXI_OUT</th>\n",
       "      <th>AIR_TIME</th>\n",
       "      <th>DEPARTURE_DELAY</th>\n",
       "      <th>ARRIVAL_DELAY</th>\n",
       "    </tr>\n",
       "  </thead>\n",
       "  <tbody>\n",
       "    <tr>\n",
       "      <th>count</th>\n",
       "      <td>13352.000000</td>\n",
       "      <td>13321.000000</td>\n",
       "      <td>13350.000000</td>\n",
       "      <td>13352.000000</td>\n",
       "      <td>13321.000000</td>\n",
       "      <td>13352.000000</td>\n",
       "      <td>13321.000000</td>\n",
       "    </tr>\n",
       "    <tr>\n",
       "      <th>mean</th>\n",
       "      <td>856.088376</td>\n",
       "      <td>139.952931</td>\n",
       "      <td>7.106217</td>\n",
       "      <td>14.984946</td>\n",
       "      <td>117.869379</td>\n",
       "      <td>4.815458</td>\n",
       "      <td>-0.469259</td>\n",
       "    </tr>\n",
       "    <tr>\n",
       "      <th>std</th>\n",
       "      <td>623.140875</td>\n",
       "      <td>76.555995</td>\n",
       "      <td>5.100543</td>\n",
       "      <td>8.179233</td>\n",
       "      <td>74.614344</td>\n",
       "      <td>32.178251</td>\n",
       "      <td>34.236452</td>\n",
       "    </tr>\n",
       "    <tr>\n",
       "      <th>min</th>\n",
       "      <td>31.000000</td>\n",
       "      <td>22.000000</td>\n",
       "      <td>1.000000</td>\n",
       "      <td>2.000000</td>\n",
       "      <td>8.000000</td>\n",
       "      <td>-26.000000</td>\n",
       "      <td>-55.000000</td>\n",
       "    </tr>\n",
       "    <tr>\n",
       "      <th>25%</th>\n",
       "      <td>399.000000</td>\n",
       "      <td>83.000000</td>\n",
       "      <td>4.000000</td>\n",
       "      <td>10.000000</td>\n",
       "      <td>62.000000</td>\n",
       "      <td>-5.000000</td>\n",
       "      <td>-14.000000</td>\n",
       "    </tr>\n",
       "    <tr>\n",
       "      <th>50%</th>\n",
       "      <td>687.000000</td>\n",
       "      <td>122.000000</td>\n",
       "      <td>6.000000</td>\n",
       "      <td>13.000000</td>\n",
       "      <td>100.000000</td>\n",
       "      <td>-2.000000</td>\n",
       "      <td>-6.000000</td>\n",
       "    </tr>\n",
       "    <tr>\n",
       "      <th>75%</th>\n",
       "      <td>1096.000000</td>\n",
       "      <td>171.000000</td>\n",
       "      <td>8.000000</td>\n",
       "      <td>17.000000</td>\n",
       "      <td>147.000000</td>\n",
       "      <td>3.000000</td>\n",
       "      <td>4.000000</td>\n",
       "    </tr>\n",
       "    <tr>\n",
       "      <th>max</th>\n",
       "      <td>4983.000000</td>\n",
       "      <td>650.000000</td>\n",
       "      <td>172.000000</td>\n",
       "      <td>142.000000</td>\n",
       "      <td>612.000000</td>\n",
       "      <td>1324.000000</td>\n",
       "      <td>1318.000000</td>\n",
       "    </tr>\n",
       "  </tbody>\n",
       "</table>\n",
       "</div>"
      ],
      "text/plain": [
       "           DISTANCE  ELAPSED_TIME       TAXI_IN      TAXI_OUT      AIR_TIME  \\\n",
       "count  13352.000000  13321.000000  13350.000000  13352.000000  13321.000000   \n",
       "mean     856.088376    139.952931      7.106217     14.984946    117.869379   \n",
       "std      623.140875     76.555995      5.100543      8.179233     74.614344   \n",
       "min       31.000000     22.000000      1.000000      2.000000      8.000000   \n",
       "25%      399.000000     83.000000      4.000000     10.000000     62.000000   \n",
       "50%      687.000000    122.000000      6.000000     13.000000    100.000000   \n",
       "75%     1096.000000    171.000000      8.000000     17.000000    147.000000   \n",
       "max     4983.000000    650.000000    172.000000    142.000000    612.000000   \n",
       "\n",
       "       DEPARTURE_DELAY  ARRIVAL_DELAY  \n",
       "count     13352.000000   13321.000000  \n",
       "mean          4.815458      -0.469259  \n",
       "std          32.178251      34.236452  \n",
       "min         -26.000000     -55.000000  \n",
       "25%          -5.000000     -14.000000  \n",
       "50%          -2.000000      -6.000000  \n",
       "75%           3.000000       4.000000  \n",
       "max        1324.000000    1318.000000  "
      ]
     },
     "execution_count": 101,
     "metadata": {},
     "output_type": "execute_result"
    }
   ],
   "source": [
    "r_day[['DISTANCE','ELAPSED_TIME','TAXI_IN','TAXI_OUT','AIR_TIME','DEPARTURE_DELAY','ARRIVAL_DELAY','ORIGIN_AIRPORT','DESTINATION_AIRPORT']].describe()"
   ]
  },
  {
   "cell_type": "code",
   "execution_count": 102,
   "metadata": {},
   "outputs": [
    {
     "data": {
      "text/html": [
       "<div>\n",
       "<style scoped>\n",
       "    .dataframe tbody tr th:only-of-type {\n",
       "        vertical-align: middle;\n",
       "    }\n",
       "\n",
       "    .dataframe tbody tr th {\n",
       "        vertical-align: top;\n",
       "    }\n",
       "\n",
       "    .dataframe thead th {\n",
       "        text-align: right;\n",
       "    }\n",
       "</style>\n",
       "<table border=\"1\" class=\"dataframe\">\n",
       "  <thead>\n",
       "    <tr style=\"text-align: right;\">\n",
       "      <th></th>\n",
       "      <th>AIRLINE</th>\n",
       "      <th>ORIGIN_AIRPORT</th>\n",
       "      <th>DESTINATION_AIRPORT</th>\n",
       "    </tr>\n",
       "  </thead>\n",
       "  <tbody>\n",
       "    <tr>\n",
       "      <th>count</th>\n",
       "      <td>13352</td>\n",
       "      <td>13352</td>\n",
       "      <td>13352</td>\n",
       "    </tr>\n",
       "    <tr>\n",
       "      <th>unique</th>\n",
       "      <td>14</td>\n",
       "      <td>295</td>\n",
       "      <td>294</td>\n",
       "    </tr>\n",
       "    <tr>\n",
       "      <th>top</th>\n",
       "      <td>Southwest Airlines Co.</td>\n",
       "      <td>Hartsfield-Jackson Atlanta International Airport</td>\n",
       "      <td>Hartsfield-Jackson Atlanta International Airport</td>\n",
       "    </tr>\n",
       "    <tr>\n",
       "      <th>freq</th>\n",
       "      <td>2858</td>\n",
       "      <td>895</td>\n",
       "      <td>901</td>\n",
       "    </tr>\n",
       "  </tbody>\n",
       "</table>\n",
       "</div>"
      ],
      "text/plain": [
       "                       AIRLINE  \\\n",
       "count                    13352   \n",
       "unique                      14   \n",
       "top     Southwest Airlines Co.   \n",
       "freq                      2858   \n",
       "\n",
       "                                          ORIGIN_AIRPORT  \\\n",
       "count                                              13352   \n",
       "unique                                               295   \n",
       "top     Hartsfield-Jackson Atlanta International Airport   \n",
       "freq                                                 895   \n",
       "\n",
       "                                     DESTINATION_AIRPORT  \n",
       "count                                              13352  \n",
       "unique                                               294  \n",
       "top     Hartsfield-Jackson Atlanta International Airport  \n",
       "freq                                                 901  "
      ]
     },
     "execution_count": 102,
     "metadata": {},
     "output_type": "execute_result"
    }
   ],
   "source": [
    "r_day[['AIRLINE','ORIGIN_AIRPORT','DESTINATION_AIRPORT']].describe()"
   ]
  },
  {
   "cell_type": "code",
   "execution_count": 103,
   "metadata": {},
   "outputs": [],
   "source": [
    "d = r_day[['ORIGIN_AIRPORT','DESTINATION_AIRPORT']]\n",
    "oa = d.loc[:, 'ORIGIN_AIRPORT']\n",
    "da = d.loc[:, 'DESTINATION_AIRPORT']"
   ]
  },
  {
   "cell_type": "code",
   "execution_count": 104,
   "metadata": {},
   "outputs": [],
   "source": [
    "list_oa = oa.to_list()\n",
    "list_da = da.to_list()"
   ]
  },
  {
   "cell_type": "code",
   "execution_count": 105,
   "metadata": {},
   "outputs": [
    {
     "data": {
      "text/plain": [
       "[(30,\n",
       "  ('San Francisco International Airport',\n",
       "   'Los Angeles International Airport')),\n",
       " (29,\n",
       "  ('Los Angeles International Airport',\n",
       "   'San Francisco International Airport')),\n",
       " (29,\n",
       "  ('John F. Kennedy International Airport\\xa0(New York International Airport)',\n",
       "   'Los Angeles International Airport')),\n",
       " (28,\n",
       "  ('Los Angeles International Airport',\n",
       "   'John F. Kennedy International Airport\\xa0(New York International Airport)'))]"
      ]
     },
     "execution_count": 105,
     "metadata": {},
     "output_type": "execute_result"
    }
   ],
   "source": [
    "l = []\n",
    "for i in range(len(list_oa)):\n",
    "    for j in range(len(list_da)):\n",
    "        if i==j:\n",
    "            l.append((list_oa[i],list_da[j]))\n",
    "        else:\n",
    "            continue\n",
    "counter={}\n",
    "for i in l:\n",
    "    counter[i] = counter.get(i,0)+1\n",
    "sorted([(freq,par) for par,freq in counter.items()],reverse=True)[:4]"
   ]
  },
  {
   "cell_type": "code",
   "execution_count": null,
   "metadata": {},
   "outputs": [],
   "source": []
  }
 ],
 "metadata": {
  "kernelspec": {
   "display_name": "Python 3",
   "language": "python",
   "name": "python3"
  },
  "language_info": {
   "codemirror_mode": {
    "name": "ipython",
    "version": 3
   },
   "file_extension": ".py",
   "mimetype": "text/x-python",
   "name": "python",
   "nbconvert_exporter": "python",
   "pygments_lexer": "ipython3",
   "version": "3.8.5"
  }
 },
 "nbformat": 4,
 "nbformat_minor": 4
}
